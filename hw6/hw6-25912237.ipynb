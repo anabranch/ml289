{
 "cells": [
  {
   "cell_type": "code",
   "execution_count": 118,
   "metadata": {
    "collapsed": false
   },
   "outputs": [
    {
     "name": "stdout",
     "output_type": "stream",
     "text": [
      "The autoreload extension is already loaded. To reload it, use:\n",
      "  %reload_ext autoreload\n"
     ]
    }
   ],
   "source": [
    "%matplotlib inline\n",
    "%load_ext autoreload\n",
    "import numpy as np\n",
    "import pandas as pd\n",
    "import scipy as sp\n",
    "import scipy.io\n",
    "import datetime\n",
    "from sklearn.cross_validation import train_test_split\n",
    "from sklearn.preprocessing import normalize\n",
    "from sklearn.utils import shuffle\n",
    "\n",
    "import matplotlib.pyplot as plt\n",
    "import matplotlib\n",
    "%matplotlib inline"
   ]
  },
  {
   "cell_type": "code",
   "execution_count": 119,
   "metadata": {
    "collapsed": false
   },
   "outputs": [
    {
     "name": "stdout",
     "output_type": "stream",
     "text": [
      "Modules to reload:\n",
      "loader neuralnet\n",
      "\n",
      "Modules to skip:\n",
      "\n"
     ]
    }
   ],
   "source": [
    "import loader\n",
    "import neuralnet\n",
    "%aimport neuralnet\n",
    "%aimport loader\n",
    "%aimport"
   ]
  },
  {
   "cell_type": "markdown",
   "metadata": {},
   "source": [
    "# Problem 1\n",
    "\n",
    "$ y_0 = 784x1, y_1 = 200x1, y_2 = 10 x 1$\n",
    "\n",
    "$z_1 = 200x1, z_2 = 10 x 1$\n",
    "\n",
    "$b_1 = 200x1, b_2 = 10 x 1$\n",
    "\n",
    "$w_1 = 784x200, w_2 =  200x1$\n",
    "\n",
    "$g = \\dfrac{1}{1 + e^{-z}}$\n",
    "\n",
    "$t = tanh(z)$\n",
    "\n",
    "Rather than adding a neuron, I've elected to just add an arbitrary, updating value to each $z$. Which is equivalent to adding another neuron.\n",
    "\n",
    "$$\\dfrac{\\partial L}{w^l} = y^{l-1} \\dfrac{\\partial L}{\\partial z^l}^T$$\n",
    "\n",
    "$$\\dfrac{\\partial L}{w^2} = y^{1} \\dfrac{\\partial L}{\\partial z^2}^T$$\n",
    "$$ = y^1 (diag(g'(z^2 + b^2)) \\cdot \\dfrac{\\partial L}{\\partial y^2})^T$$\n",
    "\n",
    "$$ w^2 \\leftarrow w^2 - \\eta * \\dfrac{\\partial L}{w^2}$$\n",
    "\n",
    "$$\\dfrac{\\partial L}{w^1} = y^{0} \\dfrac{\\partial L}{\\partial z^1}^T$$\n",
    "$$ = y^0 (diag(t'(z^1 + b^1)) \\cdot \\dfrac{\\partial L}{\\partial y^1})^T$$\n",
    "$$ = y^0 (diag(t'(z^1 + b^1)) \\cdot w^2 \\cdot \\dfrac{\\partial L}{\\partial z^2})^T$$\n",
    "\n",
    "$$ w^1 \\leftarrow w^1 - \\eta * \\dfrac{\\partial L}{w^l}$$\n",
    "\n",
    "The benefit of backprop is being able to cache the results from the previous delta.\n",
    "\n",
    "### Squared Loss:\n",
    "\n",
    "$$\\dfrac{\\partial L}{w^l} = y^0 (diag( 1 - tanh^2(z^1 + b^1)) \\cdot w^2 \\cdot (diag(g(z^2 + b^2)(1 - g(z^2 + b^2))) \\cdot (y^2 - y)))^T$$\n",
    "\n",
    "$$\\dfrac{\\partial L}{w^2} = y^1 (diag(g(z^2 + b^2)(1 - g(z^2 + b^2)) \\cdot (y^2 - y)))^T$$\n",
    "\n",
    "### Cross-Entropy Loss:\n",
    "\n",
    "$$\\dfrac{\\partial L}{w^l} = y^0 (diag( 1 - tanh^2(z^1 + b^1)) \\cdot w^2 \\cdot (diag(g(z^2 + b^2)(1 - g(z^2 + b^2))) \\cdot -(\\dfrac{y}{y^2}- \\dfrac{1 - y}{1 - y^2})))^T$$\n",
    "\n",
    "$$\\dfrac{\\partial L}{w^2} = y^1 (diag(g(z^2 + b^2)(1 - g(z^2 + b^2)) \\cdot-(\\dfrac{y}{y^2}- \\dfrac{1 - y}{1 - y^2})))^T$$\n"
   ]
  },
  {
   "cell_type": "code",
   "execution_count": 198,
   "metadata": {
    "collapsed": true
   },
   "outputs": [],
   "source": [
    "def squared_error(y, y_hat):\n",
    "    return (y - y_hat).dot((y - y_hat))\n",
    "\n",
    "def squared_error_prime(y, y_hat):\n",
    "    return -1 * (y - y_hat)\n",
    "\n",
    "def cross_ent(y, y_hat):\n",
    "    part1 = y.dot(np.log(y_hat))\n",
    "    part2 = (1.0 - y).dot(np.nan_to_num(np.log(1.0 - y_hat)))\n",
    "    return -(part1 + part2)\n",
    "\n",
    "def cross_ent_prime(y, y_hat):\n",
    "    part1 = y / y_hat\n",
    "    part2 = (1 - y)/(1 - y_hat)\n",
    "    return -(part1 - part2)\n",
    "    \n",
    "def t(z):\n",
    "    return np.tanh(z)\n",
    "\n",
    "def t_prime(z):\n",
    "    return 1 - np.power(t(z), 2)\n",
    "\n",
    "def g(z):\n",
    "    return (1.0 / (1.0 + np.exp(-z)))\n",
    "\n",
    "def g_prime(z):\n",
    "    return g(z) * (1 - g(z))"
   ]
  },
  {
   "cell_type": "code",
   "execution_count": 206,
   "metadata": {
    "collapsed": false,
    "scrolled": false
   },
   "outputs": [
    {
     "name": "stdout",
     "output_type": "stream",
     "text": [
      "Total Train Time 0.058928\n",
      "{'num_iters': 100, 'end': datetime.datetime(2015, 11, 22, 19, 32, 23, 984451), 'start': datetime.datetime(2015, 11, 22, 19, 32, 23, 925523)}\n"
     ]
    },
    {
     "name": "stderr",
     "output_type": "stream",
     "text": [
      "/Users/bill_chambers/AeroFS/Dev/ml289/hw6/neuralnet.py:109: FutureWarning: comparison to `None` will result in an elementwise object comparison in the future.\n",
      "  \n"
     ]
    },
    {
     "data": {
      "text/plain": [
       "<matplotlib.axes._subplots.AxesSubplot at 0x10cc766d8>"
      ]
     },
     "execution_count": 206,
     "metadata": {},
     "output_type": "execute_result"
    },
    {
     "data": {
      "image/png": "[encoded data removed]",
      "text/plain": [
       "<matplotlib.figure.Figure at 0x10cc98240>"
      ]
     },
     "metadata": {},
     "output_type": "display_data"
    }
   ],
   "source": [
    "%autoreload\n",
    "X, y = loader.fake_data()\n",
    "input_dim = len(X[0])\n",
    "output_dim = len(y[0])\n",
    "hl_size = 50\n",
    "layer1 = neuralnet.Layer((input_dim, hl_size), t, t_prime)\n",
    "layer2 = neuralnet.OutputLayer((hl_size, output_dim), g, g_prime)\n",
    "nn = neuralnet.NeuralNet(layer1, layer2, cross_ent, cross_ent_prime)\n",
    "nn.train(X, y, XVal=X, yVal=y, num_iters=100)\n",
    "print(nn.train_params)\n",
    "nn.resulting_scores()[['val_score', 'iter']].plot(x='iter')"
   ]
  },
  {
   "cell_type": "markdown",
   "metadata": {},
   "source": [
    "# Problem 2\n",
    "\n",
    "1. Parameters are inline below, weights are initialized normally around $\\mu = 1, \\sigma=0.01$\n",
    "2. Training and Validation Accuracies are listed below.\n",
    "3. Train time is listed below.\n",
    "4. Plots are below. I only report every 20,000 iterations.\n",
    "5. The cross entropy seemed to perform much better. Simply in terms of the equation it seems to be a more sophisticated measure of the loss. Therefore we could expect it to perform better. This aligned with the results, as it allowed me to descend faster and get to a much smaller error rate overall.\n",
    "\n",
    "Kaggle Score for 200k iterations, 0.01 learning rate, squared loss = .929\n",
    "\n",
    "Kaggle Score for 200k iterations, 0.01 learning rate, cross entropy loss = \n",
    "\n",
    "*it's interesting to note that these had the exact same initialization values (for w's)*"
   ]
  },
  {
   "cell_type": "code",
   "execution_count": 221,
   "metadata": {
    "collapsed": false
   },
   "outputs": [
    {
     "name": "stdout",
     "output_type": "stream",
     "text": [
      "Mean of y: 4.44715555556\n",
      "Num Trainings 45000\n"
     ]
    }
   ],
   "source": [
    "train_dict = loader.load_training_data() # loader.py\n",
    "X = train_dict['X']\n",
    "y = train_dict['y']\n",
    "print(\"Mean of y:\", y.mean())\n",
    "y = pd.get_dummies(y).values\n",
    "\n",
    "XVal = train_dict['XVal']\n",
    "yVal = pd.get_dummies(train_dict['yVal']).values\n",
    "\n",
    "print(\"Num Training Examples:\", len(X))"
   ]
  },
  {
   "cell_type": "markdown",
   "metadata": {},
   "source": [
    "## Squared Error Loss"
   ]
  },
  {
   "cell_type": "code",
   "execution_count": 232,
   "metadata": {
    "collapsed": false
   },
   "outputs": [
    {
     "name": "stdout",
     "output_type": "stream",
     "text": [
      "Total Train Time 356.77 Seconds\n"
     ]
    },
    {
     "name": "stderr",
     "output_type": "stream",
     "text": [
      "/Users/bill_chambers/AeroFS/Dev/ml289/hw6/neuralnet.py:109: FutureWarning: comparison to `None` will result in an elementwise object comparison in the future.\n",
      "  if XVal != None:\n"
     ]
    }
   ],
   "source": [
    "%autoreload\n",
    "input_dim = len(X[0])\n",
    "output_dim = len(y[0])\n",
    "hl_size = 200\n",
    "\n",
    "layer1 = neuralnet.Layer((input_dim, hl_size), t, t_prime)\n",
    "layer2 = neuralnet.OutputLayer((hl_size, output_dim), g, g_prime)\n",
    "\n",
    "nn = neuralnet.NeuralNet(layer1, layer2, squared_error, squared_error_prime)\n",
    "nn.train(X, y, num_iters=200000, score_every=20000, eta=0.01, XVal=XVal, yVal=yVal)"
   ]
  },
  {
   "cell_type": "code",
   "execution_count": 233,
   "metadata": {
    "collapsed": false
   },
   "outputs": [
    {
     "name": "stdout",
     "output_type": "stream",
     "text": [
      "Parameters used {'score_every': 20000, 'num_iters': 200000, 'eta': 0.01, 'end': datetime.datetime(2015, 11, 22, 20, 44, 47, 953189), 'start': datetime.datetime(2015, 11, 22, 20, 38, 51, 182716)}\n",
      "Training Accuracy 0.0680666666667\n",
      "Validation Accuracy 0.074\n"
     ]
    },
    {
     "data": {
      "image/png": "[encoded data removed]",
      "text/plain": [
       "<matplotlib.figure.Figure at 0x10c15b5c0>"
      ]
     },
     "metadata": {},
     "output_type": "display_data"
    }
   ],
   "source": [
    "print(\"Parameters used\", nn.train_params)\n",
    "nn.resulting_scores()[['val_score', 'iter']].plot(x='iter')\n",
    "print(\"Training Accuracy\", nn.score(X,y)/len(X))\n",
    "print(\"Validation Accuracy\", nn.score(XVal,yVal)/len(XVal))"
   ]
  },
  {
   "cell_type": "markdown",
   "metadata": {},
   "source": [
    "## Cross Entropy Loss\n"
   ]
  },
  {
   "cell_type": "code",
   "execution_count": 222,
   "metadata": {
    "collapsed": false
   },
   "outputs": [
    {
     "name": "stdout",
     "output_type": "stream",
     "text": [
      "Total Train Time 345.30 Seconds\n"
     ]
    },
    {
     "name": "stderr",
     "output_type": "stream",
     "text": [
      "/Users/bill_chambers/AeroFS/Dev/ml289/hw6/neuralnet.py:109: FutureWarning: comparison to `None` will result in an elementwise object comparison in the future.\n",
      "  \n"
     ]
    }
   ],
   "source": [
    "%autoreload\n",
    "input_dim = len(X[0])\n",
    "output_dim = len(y[0])\n",
    "hl_size = 200\n",
    "\n",
    "layer1 = neuralnet.Layer((input_dim, hl_size), t, t_prime)\n",
    "layer2 = neuralnet.OutputLayer((hl_size, output_dim), g, g_prime)\n",
    "\n",
    "nn = neuralnet.NeuralNet(layer1, layer2, cross_ent, cross_ent_prime)\n",
    "nn.train(X, y, num_iters=200000, score_every=20000, eta=0.01, XVal=XVal, yVal=yVal)"
   ]
  },
  {
   "cell_type": "code",
   "execution_count": 228,
   "metadata": {
    "collapsed": false
   },
   "outputs": [
    {
     "name": "stdout",
     "output_type": "stream",
     "text": [
      "Parameters used {'score_every': 20000, 'num_iters': 200000, 'eta': 0.01, 'end': datetime.datetime(2015, 11, 22, 20, 33, 34, 499609), 'start': datetime.datetime(2015, 11, 22, 20, 27, 49, 198979)}\n",
      "Training Accuracy 0.015\n",
      "Validation Accuracy 0.0328666666667\n"
     ]
    },
    {
     "data": {
      "image/png": "[encoded data removed]",
      "text/plain": [
       "<matplotlib.figure.Figure at 0x10c09aba8>"
      ]
     },
     "metadata": {},
     "output_type": "display_data"
    }
   ],
   "source": [
    "print(\"Parameters used\", nn.train_params)\n",
    "nn.resulting_scores()[['val_score', 'iter']].plot(x='iter')\n",
    "print(\"Training Accuracy\", nn.score(X,y)/len(X))\n",
    "print(\"Validation Accuracy\", nn.score(XVal,yVal)/len(XVal))"
   ]
  },
  {
   "cell_type": "code",
   "execution_count": 229,
   "metadata": {
    "collapsed": true
   },
   "outputs": [],
   "source": [
    "kaggleTest = loader.load_test_data()\n",
    "preds = nn.predict(kaggleTest)\n",
    "df = pd.DataFrame(preds).reset_index()\n",
    "df.columns = ['id', 'category']\n",
    "df.id = df.id + 1\n",
    "df.to_csv(\"cross_ent 200000 iters.csv\",index=None)"
   ]
  }
 ],
 "metadata": {
  "kernelspec": {
   "display_name": "Python 3",
   "language": "python",
   "name": "python3"
  },
  "language_info": {
   "codemirror_mode": {
    "name": "ipython",
    "version": 3
   },
   "file_extension": ".py",
   "mimetype": "text/x-python",
   "name": "python",
   "nbconvert_exporter": "python",
   "pygments_lexer": "ipython3",
   "version": "3.5.0"
  }
 },
 "nbformat": 4,
 "nbformat_minor": 0
}
