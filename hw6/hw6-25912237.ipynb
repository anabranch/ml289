{
 "cells": [
  {
   "cell_type": "code",
   "execution_count": 3,
   "metadata": {
    "collapsed": false
   },
   "outputs": [
    {
     "name": "stderr",
     "output_type": "stream",
     "text": [
      "/Library/Frameworks/Python.framework/Versions/3.5/lib/python3.5/site-packages/sklearn/utils/fixes.py:64: DeprecationWarning: inspect.getargspec() is deprecated, use inspect.signature() instead\n",
      "  if 'order' in inspect.getargspec(np.copy)[0]:\n"
     ]
    }
   ],
   "source": [
    "import numpy as np\n",
    "import pandas as pd\n",
    "import scipy as sp\n",
    "import scipy.io\n",
    "import datetime\n",
    "from sklearn.cross_validation import train_test_split\n",
    "from sklearn.preprocessing import normalize\n",
    "import loader"
   ]
  },
  {
   "cell_type": "code",
   "execution_count": 2,
   "metadata": {
    "collapsed": false
   },
   "outputs": [
    {
     "name": "stdout",
     "output_type": "stream",
     "text": [
      "dict_keys(['XVal', 'yVal', 'X', 'y'])\n"
     ]
    }
   ],
   "source": [
    "train_dict = loader.load_training_data()\n",
    "print(train_dict.keys())"
   ]
  },
  {
   "cell_type": "code",
   "execution_count": 3,
   "metadata": {
    "collapsed": true
   },
   "outputs": [],
   "source": [
    "X = train_dict['X']\n",
    "y = train_dict['y']"
   ]
  },
  {
   "cell_type": "code",
   "execution_count": 12,
   "metadata": {
    "collapsed": false
   },
   "outputs": [
    {
     "name": "stdout",
     "output_type": "stream",
     "text": [
      "[ 0.          0.          0.          0.          0.          0.          0.\n",
      "  0.          0.          0.          0.          0.          0.          0.\n",
      "  0.          0.          0.          0.          0.          0.          0.\n",
      "  0.          0.          0.          0.          0.          0.          0.\n",
      "  0.          0.          0.          0.          0.          0.          0.\n",
      "  0.          0.          0.          0.          0.          0.          0.\n",
      "  0.          0.          0.          0.          0.          0.          0.\n",
      "  0.          0.          0.          0.          0.          0.          0.\n",
      "  0.          0.          0.          0.          0.          0.          0.\n",
      "  0.          0.          0.          0.          0.          0.          0.\n",
      "  0.          0.          0.          0.          0.          0.          0.\n",
      "  0.          0.          0.          0.          0.          0.          0.\n",
      "  0.          0.          0.          0.          0.          0.          0.\n",
      "  0.          0.          0.          0.          0.          0.          0.\n",
      "  0.          0.          0.          0.          0.          0.          0.\n",
      "  0.          0.          0.          0.          0.          0.          0.\n",
      "  0.          0.          0.          0.          0.          0.          0.\n",
      "  0.          0.          0.          0.          0.          0.          0.\n",
      "  0.          0.          0.          0.          0.          0.          0.\n",
      "  0.          0.          0.          0.          0.          0.          0.\n",
      "  0.          0.          0.          0.          0.          0.          0.\n",
      "  0.          0.          0.          0.          0.          0.          0.\n",
      "  0.          0.          0.          0.          0.          0.          0.\n",
      "  0.06666667  0.30196078  0.16470588  0.          0.          0.          0.\n",
      "  0.          0.          0.          0.          0.          0.          0.\n",
      "  0.          0.          0.          0.          0.          0.          0.\n",
      "  0.          0.          0.          0.          0.          0.\n",
      "  0.54509804  0.75294118  0.99607843  0.97647059  0.77647059  0.          0.\n",
      "  0.          0.          0.          0.          0.          0.          0.\n",
      "  0.          0.          0.          0.          0.          0.          0.\n",
      "  0.          0.          0.          0.          0.          0.\n",
      "  0.11372549  0.85882353  0.91764706  0.83529412  0.99607843  0.99215686\n",
      "  0.45882353  0.          0.          0.          0.          0.          0.\n",
      "  0.          0.          0.          0.          0.          0.          0.\n",
      "  0.          0.          0.          0.          0.          0.\n",
      "  0.03529412  0.61960784  0.60784314  0.67843137  0.45098039  0.16078431\n",
      "  0.99607843  0.99607843  0.94509804  0.          0.          0.          0.\n",
      "  0.          0.          0.          0.          0.          0.          0.\n",
      "  0.          0.          0.          0.          0.          0.          0.\n",
      "  0.          0.38039216  0.99607843  0.9372549   0.22745098  0.0745098\n",
      "  0.09019608  0.91372549  0.99607843  0.84313725  0.          0.          0.\n",
      "  0.          0.          0.          0.          0.          0.          0.\n",
      "  0.21176471  0.68235294  0.7372549   0.58823529  0.01176471  0.          0.\n",
      "  0.          0.23137255  0.94117647  0.99607843  0.44705882  0.          0.\n",
      "  0.13333333  0.94901961  0.99607843  0.64705882  0.          0.          0.\n",
      "  0.          0.          0.          0.          0.          0.          0.\n",
      "  0.6627451   0.99607843  0.99607843  0.99607843  0.66666667  0.00784314\n",
      "  0.          0.          0.59215686  0.99607843  0.7372549   0.          0.\n",
      "  0.0745098   0.79607843  0.99607843  0.99607843  0.40784314  0.          0.\n",
      "  0.          0.          0.          0.          0.          0.          0.\n",
      "  0.16862745  0.9254902   0.99607843  0.99607843  0.99607843  0.99607843\n",
      "  0.6627451   0.12156863  0.21176471  0.93333333  0.99607843  0.40784314\n",
      "  0.          0.          0.53333333  0.99607843  0.99607843  0.84705882\n",
      "  0.00784314  0.          0.          0.          0.          0.          0.\n",
      "  0.          0.          0.          0.67843137  0.99607843  0.99607843\n",
      "  0.5372549   0.56078431  0.99607843  0.99607843  0.75294118  0.9254902\n",
      "  0.99607843  0.93333333  0.01960784  0.          0.26666667  0.93333333\n",
      "  0.99607843  0.89411765  0.21176471  0.          0.          0.          0.\n",
      "  0.          0.          0.          0.          0.          0.\n",
      "  0.94901961  0.99607843  0.8745098   0.02745098  0.15686275  0.88235294\n",
      "  0.99607843  0.99607843  0.99607843  0.99607843  0.98823529  0.62352941\n",
      "  0.63921569  0.81176471  0.76862745  0.85098039  0.25882353  0.          0.\n",
      "  0.          0.          0.          0.          0.          0.          0.\n",
      "  0.          0.18823529  0.97254902  0.99607843  0.81568627  0.          0.\n",
      "  0.05882353  0.77647059  0.99607843  0.99607843  0.99607843  0.99607843\n",
      "  0.99607843  0.99607843  0.40392157  0.09803922  0.08627451  0.          0.\n",
      "  0.          0.          0.          0.          0.          0.          0.\n",
      "  0.          0.          0.65098039  0.99607843  0.99607843  0.51372549\n",
      "  0.07058824  0.01960784  0.          0.28235294  0.99607843  0.99607843\n",
      "  0.98823529  0.80392157  0.79607843  0.46666667  0.00784314  0.          0.\n",
      "  0.          0.          0.          0.          0.          0.          0.\n",
      "  0.          0.          0.          0.          0.89803922  0.99607843\n",
      "  0.99607843  0.90196078  0.96470588  0.16470588  0.          0.41568627\n",
      "  0.99607843  0.99607843  0.61960784  0.          0.          0.          0.\n",
      "  0.          0.          0.          0.          0.          0.          0.\n",
      "  0.          0.          0.          0.          0.          0.\n",
      "  0.88627451  0.99607843  0.99607843  0.99607843  0.6745098   0.          0.\n",
      "  0.63137255  0.99607843  0.99607843  0.29019608  0.          0.          0.\n",
      "  0.          0.          0.          0.          0.          0.          0.\n",
      "  0.          0.          0.          0.          0.          0.          0.\n",
      "  0.87843137  0.99607843  0.99607843  0.90980392  0.09411765  0.          0.\n",
      "  0.7254902   0.99607843  0.89019608  0.06666667  0.          0.          0.\n",
      "  0.          0.          0.          0.          0.          0.          0.\n",
      "  0.          0.          0.          0.          0.          0.          0.\n",
      "  0.67843137  0.99607843  0.99607843  0.21568627  0.          0.          0.\n",
      "  0.98431373  0.99607843  0.74901961  0.          0.          0.          0.\n",
      "  0.          0.          0.          0.          0.          0.          0.\n",
      "  0.          0.          0.          0.          0.          0.          0.\n",
      "  0.09019608  0.68235294  0.70196078  0.02352941  0.          0.          0.\n",
      "  0.98431373  0.99607843  0.29411765  0.          0.          0.          0.\n",
      "  0.          0.          0.          0.          0.          0.          0.\n",
      "  0.          0.          0.          0.          0.          0.          0.\n",
      "  0.          0.          0.          0.          0.          0.\n",
      "  0.03921569  0.98431373  0.89411765  0.06666667  0.          0.          0.\n",
      "  0.          0.          0.          0.          0.          0.          0.\n",
      "  0.          0.          0.          0.          0.          0.          0.\n",
      "  0.          0.          0.          0.          0.          0.          0.\n",
      "  0.2         0.97254902  0.36470588  0.          0.          0.          0.\n",
      "  0.          0.          0.          0.          0.          0.          0.\n",
      "  0.          0.          0.          0.          0.          0.          0.\n",
      "  0.          0.          0.          0.          0.          0.          0.\n",
      "  0.          0.18823529  0.02352941  0.          0.          0.          0.\n",
      "  0.          0.          0.          0.          0.          0.          0.\n",
      "  0.          0.          0.          0.          0.          0.          0.\n",
      "  0.          0.          0.          0.          0.          0.          0.\n",
      "  0.          0.          0.          0.          0.          0.          0.\n",
      "  0.          0.          0.          0.          0.          0.          0.\n",
      "  0.          0.          0.          0.          0.          0.          0.\n",
      "  0.          0.          0.          0.          0.          0.          0.\n",
      "  0.          0.          0.          0.          0.          0.          0.\n",
      "  0.          0.          0.          0.          0.          0.          0.\n",
      "  0.          0.          0.          0.          0.          0.          0.\n",
      "  0.          0.          0.          0.          0.          0.          0.\n",
      "  0.          0.          0.          0.          0.          0.          0.\n",
      "  0.          0.          0.          0.          0.          0.          0.\n",
      "  0.          0.        ]\n",
      "8\n"
     ]
    }
   ],
   "source": [
    "print(X[0])\n",
    "print(y[0])"
   ]
  },
  {
   "cell_type": "code",
   "execution_count": 5,
   "metadata": {
    "collapsed": true
   },
   "outputs": [],
   "source": [
    "# from sklearn.datasets import make_classification\n",
    "\n",
    "# X, y = make_classification(500, n_features=2, n_informative=2, n_redundant=0, n_repeated=0)\n",
    "# pd.DataFrame({\"x1\":X[:,0], \"x2\":X[:,1],\"y\":y}).plot(kind='scatter',x='x1', y='x2', c='y')\n",
    "# y = pd.get_dummies(y).values\n"
   ]
  },
  {
   "cell_type": "code",
   "execution_count": 6,
   "metadata": {
    "collapsed": false
   },
   "outputs": [],
   "source": [
    "def add_bias(in_val):\n",
    "    return np.vstack([in_val, np.ones(len(in_val[0]))])\n",
    "\n",
    "def initialize_layer(input_dim, output_dim, seed):\n",
    "    np.random.seed(seed)\n",
    "    z = np.random.normal(0,0.01,output_dim)\n",
    "    y = np.random.normal(0,0.01,output_dim)\n",
    "    w = np.random.normal(0,0.01,(input_dim, output_dim))\n",
    "    b = np.ones(output_dim)\n",
    "    return z, y, w, b"
   ]
  },
  {
   "cell_type": "code",
   "execution_count": 10,
   "metadata": {
    "collapsed": false
   },
   "outputs": [],
   "source": [
    "def squared_loss_raw(y,y_2): return np.power((y - y_2), 2)\n",
    "def squared_loss_deriv_raw(y, y_2): return (y_2 - y)\n",
    "squared_loss = np.vectorize(squared_loss_raw)\n",
    "squared_loss_deriv = np.vectorize(squared_loss_deriv_raw)\n",
    "\n",
    "def calc_dEdz2(y_2, y, cost_deriv):\n",
    "    return np.diag(\n",
    "        np.multiply(y_2, np.subtract(1, y_2))\n",
    "    ).dot(cost_deriv(y, y_2))\n",
    "\n",
    "def calc_dEdz1(z_1, w_2, dEdz2):\n",
    "    return np.diag(\n",
    "        np.subtract(1, np.power(np.tanh(z_1), 2))\n",
    "    ).dot(w_2).dot(dEdz2)\n",
    "\n",
    "def predictNN(seq, X):\n",
    "    temp = X\n",
    "    for comm in seq:\n",
    "        if callable(comm):\n",
    "            temp = comm(temp)\n",
    "        else:\n",
    "            temp = temp.dot(comm)\n",
    "    return temp.argmax(axis=1)\n",
    "\n",
    "def scoreNN(seq, X, y):\n",
    "    preds = predictNN(seq, X)\n",
    "    return sum(preds != y) / len(preds)"
   ]
  },
  {
   "cell_type": "code",
   "execution_count": 11,
   "metadata": {
    "collapsed": false,
    "scrolled": false
   },
   "outputs": [
    {
     "name": "stdout",
     "output_type": "stream",
     "text": [
      "------------------------- Initialization\n",
      "Start Time: 2015-11-19T16:46:32.603486\n",
      "epoch_length 10000\n",
      "hidden_layer_size 200\n",
      "eta 1\n",
      "epochs 30\n",
      "seed 20\n",
      "------------------------- Training\n",
      "Epoch 0 \tEpoch Train Time: 14.81\n",
      "Training Error: 0.90105\n",
      "--------------------\n",
      "Epoch 1 \tEpoch Train Time: 18.95\n",
      "Training Error: 0.90105\n",
      "--------------------\n",
      "Epoch 2 \tEpoch Train Time: 18.34\n",
      "Training Error: 0.90105\n",
      "--------------------\n",
      "Epoch 3 \tEpoch Train Time: 21.01\n",
      "Training Error: 0.90105\n",
      "--------------------\n"
     ]
    },
    {
     "ename": "KeyboardInterrupt",
     "evalue": "",
     "output_type": "error",
     "traceback": [
      "\u001b[0;31m---------------------------------------------------------------------------\u001b[0m",
      "\u001b[0;31mKeyboardInterrupt\u001b[0m                         Traceback (most recent call last)",
      "\u001b[0;32m<ipython-input-11-c76df867808a>\u001b[0m in \u001b[0;36m<module>\u001b[0;34m()\u001b[0m\n\u001b[1;32m     99\u001b[0m     \u001b[0;32mreturn\u001b[0m \u001b[0mprediction_sequence\u001b[0m\u001b[0;34m\u001b[0m\u001b[0m\n\u001b[1;32m    100\u001b[0m \u001b[0;34m\u001b[0m\u001b[0m\n\u001b[0;32m--> 101\u001b[0;31m \u001b[0mseq\u001b[0m \u001b[0;34m=\u001b[0m \u001b[0mtrainNN\u001b[0m\u001b[0;34m(\u001b[0m\u001b[0mX\u001b[0m\u001b[0;34m,\u001b[0m \u001b[0my\u001b[0m\u001b[0;34m,\u001b[0m \u001b[0mparams\u001b[0m\u001b[0;34m)\u001b[0m\u001b[0;34m\u001b[0m\u001b[0m\n\u001b[0m",
      "\u001b[0;32m<ipython-input-11-c76df867808a>\u001b[0m in \u001b[0;36mtrainNN\u001b[0;34m(X, y, params)\u001b[0m\n\u001b[1;32m     74\u001b[0m \u001b[0;34m\u001b[0m\u001b[0m\n\u001b[1;32m     75\u001b[0m             \u001b[0;31m# updates\u001b[0m\u001b[0;34m\u001b[0m\u001b[0;34m\u001b[0m\u001b[0m\n\u001b[0;32m---> 76\u001b[0;31m             \u001b[0mw_1\u001b[0m \u001b[0;34m-=\u001b[0m \u001b[0meta\u001b[0m \u001b[0;34m*\u001b[0m \u001b[0mdEdw1\u001b[0m\u001b[0;34m\u001b[0m\u001b[0m\n\u001b[0m\u001b[1;32m     77\u001b[0m             \u001b[0mw_2\u001b[0m \u001b[0;34m-=\u001b[0m \u001b[0meta\u001b[0m \u001b[0;34m*\u001b[0m \u001b[0mdEdw2\u001b[0m\u001b[0;34m\u001b[0m\u001b[0m\n\u001b[1;32m     78\u001b[0m \u001b[0;31m#             b_1 -= eta * np.sum(dEdz1, axis=0)\u001b[0m\u001b[0;34m\u001b[0m\u001b[0;34m\u001b[0m\u001b[0m\n",
      "\u001b[0;31mKeyboardInterrupt\u001b[0m: "
     ]
    }
   ],
   "source": [
    "params = {\n",
    "    \"hidden_layer_size\": 200,\n",
    "    \"eta\":1,\n",
    "    \"epochs\": 30,\n",
    "    \"seed\": 20,\n",
    "    \"epoch_length\": 10000,\n",
    "    \n",
    "    \"cost_func\": squared_loss,\n",
    "    \"cost_func_deriv\": squared_loss_deriv\n",
    "}\n",
    "\n",
    "def fix_params(params, X):\n",
    "    if params.get(\"epoch_length\", 0) == 0:\n",
    "        params['epoch_length'] = len(X)\n",
    "        \n",
    "    if params.get(\"seed\", 0) == 0:\n",
    "        params['seed'] = 100    \n",
    "    return params\n",
    "\n",
    "def trainNN(X, y, params):\n",
    "    params = fix_params(params, X)\n",
    "\n",
    "    hl_size = params['hidden_layer_size']\n",
    "    eta = params['eta']\n",
    "    epoch_length = params['epoch_length']\n",
    "    seed = params['seed']\n",
    "    feature_dim = len(X[0])\n",
    "    output_dim = 10\n",
    "    start_time = datetime.datetime.now()\n",
    "    last = start_time\n",
    "    training_errors = []\n",
    "    validation_errors = []\n",
    "    \n",
    "    cost = params['cost_func']\n",
    "    cost_deriv = params['cost_func_deriv']\n",
    "\n",
    "    z_1, y_1, w_1, b_1 = initialize_layer(feature_dim, hl_size, seed)\n",
    "    z_2, y_2, w_2, b_2 = initialize_layer(hl_size, output_dim, seed)\n",
    "    \n",
    "    dEdw2 = np.zeros((hl_size, output_dim))\n",
    "    dEdw1 = np.zeros((feature_dim, hl_size))\n",
    "    \n",
    "    print(\"-\"*25, \"Initialization\") \n",
    "    print(\"Start Time:\", start_time.isoformat())\n",
    "    for k, v in params.items():\n",
    "        if \"func\" not in str(v): print(k, v)\n",
    "    print(\"-\"*25, \"Training\")\n",
    "    for epoch in range(params['epochs']):\n",
    "\n",
    "        for _ in range(epoch_length):\n",
    "            training_point = int(np.random.choice(len(y), 1))\n",
    "            y_0, truth = X[training_point], y[training_point]\n",
    "            \n",
    "            # forward pass\n",
    "            y_0.dot(w_1, out=z_1)\n",
    "            z_1 += b_1 # add bias\n",
    "            np.tanh(z_1, out=y_1)\n",
    "            \n",
    "            y_1.dot(w_2, out=z_2)\n",
    "            z_2 += b_2 # add bias\n",
    "            g = lambda z_2: 1 / (1 + np.exp(np.multiply(-1, z_2)))\n",
    "            y_2 = g(z_2)\n",
    "            \n",
    "\n",
    "            # cache\n",
    "            dEdz2 = calc_dEdz2(y_2, truth, cost_deriv)\n",
    "            dEdz1 = calc_dEdz1(z_1, w_2, dEdz2)\n",
    "\n",
    "            # backprop\n",
    "#             print(dEdz2.shape)\n",
    "#             print(dEdz1.shape)\n",
    "            y_1.reshape(200,1).dot(dEdz2.reshape(1,10), out=dEdw2)\n",
    "            y_0.reshape(784,1).dot(dEdz1.reshape(1,200), out=dEdw1)\n",
    "\n",
    "            # updates\n",
    "            w_1 -= eta * dEdw1\n",
    "            w_2 -= eta * dEdw2\n",
    "#             b_1 -= eta * np.sum(dEdz1, axis=0)\n",
    "#             b_2 -= eta * np.sum(dEdz2, axis=0)\n",
    "            \n",
    "   \n",
    "        prediction_sequence = [w_1, lambda x: x + b_1, np.tanh, \n",
    "                               w_2, lambda x: x + b_2, np.vectorize(lambda x: 1 / 1 + np.exp(-1 * x))]\n",
    "        print(\"Epoch\", epoch, \"\\tEpoch Train Time: %.2f\" % (datetime.datetime.now() - last).total_seconds())\n",
    "        last = datetime.datetime.now()\n",
    "        train_score = scoreNN(prediction_sequence, X, y)\n",
    "        print(\"Training Error: %.5f\" % train_score)\n",
    "#         validation_score = scoreNN(prediction_sequence, Xt, yt)\n",
    "#         print(\"Validation Error: %.5f\" % validation_score)\n",
    "        if train_score > 0.99:\n",
    "            print(\"Error too high\")\n",
    "            break\n",
    "        print(\"-\"*20)\n",
    "\n",
    "    \n",
    "    end_time = datetime.datetime.now()\n",
    "    print(\"End Time:\", end_time.isoformat())\n",
    "    print(\"Total Seconds: %.2f\" % (end_time - start_time).total_seconds())\n",
    "    return prediction_sequence\n",
    "\n",
    "seq = trainNN(X, y, params)"
   ]
  },
  {
   "cell_type": "code",
   "execution_count": null,
   "metadata": {
    "collapsed": false
   },
   "outputs": [],
   "source": [
    "kaggle_out = pd.DataFrame(predictNN(seq, kaggleTest)).reset_index()\n",
    "kaggle_out.columns = ['Id', 'Category']\n",
    "kaggle_out.Id = kaggle_out.Id + 1\n",
    "t = str(datetime.datetime.now())\n",
    "fname = \"Kaggle prediction \" + t + \".csv\"\n",
    "print(fname)"
   ]
  },
  {
   "cell_type": "code",
   "execution_count": null,
   "metadata": {
    "collapsed": true
   },
   "outputs": [],
   "source": [
    "kaggle_out.to_csv(fname, index=None)"
   ]
  },
  {
   "cell_type": "code",
   "execution_count": 4,
   "metadata": {
    "collapsed": true
   },
   "outputs": [],
   "source": [
    "def squared_error(y, y_hat):\n",
    "    return (y - y_hat).dot((y - y_hat))\n",
    "\n",
    "def squared_error_der(y, y_hat):\n",
    "    return -1 * (y - y_hat)\n",
    "\n",
    "def t(z):\n",
    "    return np.tanh(z)\n",
    "\n",
    "def t_der(z):\n",
    "    return 1 - np.power(t(z), 2)\n",
    "\n",
    "def g(z):\n",
    "    return (1 / (1 + np.exp(-1 * z)))\n",
    "\n",
    "def g_der(z):\n",
    "    return g(z) * (1 - g(z))\n",
    "\n",
    "def dEdz2(z_2, y_2, y, loss_der):\n",
    "    return np.multiply(g_der(z_2), loss_der(y, y_2))\n",
    "\n",
    "def dEdz1(z_1, w_2, dEdz2_cached):\n",
    "    return np.diag(t_der(z_1)).dot(w_2).dot(dEdz2_cached)\n",
    "\n",
    "def l2_deriv(y_1, dEdz2_cached):\n",
    "    return np.outer(y_1, dEdz2_cached.T)\n",
    "\n",
    "def l1_deriv(y_0, dEdz1_cached):\n",
    "    return np.outer(y_0, dEdz1_cached.T)"
   ]
  },
  {
   "cell_type": "code",
   "execution_count": 8,
   "metadata": {
    "collapsed": false
   },
   "outputs": [
    {
     "data": {
      "text/plain": [
       "0.0066480566707900332"
      ]
     },
     "execution_count": 8,
     "metadata": {},
     "output_type": "execute_result"
    }
   ],
   "source": [
    "g_der(5)"
   ]
  },
  {
   "cell_type": "code",
   "execution_count": null,
   "metadata": {
    "collapsed": true
   },
   "outputs": [],
   "source": []
  }
 ],
 "metadata": {
  "kernelspec": {
   "display_name": "Python 3",
   "language": "python",
   "name": "python3"
  },
  "language_info": {
   "codemirror_mode": {
    "name": "ipython",
    "version": 3
   },
   "file_extension": ".py",
   "mimetype": "text/x-python",
   "name": "python",
   "nbconvert_exporter": "python",
   "pygments_lexer": "ipython3",
   "version": "3.5.0"
  }
 },
 "nbformat": 4,
 "nbformat_minor": 0
}
