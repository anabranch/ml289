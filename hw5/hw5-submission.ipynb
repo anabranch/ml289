{
 "cells": [
  {
   "cell_type": "code",
   "execution_count": 11,
   "metadata": {
    "collapsed": false
   },
   "outputs": [],
   "source": [
    "%matplotlib inline\n",
    "%load_ext autoreload\n",
    "%autoreload 1"
   ]
  },
  {
   "cell_type": "code",
   "execution_count": 12,
   "metadata": {
    "collapsed": false
   },
   "outputs": [],
   "source": [
    "import scipy as sp\n",
    "import scipy.io\n",
    "import numpy as np\n",
    "import pandas as pd\n",
    "import matplotlib.pyplot as plt\n",
    "\n",
    "from numpy.random import choice\n",
    "from decision_tree.decision_tree import DecisionTree\n",
    "from sklearn.preprocessing import Imputer\n",
    "from sklearn.preprocessing import LabelEncoder\n",
    "%aimport decision_tree"
   ]
  },
  {
   "cell_type": "code",
   "execution_count": 13,
   "metadata": {
    "collapsed": false
   },
   "outputs": [
    {
     "name": "stdout",
     "output_type": "stream",
     "text": [
      "Modules to reload:\n",
      "decision_tree\n",
      "\n",
      "Modules to skip:\n",
      "\n"
     ]
    }
   ],
   "source": [
    "%aimport"
   ]
  },
  {
   "cell_type": "code",
   "execution_count": 14,
   "metadata": {
    "collapsed": false
   },
   "outputs": [],
   "source": [
    "def preprocess(mtx):\n",
    "    pass"
   ]
  },
  {
   "cell_type": "markdown",
   "metadata": {},
   "source": [
    "# Spam"
   ]
  },
  {
   "cell_type": "code",
   "execution_count": 15,
   "metadata": {
    "collapsed": false
   },
   "outputs": [],
   "source": [
    "spam = scipy.io.loadmat(\"spam-dataset/spam_data.mat\")"
   ]
  },
  {
   "cell_type": "code",
   "execution_count": 16,
   "metadata": {
    "collapsed": false
   },
   "outputs": [],
   "source": [
    "spam_raw_train_X = spam['training_data']\n",
    "spam_raw_train_y = spam['training_labels'].reshape((5172,))\n",
    "spam_raw_test_X = spam['test_data']"
   ]
  },
  {
   "cell_type": "code",
   "execution_count": 17,
   "metadata": {
    "collapsed": false
   },
   "outputs": [
    {
     "data": {
      "text/plain": [
       "array([1, 1, 1, 1, 1])"
      ]
     },
     "execution_count": 17,
     "metadata": {},
     "output_type": "execute_result"
    }
   ],
   "source": [
    "spam_raw_train_y[:5]"
   ]
  },
  {
   "cell_type": "code",
   "execution_count": 18,
   "metadata": {
    "collapsed": false
   },
   "outputs": [
    {
     "data": {
      "text/plain": [
       "5172"
      ]
     },
     "execution_count": 18,
     "metadata": {},
     "output_type": "execute_result"
    }
   ],
   "source": [
    "len(spam_raw_train_X)"
   ]
  },
  {
   "cell_type": "code",
   "execution_count": 62,
   "metadata": {
    "collapsed": false,
    "scrolled": false
   },
   "outputs": [
    {
     "name": "stdout",
     "output_type": "stream",
     "text": [
      "Length: 5172\n",
      "{'split': 0.0, 'feature': 28, 'impurity': 0.5356232555220839}\n",
      "training left node - depth: 0\n",
      "Length: 3881\n",
      "{'split': 0.0, 'feature': 19, 'impurity': 0.4371285543568546}\n",
      "training left node - depth: 1\n",
      "Length: 3258\n",
      "{'split': 0.0, 'feature': 16, 'impurity': 0.50467317894992503}\n",
      "training left node - depth: 2\n",
      "Length: 3098\n",
      "{'split': 0.0, 'feature': 13, 'impurity': 0.53613698171732904}\n",
      "training left node - depth: 3\n",
      "training right node - depth: 3\n",
      "training right node - depth: 2\n",
      "Length: 160\n",
      "{'split': 0.0, 'feature': 13, 'impurity': 0.0}\n",
      "training left node - depth: 3\n",
      "training right node - depth: 3\n",
      "training right node - depth: 1\n",
      "Length: 623\n",
      "{'split': 0.0, 'feature': 30, 'impurity': 0.0}\n",
      "training left node - depth: 2\n",
      "Length: 619\n",
      "{'split': 0.0, 'feature': 26, 'impurity': 0.0}\n",
      "training left node - depth: 3\n",
      "training right node - depth: 3\n",
      "training right node - depth: 2\n",
      "training right node - depth: 0\n",
      "Length: 1291\n",
      "{'split': 1.0, 'feature': 27, 'impurity': 0.65231232296926778}\n",
      "training left node - depth: 1\n",
      "Length: 1213\n",
      "{'split': 0.0, 'feature': 9, 'impurity': 0.65134899276211211}\n",
      "training left node - depth: 2\n",
      "Length: 1167\n",
      "{'split': 0.0, 'feature': 31, 'impurity': 0.60820051293093602}\n",
      "training left node - depth: 3\n",
      "training right node - depth: 3\n",
      "training right node - depth: 2\n",
      "Length: 46\n",
      "{'split': 0.0, 'feature': 23, 'impurity': 0.0}\n",
      "training left node - depth: 3\n",
      "training right node - depth: 3\n",
      "training right node - depth: 1\n",
      "Length: 78\n",
      "{'split': 0.0, 'feature': 6, 'impurity': 0.23725470963342529}\n",
      "training left node - depth: 2\n",
      "Length: 77\n",
      "{'split': 33.0, 'feature': 27, 'impurity': 0.20280727014039385}\n",
      "training left node - depth: 3\n",
      "training right node - depth: 3\n",
      "training right node - depth: 2\n"
     ]
    }
   ],
   "source": [
    "%autoreload\n",
    "dt = DecisionTree({\n",
    "        \"max_depth\":4,\n",
    "        \"min_points\": 10\n",
    "    })\n",
    "dt.train(spam_raw_train_X, spam_raw_train_y)\n",
    "dt.predict(spam_raw_test_X)"
   ]
  },
  {
   "cell_type": "code",
   "execution_count": 60,
   "metadata": {
    "collapsed": false
   },
   "outputs": [
    {
     "name": "stdout",
     "output_type": "stream",
     "text": [
      "Feature: 0, Rule: 0.000\n"
     ]
    }
   ],
   "source": [
    "print(dt.node)"
   ]
  },
  {
   "cell_type": "code",
   "execution_count": 61,
   "metadata": {
    "collapsed": false
   },
   "outputs": [
    {
     "data": {
      "text/plain": [
       "Decision Tree\n",
       " Max depth: 3 \n",
       " Node: Feature: 29, Rule: 0.000"
      ]
     },
     "execution_count": 61,
     "metadata": {},
     "output_type": "execute_result"
    }
   ],
   "source": [
    "dt.node.right"
   ]
  },
  {
   "cell_type": "code",
   "execution_count": 45,
   "metadata": {
    "collapsed": false
   },
   "outputs": [
    {
     "data": {
      "text/plain": [
       "Decision Tree\n",
       " Max depth: 1 \n",
       " Node: Feature: 28, Rule: 0.000"
      ]
     },
     "execution_count": 45,
     "metadata": {},
     "output_type": "execute_result"
    }
   ],
   "source": [
    "dt.node.left"
   ]
  },
  {
   "cell_type": "code",
   "execution_count": 71,
   "metadata": {
    "collapsed": false
   },
   "outputs": [],
   "source": [
    "x = spam_raw_train_X"
   ]
  },
  {
   "cell_type": "markdown",
   "metadata": {},
   "source": [
    "# Census"
   ]
  },
  {
   "cell_type": "code",
   "execution_count": null,
   "metadata": {
    "collapsed": true
   },
   "outputs": [],
   "source": [
    "census = pd.read_csv(\"census-dataset/data.csv\", na_values=[\"?\"])"
   ]
  },
  {
   "cell_type": "code",
   "execution_count": 18,
   "metadata": {
    "collapsed": true
   },
   "outputs": [],
   "source": [
    "categoricals = [\"workclass\", \"education\", \"marital-status\", \"occupation\", \"relationship\", \"race\", \"sex\", \"native-country\"]"
   ]
  },
  {
   "cell_type": "code",
   "execution_count": null,
   "metadata": {
    "collapsed": true
   },
   "outputs": [],
   "source": []
  }
 ],
 "metadata": {
  "kernelspec": {
   "display_name": "Python 3",
   "language": "python",
   "name": "python3"
  },
  "language_info": {
   "codemirror_mode": {
    "name": "ipython",
    "version": 3
   },
   "file_extension": ".py",
   "mimetype": "text/x-python",
   "name": "python",
   "nbconvert_exporter": "python",
   "pygments_lexer": "ipython3",
   "version": "3.5.0"
  }
 },
 "nbformat": 4,
 "nbformat_minor": 0
}
