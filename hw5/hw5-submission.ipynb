{
 "cells": [
  {
   "cell_type": "code",
   "execution_count": 17,
   "metadata": {
    "collapsed": false
   },
   "outputs": [
    {
     "name": "stdout",
     "output_type": "stream",
     "text": [
      "The autoreload extension is already loaded. To reload it, use:\n",
      "  %reload_ext autoreload\n"
     ]
    }
   ],
   "source": [
    "%matplotlib inline\n",
    "%load_ext autoreload\n",
    "%autoreload 1"
   ]
  },
  {
   "cell_type": "code",
   "execution_count": 18,
   "metadata": {
    "collapsed": false
   },
   "outputs": [],
   "source": [
    "import scipy as sp\n",
    "import scipy.io\n",
    "import numpy as np\n",
    "import pandas as pd\n",
    "import matplotlib.pyplot as plt\n",
    "\n",
    "from numpy.random import choice\n",
    "from tree.tree import DecisionTree, RandomForest\n",
    "from sklearn.preprocessing import Imputer\n",
    "from sklearn.preprocessing import LabelEncoder\n",
    "from sklearn.cross_validation import train_test_split\n",
    "%aimport tree"
   ]
  },
  {
   "cell_type": "code",
   "execution_count": 19,
   "metadata": {
    "collapsed": false
   },
   "outputs": [
    {
     "name": "stdout",
     "output_type": "stream",
     "text": [
      "Modules to reload:\n",
      "tree\n",
      "\n",
      "Modules to skip:\n",
      "\n"
     ]
    }
   ],
   "source": [
    "%aimport"
   ]
  },
  {
   "cell_type": "markdown",
   "metadata": {},
   "source": [
    "# Spam"
   ]
  },
  {
   "cell_type": "code",
   "execution_count": 20,
   "metadata": {
    "collapsed": false
   },
   "outputs": [],
   "source": [
    "spam = scipy.io.loadmat(\"spam-dataset/spam_data.mat\")"
   ]
  },
  {
   "cell_type": "code",
   "execution_count": 21,
   "metadata": {
    "collapsed": false
   },
   "outputs": [],
   "source": [
    "spam_raw_train_X = spam['training_data']\n",
    "spam_raw_train_y = spam['training_labels'].reshape((5172,))\n",
    "spam_raw_test_X = spam['test_data']\n",
    "shuff = choice(len(spam_raw_train_X), len(spam_raw_train_X), False)\n",
    "spam_raw_train_X = spam['training_data'][shuff]\n",
    "spam_raw_train_y = spam['training_labels'].reshape((5172,))[shuff]\n",
    "spam_raw_test_X = spam['test_data']"
   ]
  },
  {
   "cell_type": "code",
   "execution_count": 96,
   "metadata": {
    "collapsed": true
   },
   "outputs": [],
   "source": [
    "a1, b1, at, bt = train_test_split(spam_raw_train_X, spam_raw_train_y, test_size=0.65)"
   ]
  },
  {
   "cell_type": "code",
   "execution_count": 97,
   "metadata": {
    "collapsed": false
   },
   "outputs": [
    {
     "name": "stdout",
     "output_type": "stream",
     "text": [
      "1810 3362\n"
     ]
    }
   ],
   "source": [
    "print(len(a1), len(b1))"
   ]
  },
  {
   "cell_type": "markdown",
   "metadata": {},
   "source": [
    "## Spam Decision Tree"
   ]
  },
  {
   "cell_type": "code",
   "execution_count": 103,
   "metadata": {
    "collapsed": false,
    "scrolled": true
   },
   "outputs": [
    {
     "name": "stdout",
     "output_type": "stream",
     "text": [
      "0.783759666865\n"
     ]
    }
   ],
   "source": [
    "%autoreload\n",
    "dt = DecisionTree({\n",
    "        \"max_depth\":50,\n",
    "        \"min_points\": 1\n",
    "    })\n",
    "dt.train(a1, at)\n",
    "scored = dt.score(b1, bt)\n",
    "print(sum(scored)/len(scored))\n",
    "# 0.74317"
   ]
  },
  {
   "cell_type": "code",
   "execution_count": 104,
   "metadata": {
    "collapsed": false
   },
   "outputs": [
    {
     "data": {
      "text/html": [
       "<div>\n",
       "<table border=\"1\" class=\"dataframe\">\n",
       "  <thead>\n",
       "    <tr style=\"text-align: right;\">\n",
       "      <th></th>\n",
       "      <th>index</th>\n",
       "      <th>0</th>\n",
       "    </tr>\n",
       "  </thead>\n",
       "  <tbody>\n",
       "    <tr>\n",
       "      <th>0</th>\n",
       "      <td>0</td>\n",
       "      <td>1</td>\n",
       "    </tr>\n",
       "    <tr>\n",
       "      <th>1</th>\n",
       "      <td>1</td>\n",
       "      <td>1</td>\n",
       "    </tr>\n",
       "    <tr>\n",
       "      <th>2</th>\n",
       "      <td>2</td>\n",
       "      <td>0</td>\n",
       "    </tr>\n",
       "    <tr>\n",
       "      <th>3</th>\n",
       "      <td>3</td>\n",
       "      <td>0</td>\n",
       "    </tr>\n",
       "    <tr>\n",
       "      <th>4</th>\n",
       "      <td>4</td>\n",
       "      <td>0</td>\n",
       "    </tr>\n",
       "  </tbody>\n",
       "</table>\n",
       "</div>"
      ],
      "text/plain": [
       "   index  0\n",
       "0      0  1\n",
       "1      1  1\n",
       "2      2  0\n",
       "3      3  0\n",
       "4      4  0"
      ]
     },
     "execution_count": 104,
     "metadata": {},
     "output_type": "execute_result"
    }
   ],
   "source": [
    "spam_out = pd.DataFrame(dt.predict(spam_raw_test_X)).reset_index()\n",
    "spam_out.head()"
   ]
  },
  {
   "cell_type": "code",
   "execution_count": 105,
   "metadata": {
    "collapsed": true
   },
   "outputs": [],
   "source": [
    "spam_out.columns = ['Id', 'Category']\n",
    "spam_out.Id = spam_out.Id + 1\n",
    "spam_out.to_csv(\"spam_prediction.csv\", index=False)"
   ]
  },
  {
   "cell_type": "markdown",
   "metadata": {},
   "source": [
    "## Spam Random Forest"
   ]
  },
  {
   "cell_type": "code",
   "execution_count": 111,
   "metadata": {
    "collapsed": true
   },
   "outputs": [],
   "source": [
    "# Kaggle: 0.78108"
   ]
  },
  {
   "cell_type": "code",
   "execution_count": 125,
   "metadata": {
    "collapsed": false,
    "scrolled": true
   },
   "outputs": [
    {
     "name": "stdout",
     "output_type": "stream",
     "text": [
      "Random Forest. 50 Trees\n",
      "trained all trees\n",
      "0.795657346817\n"
     ]
    }
   ],
   "source": [
    "%autoreload\n",
    "rf = RandomForest({\n",
    "        'ntrees': 50,\n",
    "        },{\n",
    "        \"max_depth\": 8,\n",
    "        \"min_points\": 1,\n",
    "        'random_subset': True,\n",
    "        'subset_size': 10\n",
    "        })\n",
    "print(rf)\n",
    "rf.train(a1, at)\n",
    "scored = rf.score(b1, bt)\n",
    "#print(pd.DataFrame([scored, bt]).T)\n",
    "print(sum(scored)/len(scored))\n",
    "# scored = rf.score(a1, at)\n",
    "# print(sum(scored)/len(scored))"
   ]
  },
  {
   "cell_type": "code",
   "execution_count": 126,
   "metadata": {
    "collapsed": false
   },
   "outputs": [],
   "source": [
    "spam_out = pd.DataFrame(rf.predict(spam_raw_test_X)).reset_index()\n",
    "spam_out.head()\n",
    "spam_out.columns = ['Id', 'Category']\n",
    "spam_out.Id = spam_out.Id + 1\n",
    "spam_out.to_csv(\"rf_spam_prediction.csv\", index=False)"
   ]
  },
  {
   "cell_type": "markdown",
   "metadata": {},
   "source": [
    "# Census"
   ]
  },
  {
   "cell_type": "code",
   "execution_count": 155,
   "metadata": {
    "collapsed": false
   },
   "outputs": [],
   "source": [
    "census = pd.read_csv(\"census-dataset/data.csv\", na_values=[\"?\"])\n",
    "census_test = pd.read_csv(\"census-dataset/test_data.csv\", na_values=[\"?\"])"
   ]
  },
  {
   "cell_type": "code",
   "execution_count": 156,
   "metadata": {
    "collapsed": false
   },
   "outputs": [],
   "source": [
    "categoricals = [\"workclass\", \"education\", \"marital-status\", \"occupation\", \"relationship\", \"race\", \"sex\", \"native-country\"]\n",
    "non_categoricals = list(set(census.columns).difference(set(categoricals)).difference(set([\"label\"])))"
   ]
  },
  {
   "cell_type": "code",
   "execution_count": 157,
   "metadata": {
    "collapsed": false
   },
   "outputs": [
    {
     "data": {
      "text/plain": [
       "(32724, 15)"
      ]
     },
     "execution_count": 157,
     "metadata": {},
     "output_type": "execute_result"
    }
   ],
   "source": [
    "census.shape"
   ]
  },
  {
   "cell_type": "code",
   "execution_count": 158,
   "metadata": {
    "collapsed": false
   },
   "outputs": [
    {
     "name": "stdout",
     "output_type": "stream",
     "text": [
      "(32724, 105) (32724,)\n"
     ]
    }
   ],
   "source": [
    "census_X = np.hstack([census[non_categoricals].values, pd.get_dummies(census[categoricals]).values])\n",
    "census_y = census.label.values\n",
    "census_test_X = np.hstack([census_test[non_categoricals].values, pd.get_dummies(census_test[categoricals]).values])\n",
    "print(census_X.shape, census_y.shape)\n",
    "c1, c21, c1t, c2t = train_test_split(spam_raw_train_X, spam_raw_train_y, test_size=.65)"
   ]
  },
  {
   "cell_type": "markdown",
   "metadata": {},
   "source": [
    "## Census Decision Tree"
   ]
  },
  {
   "cell_type": "code",
   "execution_count": 159,
   "metadata": {
    "collapsed": false
   },
   "outputs": [
    {
     "name": "stdout",
     "output_type": "stream",
     "text": [
      "0.776621058894\n"
     ]
    }
   ],
   "source": [
    "%autoreload\n",
    "dt2 = DecisionTree({\n",
    "        \"max_depth\":1000,\n",
    "        \"min_points\": 15\n",
    "    })\n",
    "dt2.train(c1, c1t)\n",
    "scored = dt2.score(c21, c2t)\n",
    "print(sum(scored)/len(scored))"
   ]
  },
  {
   "cell_type": "code",
   "execution_count": 160,
   "metadata": {
    "collapsed": false
   },
   "outputs": [
    {
     "name": "stdout",
     "output_type": "stream",
     "text": [
      "   index  0\n",
      "0      0  0\n",
      "1      1  0\n",
      "2      2  0\n",
      "3      3  0\n",
      "4      4  0\n",
      "16118\n"
     ]
    }
   ],
   "source": [
    "census_out = pd.DataFrame(dt2.predict(census_test_X)).reset_index()\n",
    "print(census_out.head())\n",
    "print(len(census_out))\n",
    "census_out.columns = ['Id', 'Category']\n",
    "census_out.Id = census_out.Id + 1\n",
    "census_out.to_csv(\"dt_census_prediction.csv\", index=False)"
   ]
  },
  {
   "cell_type": "markdown",
   "metadata": {},
   "source": [
    "## Census Random Forest"
   ]
  },
  {
   "cell_type": "code",
   "execution_count": 161,
   "metadata": {
    "collapsed": false
   },
   "outputs": [
    {
     "name": "stdout",
     "output_type": "stream",
     "text": [
      "Random Forest. 50 Trees\n",
      "trained all trees\n",
      "0.781380130874\n"
     ]
    }
   ],
   "source": [
    "%autoreload\n",
    "rf2 = RandomForest({\n",
    "        'ntrees': 50,\n",
    "        },{\n",
    "        \"max_depth\": 20,\n",
    "        \"min_points\": 20,\n",
    "        'random_subset': True,\n",
    "        'subset_size': 30\n",
    "        })\n",
    "print(rf)\n",
    "rf2.train(c1, c1t)\n",
    "scored = rf2.score(c21, c2t)\n",
    "#print(pd.DataFrame([scored, bt]).T)\n",
    "print(sum(scored)/len(scored))\n",
    "# scored = rf.score(a1, at)\n",
    "# print(sum(scored)/len(scored))"
   ]
  },
  {
   "cell_type": "code",
   "execution_count": 162,
   "metadata": {
    "collapsed": false
   },
   "outputs": [
    {
     "name": "stdout",
     "output_type": "stream",
     "text": [
      "   index  0\n",
      "0      0  0\n",
      "1      1  0\n",
      "2      2  0\n",
      "3      3  0\n",
      "4      4  0\n",
      "16118\n"
     ]
    }
   ],
   "source": [
    "census_out = pd.DataFrame(rf2.predict(census_test_X)).reset_index()\n",
    "print(census_out.head())\n",
    "print(len(census_out))\n",
    "census_out.columns = ['Id', 'Category']\n",
    "census_out.Id = census_out.Id + 1\n",
    "census_out.to_csv(\"rf_census_prediction.csv\", index=False)"
   ]
  },
  {
   "cell_type": "code",
   "execution_count": null,
   "metadata": {
    "collapsed": true
   },
   "outputs": [],
   "source": []
  }
 ],
 "metadata": {
  "kernelspec": {
   "display_name": "Python 3",
   "language": "python",
   "name": "python3"
  },
  "language_info": {
   "codemirror_mode": {
    "name": "ipython",
    "version": 3
   },
   "file_extension": ".py",
   "mimetype": "text/x-python",
   "name": "python",
   "nbconvert_exporter": "python",
   "pygments_lexer": "ipython3",
   "version": "3.5.0"
  }
 },
 "nbformat": 4,
 "nbformat_minor": 0
}
