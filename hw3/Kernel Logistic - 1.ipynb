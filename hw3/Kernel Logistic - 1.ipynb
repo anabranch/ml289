{
 "cells": [
  {
   "cell_type": "markdown",
   "metadata": {},
   "source": [
    "This one doesn't seem to be doing any converging, I've just got this oscillation around the value. But it seems right because it's lower."
   ]
  },
  {
   "cell_type": "code",
   "execution_count": 1,
   "metadata": {
    "collapsed": true
   },
   "outputs": [],
   "source": [
    "%matplotlib inline\n",
    "import numpy as np\n",
    "import scipy as sp\n",
    "import scipy.io\n",
    "import pandas as pd\n",
    "import seaborn as sns\n",
    "import matplotlib.pyplot as plt\n",
    "sns.set(color_codes=True)"
   ]
  },
  {
   "cell_type": "code",
   "execution_count": 2,
   "metadata": {
    "collapsed": true
   },
   "outputs": [],
   "source": [
    "def standardize_cols(X):\n",
    "    zscore = lambda x: (x.mean() - x)/x.std()\n",
    "    return pd.DataFrame(X).apply(zscore).values\n",
    "\n",
    "def binarize_cols(X):\n",
    "    temp = X.copy()\n",
    "    temp[temp > 0] = 1\n",
    "    temp[temp <= 0] = 0\n",
    "    return temp"
   ]
  },
  {
   "cell_type": "code",
   "execution_count": 3,
   "metadata": {
    "collapsed": false
   },
   "outputs": [
    {
     "name": "stdout",
     "output_type": "stream",
     "text": [
      "(3450, 57) (3450,) (1151, 57)\n",
      "(3450, 58) (3450, 58) (3450, 58) (3450, 58)\n"
     ]
    }
   ],
   "source": [
    "spam_data = scipy.io.loadmat(\"data/spam.mat\")\n",
    "Xraw = pd.DataFrame(spam_data['Xtrain'])\n",
    "y = spam_data['Ytrain'].reshape((3450,))\n",
    "Xtestraw = pd.DataFrame(spam_data['Xtest'])\n",
    "print(Xraw.shape, y.shape, Xtestraw.shape)\n",
    "\n",
    "stan_X = pd.DataFrame(standardize_cols(Xraw.values))\n",
    "log_X = pd.DataFrame(np.log(Xraw.values + 0.1))\n",
    "bin_X = pd.DataFrame(binarize_cols(Xraw.values))\n",
    "stan_X[57] = 1\n",
    "log_X[57] = 1\n",
    "bin_X[57] = 1\n",
    "Xraw[57] = 1\n",
    "X = Xraw.values\n",
    "stan_X = stan_X.values\n",
    "log_X = log_X.values\n",
    "bin_X = bin_X.values\n",
    "print(X.shape, stan_X.shape, log_X.shape, bin_X.shape)"
   ]
  },
  {
   "cell_type": "code",
   "execution_count": 4,
   "metadata": {
    "collapsed": false
   },
   "outputs": [],
   "source": [
    "from random import shuffle\n",
    "\n",
    "def quadratic_kernel(xi, X):\n",
    "    return (np.dot(X, xi) + 1) ** 2\n",
    "\n",
    "def quadratic_kernel_f(xi, X, alphai):\n",
    "#    pre = alpha * quadratic_kernel(xi, X)\n",
    "# there seems to be something possibly weird in here\n",
    "# pre is the un summed version\n",
    "#    print(np.dot(alpha, quadratic_kernel(xi, X)))\n",
    "\n",
    "#     print(quadratic_kernel(xi, X))\n",
    "#     print(alphai)\n",
    "#     print(np.dot(alphai, quadratic_kernel(xi, X)))\n",
    "    t1 = quadratic_kernel(xi, X)\n",
    "    temp = np.dot(alphai, t1)\n",
    "#     print(type(temp))\n",
    "#     print(type(t1))\n",
    "    \n",
    "    \n",
    "    return np.sum(temp)\n",
    "\n",
    "#    return np.dot(alphai, quadratic_kernel(xi, X))\n",
    "    \n",
    "def quadratic_kernel_ridge_sgd(xi, yi, X, alphai, alpha, gamma, lr):\n",
    "    fx = quadratic_kernel_f(xi, X, alphai)\n",
    "    z = np.dot(yi, fx)\n",
    "    sz =1 / (1 + np.exp(-z))\n",
    "    new_alpha = alphai - ((gamma * alphai) + (lr * sz * yi))\n",
    "    risk = np.log(1 + np.exp(-z))\n",
    "    return new_alpha, risk\n",
    "\n",
    "def qkrsgd_wrapper(X, y, gamma, lr, num_iters):\n",
    "    shuff = list(range(len(X)))\n",
    "    shuffle(shuff)\n",
    "    alpha = np.repeat([0.000000001], len(X))\n",
    "    X = X[shuff]\n",
    "    y = y[shuff]\n",
    "    risks = []\n",
    "    for count in range(num_iters):\n",
    "        for count1, (xi, yi, alphai) in enumerate(zip(X, y, alpha)):\n",
    "            new_alpha, risk = quadratic_kernel_ridge_sgd(xi, yi, X, alphai, alpha, gamma, 1/(count + 1))\n",
    "            alpha[count1] = new_alpha\n",
    "            alpha[:count1] = alpha[:count1] - gamma * alpha[:count1]\n",
    "            alpha[count1+1:] = alpha[count1+1:] - gamma * alpha[count1+1:]\n",
    "#             print(\"---\")\n",
    "#             print(risk)\n",
    "#             print(\"----\")\n",
    "            if count1 % 10 == 0:\n",
    "                risks.append(risk) \n",
    "    return alpha, pd.DataFrame({ \"risk\" : risks })"
   ]
  },
  {
   "cell_type": "code",
   "execution_count": 5,
   "metadata": {
    "collapsed": true
   },
   "outputs": [],
   "source": [
    "from random import shuffle\n",
    "\n",
    "def quadratic_kernel(xi, X):\n",
    "    return (np.dot(X, xi) + 1) ** 2\n",
    "\n",
    "def quadratic_kernel_f(xi, X, alphai):\n",
    "#    pre = alpha * quadratic_kernel(xi, X)\n",
    "# there seems to be something possibly weird in here\n",
    "# pre is the un summed version\n",
    "#    print(np.dot(alpha, quadratic_kernel(xi, X)))\n",
    "\n",
    "#     print(quadratic_kernel(xi, X))\n",
    "#     print(alphai)\n",
    "#     print(np.dot(alphai, quadratic_kernel(xi, X)))\n",
    "    t1 = quadratic_kernel(xi, X)\n",
    "    temp = np.dot(alphai, t1)\n",
    "#     print(type(temp))\n",
    "#     print(type(t1))\n",
    "    \n",
    "    \n",
    "    return np.sum(temp)\n",
    "\n",
    "#    return np.dot(alphai, quadratic_kernel(xi, X))\n",
    "\n",
    "def qkrsgd_wrapper(X, y, gamma, lr, num_iters):\n",
    "    shuff = list(range(len(X)))\n",
    "    shuffle(shuff)\n",
    "    alpha = np.repeat([0.000000001], len(X))\n",
    "    X = X[shuff]\n",
    "    y = y[shuff]\n",
    "    risks = []\n",
    "    for count in range(num_iters):\n",
    "        for count1, (xi, yi, alphai) in enumerate(zip(X, y, alpha)):\n",
    "            fx = quadratic_kernel_f(xi, X, alphai)\n",
    "            z = np.dot(yi, fx)\n",
    "            sz = 1 / (1 + np.exp(-z))\n",
    "            lr = 1/(count + 1)\n",
    "            new_alpha = alphai - ((gamma * alphai) + (lr * sz * yi))\n",
    "            \n",
    "            alpha[count1] = new_alpha\n",
    "#             alpha[:count1] = alpha[:count1] - gamma * alpha[:count1]\n",
    "#             alpha[count1+1:] = alpha[count1+1:] - gamma * alpha[count1+1:]\n",
    "\n",
    "\n",
    "#             print(\"---\")\n",
    "#             print(risk)\n",
    "#             print(\"----\")\n",
    "            if count1 % 10 == 0:\n",
    "                risk = np.log(1 + np.exp(-z))\n",
    "                risks.append(risk) \n",
    "    return alpha, pd.DataFrame({\"risk\":risks})"
   ]
  },
  {
   "cell_type": "code",
   "execution_count": 6,
   "metadata": {
    "collapsed": true
   },
   "outputs": [],
   "source": [
    "tx, ty = stan_X[:12], y[:12]"
   ]
  },
  {
   "cell_type": "code",
   "execution_count": 7,
   "metadata": {
    "collapsed": false
   },
   "outputs": [],
   "source": [
    "w2, risks2 = qkrsgd_wrapper(X, y, 10e-5, 0.05, 10)"
   ]
  },
  {
   "cell_type": "code",
   "execution_count": 8,
   "metadata": {
    "collapsed": false
   },
   "outputs": [
    {
     "data": {
      "text/plain": [
       "<matplotlib.axes._subplots.AxesSubplot at 0x10852c160>"
      ]
     },
     "execution_count": 8,
     "metadata": {},
     "output_type": "execute_result"
    },
    {
     "data": {
      "image/png": "[encoded data removed]",
      "text/plain": [
       "<matplotlib.figure.Figure at 0x10853a7b8>"
      ]
     },
     "metadata": {},
     "output_type": "display_data"
    }
   ],
   "source": [
    "risks2.plot(ylim=(0, 2000))"
   ]
  },
  {
   "cell_type": "code",
   "execution_count": null,
   "metadata": {
    "collapsed": true
   },
   "outputs": [],
   "source": []
  }
 ],
 "metadata": {
  "kernelspec": {
   "display_name": "Python 3",
   "language": "python",
   "name": "python3"
  },
  "language_info": {
   "codemirror_mode": {
    "name": "ipython",
    "version": 3
   },
   "file_extension": ".py",
   "mimetype": "text/x-python",
   "name": "python",
   "nbconvert_exporter": "python",
   "pygments_lexer": "ipython3",
   "version": "3.5.0"
  }
 },
 "nbformat": 4,
 "nbformat_minor": 0
}
