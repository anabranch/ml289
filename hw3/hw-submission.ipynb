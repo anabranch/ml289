{
 "cells": [
  {
   "cell_type": "code",
   "execution_count": 323,
   "metadata": {
    "collapsed": false
   },
   "outputs": [],
   "source": [
    "%matplotlib inline\n",
    "import numpy as np\n",
    "import scipy as sp\n",
    "import scipy.io\n",
    "import pandas as pd\n",
    "import seaborn as sns\n",
    "import matplotlib.pyplot as plt\n",
    "sns.set(color_codes=True)"
   ]
  },
  {
   "cell_type": "markdown",
   "metadata": {},
   "source": [
    "# Problem 1\n",
    "## 1.1"
   ]
  },
  {
   "cell_type": "code",
   "execution_count": 324,
   "metadata": {
    "collapsed": false
   },
   "outputs": [],
   "source": [
    "housing_data = scipy.io.loadmat(\"data/housing_data.mat\")"
   ]
  },
  {
   "cell_type": "code",
   "execution_count": 325,
   "metadata": {
    "collapsed": false
   },
   "outputs": [
    {
     "name": "stdout",
     "output_type": "stream",
     "text": [
      "(19440, 8) (19440, 1)\n",
      "(1200, 8) (1200, 1)\n"
     ]
    }
   ],
   "source": [
    "raw_x_train = pd.DataFrame(housing_data['Xtrain'])\n",
    "raw_y_train = pd.DataFrame(housing_data['Ytrain'])\n",
    "raw_x_validate = pd.DataFrame(housing_data['Xvalidate'])\n",
    "raw_y_validate = pd.DataFrame(housing_data['Yvalidate'])\n",
    "print(raw_x_train.shape, raw_y_train.shape)\n",
    "print( raw_x_validate.shape,raw_y_validate.shape)"
   ]
  },
  {
   "cell_type": "code",
   "execution_count": 326,
   "metadata": {
    "collapsed": false
   },
   "outputs": [
    {
     "name": "stdout",
     "output_type": "stream",
     "text": [
      "(19440, 9) (19440, 1)\n",
      "(1200, 9) (1200, 1)\n"
     ]
    }
   ],
   "source": [
    "raw_x_train[9] = 1\n",
    "raw_x_validate[9] = 1\n",
    "print(raw_x_train.shape, raw_y_train.shape)\n",
    "print(raw_x_validate.shape, raw_y_validate.shape)"
   ]
  },
  {
   "cell_type": "code",
   "execution_count": 329,
   "metadata": {
    "collapsed": false
   },
   "outputs": [],
   "source": [
    "X = raw_x_train.values\n",
    "y = raw_y_train.values\n",
    "x_val = raw_x_validate.values\n",
    "y_val = raw_y_validate.values\n",
    "w = np.zeros((1,8))"
   ]
  },
  {
   "cell_type": "code",
   "execution_count": 330,
   "metadata": {
    "collapsed": false
   },
   "outputs": [
    {
     "data": {
      "text/plain": [
       "array([[  4.05879986e+04,   1.19561189e+03,  -8.50145688e+00,\n",
       "          1.18352188e+02,  -3.77900280e+01,   4.30562637e+01,\n",
       "         -4.21794075e+04,  -4.24573474e+04,   0.00000000e+00]])"
      ]
     },
     "execution_count": 330,
     "metadata": {},
     "output_type": "execute_result"
    }
   ],
   "source": [
    "from sklearn.linear_model import LinearRegression\n",
    "reg = LinearRegression()\n",
    "reg.fit(X, y)\n",
    "reg.coef_"
   ]
  },
  {
   "cell_type": "code",
   "execution_count": 331,
   "metadata": {
    "collapsed": false
   },
   "outputs": [
    {
     "name": "stdout",
     "output_type": "stream",
     "text": [
      "[  4.05879986e+04   1.19561189e+03  -8.50145688e+00   1.18352188e+02\n",
      "  -3.77900280e+01   4.30562637e+01  -4.21794075e+04  -4.24573474e+04\n",
      "  -3.56686439e+06]\n"
     ]
    }
   ],
   "source": [
    "w = np.dot(np.dot(np.linalg.inv(np.dot(X.T, X)), X.T),y)\n",
    "print(w.reshape((9,)))\n",
    "y_hat = np.dot(x_val,w)"
   ]
  },
  {
   "cell_type": "markdown",
   "metadata": {},
   "source": [
    "## 1.2"
   ]
  },
  {
   "cell_type": "code",
   "execution_count": 332,
   "metadata": {
    "collapsed": false
   },
   "outputs": [
    {
     "name": "stdout",
     "output_type": "stream",
     "text": [
      "RSS: 5794953797674\n",
      "R^2: 0.643\n",
      "Range of y Hat Values => Min: -56562 Max: 710798\n",
      "Range of True Y Values => Min: 28300 Max: 500001\n"
     ]
    }
   ],
   "source": [
    "rss = np.sum((y_val - y_hat) ** 2)\n",
    "tss = np.sum((y_val - np.mean(y_val)) ** 2)\n",
    "r_sqrd = 1 - (rss/tss)\n",
    "print(\"RSS: %i\" % rss)\n",
    "print(\"R^2: %.3f\" % r_sqrd)\n",
    "print(\"Range of y Hat Values => Min: %i Max: %i\" %(min(y_hat), max(y_hat)))\n",
    "print(\"Range of True Y Values => Min: %i Max: %i\" %(min(y_val), max(y_val)))"
   ]
  },
  {
   "cell_type": "code",
   "execution_count": 333,
   "metadata": {
    "collapsed": false,
    "scrolled": false
   },
   "outputs": [
    {
     "data": {
      "text/plain": [
       "<matplotlib.axes._subplots.AxesSubplot at 0x11c9af9b0>"
      ]
     },
     "execution_count": 333,
     "metadata": {},
     "output_type": "execute_result"
    },
    {
     "data": {
      "image/png": "[encoded data removed]",
      "text/plain": [
       "<matplotlib.figure.Figure at 0x11c7389b0>"
      ]
     },
     "metadata": {},
     "output_type": "display_data"
    }
   ],
   "source": [
    "f, axes = plt.subplots(1,2, figsize=(12,6), sharex=True)\n",
    "sns.boxplot(y_hat, orient='v', ax=axes[0])\n",
    "sns.boxplot(y_val, orient='v', ax=axes[1])"
   ]
  },
  {
   "cell_type": "code",
   "execution_count": 334,
   "metadata": {
    "collapsed": false
   },
   "outputs": [
    {
     "data": {
      "text/plain": [
       "<matplotlib.axes._subplots.AxesSubplot at 0x11ca8ebe0>"
      ]
     },
     "execution_count": 334,
     "metadata": {},
     "output_type": "execute_result"
    },
    {
     "data": {
      "image/png": "[encoded data removed]",
      "text/plain": [
       "<matplotlib.figure.Figure at 0x11ca41198>"
      ]
     },
     "metadata": {},
     "output_type": "display_data"
    }
   ],
   "source": [
    "f, axes = plt.subplots(1,2, figsize=(12,6), sharex=True)\n",
    "sns.distplot(y_hat, ax=axes[0])\n",
    "sns.distplot(y_val, ax=axes[1])"
   ]
  },
  {
   "cell_type": "markdown",
   "metadata": {},
   "source": [
    "## 1.3"
   ]
  },
  {
   "cell_type": "markdown",
   "metadata": {},
   "source": [
    "## 1.4"
   ]
  },
  {
   "cell_type": "code",
   "execution_count": 299,
   "metadata": {
    "collapsed": false
   },
   "outputs": [
    {
     "data": {
      "text/plain": [
       "<matplotlib.axes._subplots.AxesSubplot at 0x11b756ef0>"
      ]
     },
     "execution_count": 299,
     "metadata": {},
     "output_type": "execute_result"
    },
    {
     "data": {
      "image/png": "[encoded data removed]",
      "text/plain": [
       "<matplotlib.figure.Figure at 0x1197e9780>"
      ]
     },
     "metadata": {},
     "output_type": "display_data"
    }
   ],
   "source": [
    "pd.Series((y_val - y_hat).reshape((1200,))).plot(kind='hist',bins=20)"
   ]
  },
  {
   "cell_type": "markdown",
   "metadata": {},
   "source": [
    "This resembles the normal distribution! This is what we want out of our residuals - that our errors are drawn from a normal distribution and there isn't really any discernable patterns beyond the fact that no error is most common and large errors are rare."
   ]
  },
  {
   "cell_type": "markdown",
   "metadata": {},
   "source": [
    "# Problem 2"
   ]
  },
  {
   "cell_type": "markdown",
   "metadata": {},
   "source": [
    "$$\\dfrac{s}{x}$$"
   ]
  },
  {
   "cell_type": "markdown",
   "metadata": {},
   "source": [
    "# Problem 3"
   ]
  },
  {
   "cell_type": "code",
   "execution_count": 348,
   "metadata": {
    "collapsed": false
   },
   "outputs": [],
   "source": [
    "spam_data = scipy.io.loadmat(\"data/spam.mat\")\n",
    "X = spam_data['Xtrain']\n",
    "y = spam_data['Ytrain']\n",
    "Xtest = spam_data['Xtest']"
   ]
  },
  {
   "cell_type": "code",
   "execution_count": 349,
   "metadata": {
    "collapsed": false
   },
   "outputs": [
    {
     "name": "stdout",
     "output_type": "stream",
     "text": [
      "(3450, 57) (3450, 1) (1151, 57)\n"
     ]
    }
   ],
   "source": [
    "print(X.shape,y.shape,Xtest.shape)"
   ]
  },
  {
   "cell_type": "markdown",
   "metadata": {},
   "source": [
    "# Problem 4"
   ]
  },
  {
   "cell_type": "code",
   "execution_count": 360,
   "metadata": {
    "collapsed": true
   },
   "outputs": [],
   "source": [
    "def batch_gd(X, y, w, learning_rate, num_iter):\n",
    "    w_history = []\n",
    "    for it in range(num_iter):\n",
    "        w_history.append(w)\n",
    "        w = w - learning_rate * np.sum((y - np.dot(X,w.T))**2)\n",
    "    return w, w_history"
   ]
  },
  {
   "cell_type": "code",
   "execution_count": 361,
   "metadata": {
    "collapsed": false
   },
   "outputs": [
    {
     "name": "stdout",
     "output_type": "stream",
     "text": [
      "[-11902500. -11902500. -11902500. -11902500. -11902500. -11902500.\n",
      " -11902500. -11902500. -11902500. -11902500. -11902500. -11902500.\n",
      " -11902500. -11902500. -11902500. -11902500. -11902500. -11902500.\n",
      " -11902500. -11902500. -11902500. -11902500. -11902500. -11902500.\n",
      " -11902500. -11902500. -11902500. -11902500. -11902500. -11902500.\n",
      " -11902500. -11902500. -11902500. -11902500. -11902500. -11902500.\n",
      " -11902500. -11902500. -11902500. -11902500. -11902500. -11902500.\n",
      " -11902500. -11902500. -11902500. -11902500. -11902500. -11902500.\n",
      " -11902500. -11902500. -11902500. -11902500. -11902500. -11902500.\n",
      " -11902500. -11902500. -11902500.] [array([ 0.,  0.,  0.,  0.,  0.,  0.,  0.,  0.,  0.,  0.,  0.,  0.,  0.,\n",
      "        0.,  0.,  0.,  0.,  0.,  0.,  0.,  0.,  0.,  0.,  0.,  0.,  0.,\n",
      "        0.,  0.,  0.,  0.,  0.,  0.,  0.,  0.,  0.,  0.,  0.,  0.,  0.,\n",
      "        0.,  0.,  0.,  0.,  0.,  0.,  0.,  0.,  0.,  0.,  0.,  0.,  0.,\n",
      "        0.,  0.,  0.,  0.,  0.])]\n"
     ]
    }
   ],
   "source": [
    "w1, wh = batch_gd(X, y, np.zeros(X.shape[1]), 1, 1)\n",
    "print(w1, wh)"
   ]
  },
  {
   "cell_type": "code",
   "execution_count": null,
   "metadata": {
    "collapsed": true
   },
   "outputs": [],
   "source": [
    "def stochastic_gd(X, y, w, learning_rate, num_iter):\n",
    "    pass"
   ]
  }
 ],
 "metadata": {
  "kernelspec": {
   "display_name": "Python 3",
   "language": "python",
   "name": "python3"
  },
  "language_info": {
   "codemirror_mode": {
    "name": "ipython",
    "version": 3
   },
   "file_extension": ".py",
   "mimetype": "text/x-python",
   "name": "python",
   "nbconvert_exporter": "python",
   "pygments_lexer": "ipython3",
   "version": "3.5.0"
  }
 },
 "nbformat": 4,
 "nbformat_minor": 0
}
