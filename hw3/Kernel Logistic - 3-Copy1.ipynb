{
 "cells": [
  {
   "cell_type": "markdown",
   "metadata": {},
   "source": [
    "This version builds on version 2, but this one actually has the correct risk equation, however that causes it to go to infinity without warning."
   ]
  },
  {
   "cell_type": "code",
   "execution_count": 21,
   "metadata": {
    "collapsed": true
   },
   "outputs": [],
   "source": [
    "%matplotlib inline\n",
    "import numpy as np\n",
    "import scipy as sp\n",
    "import scipy.io\n",
    "import pandas as pd\n",
    "import seaborn as sns\n",
    "import matplotlib.pyplot as plt\n",
    "sns.set(color_codes=True)"
   ]
  },
  {
   "cell_type": "code",
   "execution_count": 22,
   "metadata": {
    "collapsed": true
   },
   "outputs": [],
   "source": [
    "def standardize_cols(X):\n",
    "    zscore = lambda x: (x.mean() - x)/x.std()\n",
    "    return pd.DataFrame(X).apply(zscore).values\n",
    "\n",
    "def binarize_cols(X):\n",
    "    temp = X.copy()\n",
    "    temp[temp > 0] = 1\n",
    "    temp[temp <= 0] = 0\n",
    "    return temp"
   ]
  },
  {
   "cell_type": "code",
   "execution_count": 23,
   "metadata": {
    "collapsed": false
   },
   "outputs": [
    {
     "name": "stdout",
     "output_type": "stream",
     "text": [
      "(3450, 57) (3450,) (1151, 57)\n",
      "(3450, 58) (3450, 58) (3450, 58) (3450, 58)\n"
     ]
    }
   ],
   "source": [
    "spam_data = scipy.io.loadmat(\"data/spam.mat\")\n",
    "Xraw = pd.DataFrame(spam_data['Xtrain'])\n",
    "y = spam_data['Ytrain'].reshape((3450,))\n",
    "Xtestraw = pd.DataFrame(spam_data['Xtest'])\n",
    "print(Xraw.shape, y.shape, Xtestraw.shape)\n",
    "\n",
    "stan_X = pd.DataFrame(standardize_cols(Xraw.values))\n",
    "log_X = pd.DataFrame(np.log(Xraw.values + 0.1))\n",
    "bin_X = pd.DataFrame(binarize_cols(Xraw.values))\n",
    "stan_X[57] = 1\n",
    "log_X[57] = 1\n",
    "bin_X[57] = 1\n",
    "Xraw[57] = 1\n",
    "X = Xraw.values\n",
    "stan_X = stan_X.values\n",
    "log_X = log_X.values\n",
    "bin_X = bin_X.values\n",
    "print(X.shape, stan_X.shape, log_X.shape, bin_X.shape)"
   ]
  },
  {
   "cell_type": "code",
   "execution_count": 69,
   "metadata": {
    "collapsed": false,
    "scrolled": true
   },
   "outputs": [],
   "source": [
    "split = int(len(X) * 2 / 3)\n",
    "tX, ty = log_X[:split], y[:split]\n",
    "vX, vy = log_X[split:], y[split:]\n",
    "alpha = np.zeros(split)\n",
    "kernel_gram = np.power((tX.dot(tX.T) + 1), 2)\n",
    "kgwy = kernel_gram.dot(ty)"
   ]
  },
  {
   "cell_type": "code",
   "execution_count": 73,
   "metadata": {
    "collapsed": false
   },
   "outputs": [
    {
     "name": "stdout",
     "output_type": "stream",
     "text": [
      "1156\n",
      "0.0\n",
      "[ 55838.670392    66322.29387634  67538.83402935 ...,  64656.21359969\n",
      "  79917.72265321  53878.31439284]\n",
      "-1\n"
     ]
    },
    {
     "ename": "NameError",
     "evalue": "name 'risk' is not defined",
     "output_type": "error",
     "traceback": [
      "\u001b[0;31m---------------------------------------------------------------------------\u001b[0m",
      "\u001b[0;31mNameError\u001b[0m                                 Traceback (most recent call last)",
      "\u001b[0;32m<ipython-input-73-4c1a6bf5ba4c>\u001b[0m in \u001b[0;36m<module>\u001b[0;34m()\u001b[0m\n\u001b[1;32m     11\u001b[0m \u001b[0msz\u001b[0m \u001b[0;34m=\u001b[0m \u001b[0;36m1\u001b[0m \u001b[0;34m/\u001b[0m \u001b[0;34m(\u001b[0m\u001b[0;36m1\u001b[0m \u001b[0;34m+\u001b[0m \u001b[0mnp\u001b[0m\u001b[0;34m.\u001b[0m\u001b[0mexp\u001b[0m\u001b[0;34m(\u001b[0m\u001b[0;34m-\u001b[0m\u001b[0mupdate_prep\u001b[0m\u001b[0;34m)\u001b[0m\u001b[0;34m)\u001b[0m\u001b[0;34m\u001b[0m\u001b[0m\n\u001b[1;32m     12\u001b[0m \u001b[0mupdate\u001b[0m \u001b[0;34m=\u001b[0m \u001b[0mai\u001b[0m \u001b[0;34m-\u001b[0m \u001b[0;34m(\u001b[0m\u001b[0;36m10e-5\u001b[0m \u001b[0;34m*\u001b[0m \u001b[0mai\u001b[0m \u001b[0;34m+\u001b[0m \u001b[0;36m1\u001b[0m \u001b[0;34m*\u001b[0m \u001b[0msz\u001b[0m \u001b[0;34m*\u001b[0m \u001b[0mty\u001b[0m\u001b[0;34m[\u001b[0m\u001b[0mchoice\u001b[0m\u001b[0;34m]\u001b[0m\u001b[0;34m)\u001b[0m\u001b[0;34m\u001b[0m\u001b[0m\n\u001b[0;32m---> 13\u001b[0;31m \u001b[0mprint\u001b[0m\u001b[0;34m(\u001b[0m\u001b[0mchoice\u001b[0m\u001b[0;34m,\u001b[0m \u001b[0mai\u001b[0m\u001b[0;34m,\u001b[0m \u001b[0mrisk\u001b[0m\u001b[0;34m,\u001b[0m \u001b[0mupdate\u001b[0m\u001b[0;34m)\u001b[0m\u001b[0;34m\u001b[0m\u001b[0m\n\u001b[0m",
      "\u001b[0;31mNameError\u001b[0m: name 'risk' is not defined"
     ]
    }
   ],
   "source": [
    "choice = 1156\n",
    "ai = alpha[choice]\n",
    "print(choice)\n",
    "print(ai)\n",
    "print(kernel_gram[choice])\n",
    "print(ty[choice])\n",
    "\n",
    "ai = alpha[choice]\n",
    "update_prep = alpha.dot(kgwy)\n",
    "loss = np.log(1 + np.exp(update_prep))\n",
    "sz = 1 / (1 + np.exp(-update_prep))\n",
    "update = ai - (10e-5 * ai + 1 * sz * ty[choice])\n",
    "print(choice, ai, , update)"
   ]
  },
  {
   "cell_type": "code",
   "execution_count": 74,
   "metadata": {
    "collapsed": false
   },
   "outputs": [
    {
     "data": {
      "text/plain": [
       "0.0"
      ]
     },
     "execution_count": 74,
     "metadata": {},
     "output_type": "execute_result"
    }
   ],
   "source": [
    "update_prep"
   ]
  },
  {
   "cell_type": "code",
   "execution_count": 81,
   "metadata": {
    "collapsed": false
   },
   "outputs": [
    {
     "data": {
      "text/plain": [
       "500.0"
      ]
     },
     "execution_count": 81,
     "metadata": {},
     "output_type": "execute_result"
    }
   ],
   "source": [
    "np.log(1 + np.exp(500))"
   ]
  },
  {
   "cell_type": "code",
   "execution_count": null,
   "metadata": {
    "collapsed": true
   },
   "outputs": [],
   "source": []
  }
 ],
 "metadata": {
  "kernelspec": {
   "display_name": "Python 3",
   "language": "python",
   "name": "python3"
  },
  "language_info": {
   "codemirror_mode": {
    "name": "ipython",
    "version": 3
   },
   "file_extension": ".py",
   "mimetype": "text/x-python",
   "name": "python",
   "nbconvert_exporter": "python",
   "pygments_lexer": "ipython3",
   "version": "3.5.0"
  }
 },
 "nbformat": 4,
 "nbformat_minor": 0
}
