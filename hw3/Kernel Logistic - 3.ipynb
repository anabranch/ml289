{
 "cells": [
  {
   "cell_type": "markdown",
   "metadata": {},
   "source": [
    "This version builds on version 2, but this one actually has the correct risk equation, however that causes it to go to infinity without warning."
   ]
  },
  {
   "cell_type": "code",
   "execution_count": 47,
   "metadata": {
    "collapsed": true
   },
   "outputs": [],
   "source": [
    "%matplotlib inline\n",
    "import numpy as np\n",
    "import scipy as sp\n",
    "import scipy.io\n",
    "import pandas as pd\n",
    "import seaborn as sns\n",
    "import matplotlib.pyplot as plt\n",
    "sns.set(color_codes=True)"
   ]
  },
  {
   "cell_type": "code",
   "execution_count": 48,
   "metadata": {
    "collapsed": true
   },
   "outputs": [],
   "source": [
    "def standardize_cols(X):\n",
    "    zscore = lambda x: (x.mean() - x)/x.std()\n",
    "    return pd.DataFrame(X).apply(zscore).values\n",
    "\n",
    "def binarize_cols(X):\n",
    "    temp = X.copy()\n",
    "    temp[temp > 0] = 1\n",
    "    temp[temp <= 0] = 0\n",
    "    return temp"
   ]
  },
  {
   "cell_type": "code",
   "execution_count": 49,
   "metadata": {
    "collapsed": false
   },
   "outputs": [
    {
     "name": "stdout",
     "output_type": "stream",
     "text": [
      "(3450, 57) (3450,) (1151, 57)\n",
      "(3450, 58) (3450, 58) (3450, 58) (3450, 58)\n"
     ]
    }
   ],
   "source": [
    "spam_data = scipy.io.loadmat(\"data/spam.mat\")\n",
    "Xraw = pd.DataFrame(spam_data['Xtrain'])\n",
    "y = spam_data['Ytrain'].reshape((3450,))\n",
    "Xtestraw = pd.DataFrame(spam_data['Xtest'])\n",
    "print(Xraw.shape, y.shape, Xtestraw.shape)\n",
    "\n",
    "stan_X = pd.DataFrame(standardize_cols(Xraw.values))\n",
    "log_X = pd.DataFrame(np.log(Xraw.values + 0.1))\n",
    "bin_X = pd.DataFrame(binarize_cols(Xraw.values))\n",
    "stan_X[57] = 1\n",
    "log_X[57] = 1\n",
    "bin_X[57] = 1\n",
    "Xraw[57] = 1\n",
    "X = Xraw.values\n",
    "stan_X = stan_X.values\n",
    "log_X = log_X.values\n",
    "bin_X = bin_X.values\n",
    "print(X.shape, stan_X.shape, log_X.shape, bin_X.shape)"
   ]
  },
  {
   "cell_type": "code",
   "execution_count": 50,
   "metadata": {
    "collapsed": false
   },
   "outputs": [],
   "source": [
    "from random import shuffle\n",
    "\n",
    "def quadratic_kernel(xi, X):\n",
    "    return (np.dot(xi, X.T) + 1) ** 2\n",
    "\n",
    "def quadratic_kernel_f(xi, X, alphai):\n",
    "#    pre = alpha * quadratic_kernel(xi, X)\n",
    "# there seems to be something possibly weird in here\n",
    "# pre is the un summed version\n",
    "#    print(np.dot(alpha, quadratic_kernel(xi, X)))\n",
    "\n",
    "#     print(quadratic_kernel(xi, X))\n",
    "#     print(alphai)\n",
    "#     print(np.dot(alphai, quadratic_kernel(xi, X)))\n",
    "    \n",
    "    return np.sum(alphai * quadratic_kernel(xi, X))\n",
    "\n",
    "#    return np.dot(alphai, quadratic_kernel(xi, X))\n",
    "    \n",
    "def quadratic_kernel_ridge_sgd(xi, yi, X, y, alphai, gamma, lr):\n",
    "    fx = quadratic_kernel_f(xi, X, alphai)\n",
    "    z = np.dot(y, fx)\n",
    "    sz = 1 / (1 + np.exp(- z))\n",
    "#    print(sz.shape)\n",
    "    new_alpha = alphai - ((gamma * alphai) + (lr * np.dot(sz, y)))\n",
    "    risk = np.sum(np.log(1 + np.exp(z)))\n",
    "    return new_alpha, risk\n",
    "\n",
    "def qkrsgd_wrapper(X, y, gamma, lr, num_iters):\n",
    "    shuff = list(range(len(X)))\n",
    "    shuffle(shuff)\n",
    "    alpha = np.random.randn(len(X)) / 10000\n",
    "    X = X[shuff]\n",
    "    y = y[shuff]\n",
    "    risks = []\n",
    "    for upper_count in range(num_iters):\n",
    "        temp_risk = []\n",
    "        for count, (xi, yi, alphai) in enumerate(zip(X, y, alpha)):\n",
    "#            lr = 0.01 / (upper_count + 1)\n",
    "            new_alpha, risk = quadratic_kernel_ridge_sgd(xi, yi, X, y, alphai, gamma, lr)\n",
    "            temp_risk.append(risk)\n",
    "#             print(new_alpha)\n",
    "            alpha[count] = new_alpha\n",
    "#             alpha[count+1:] -= (alpha[count+1:] * gamma)\n",
    "#             alpha[:count] -= (alpha[:count] * gamma)\n",
    "        risks.append(np.sum(temp_risk))\n",
    "    return alpha, pd.DataFrame({\"risk\":risks})"
   ]
  },
  {
   "cell_type": "code",
   "execution_count": 51,
   "metadata": {
    "collapsed": false,
    "scrolled": true
   },
   "outputs": [],
   "source": [
    "w2, risks2 = qkrsgd_wrapper(log_X, y, 10e-5, 0.5, 10)"
   ]
  },
  {
   "cell_type": "code",
   "execution_count": 52,
   "metadata": {
    "collapsed": false,
    "scrolled": true
   },
   "outputs": [
    {
     "data": {
      "text/plain": [
       "<matplotlib.axes._subplots.AxesSubplot at 0x10b7a8cf8>"
      ]
     },
     "execution_count": 52,
     "metadata": {},
     "output_type": "execute_result"
    },
    {
     "data": {
      "image/png": "[encoded data removed]",
      "text/plain": [
       "<matplotlib.figure.Figure at 0x10bae59b0>"
      ]
     },
     "metadata": {},
     "output_type": "display_data"
    }
   ],
   "source": [
    "#print(risks2)\n",
    "risks2.plot()"
   ]
  },
  {
   "cell_type": "code",
   "execution_count": null,
   "metadata": {
    "collapsed": true
   },
   "outputs": [],
   "source": []
  }
 ],
 "metadata": {
  "kernelspec": {
   "display_name": "Python 3",
   "language": "python",
   "name": "python3"
  },
  "language_info": {
   "codemirror_mode": {
    "name": "ipython",
    "version": 3
   },
   "file_extension": ".py",
   "mimetype": "text/x-python",
   "name": "python",
   "nbconvert_exporter": "python",
   "pygments_lexer": "ipython3",
   "version": "3.5.0"
  }
 },
 "nbformat": 4,
 "nbformat_minor": 0
}
