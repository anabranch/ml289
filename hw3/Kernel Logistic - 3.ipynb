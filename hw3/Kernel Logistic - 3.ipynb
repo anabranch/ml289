{
 "cells": [
  {
   "cell_type": "markdown",
   "metadata": {},
   "source": [
    "This version builds on version 2, but this one actually has the correct risk equation, however that causes it to go to infinity without warning."
   ]
  },
  {
   "cell_type": "code",
   "execution_count": 1,
   "metadata": {
    "collapsed": true
   },
   "outputs": [],
   "source": [
    "%matplotlib inline\n",
    "import numpy as np\n",
    "import scipy as sp\n",
    "import scipy.io\n",
    "import pandas as pd\n",
    "import seaborn as sns\n",
    "import matplotlib.pyplot as plt\n",
    "sns.set(color_codes=True)"
   ]
  },
  {
   "cell_type": "code",
   "execution_count": 2,
   "metadata": {
    "collapsed": true
   },
   "outputs": [],
   "source": [
    "def standardize_cols(X):\n",
    "    zscore = lambda x: (x.mean() - x)/x.std()\n",
    "    return pd.DataFrame(X).apply(zscore).values\n",
    "\n",
    "def binarize_cols(X):\n",
    "    temp = X.copy()\n",
    "    temp[temp > 0] = 1\n",
    "    temp[temp <= 0] = 0\n",
    "    return temp"
   ]
  },
  {
   "cell_type": "code",
   "execution_count": 3,
   "metadata": {
    "collapsed": false
   },
   "outputs": [
    {
     "name": "stdout",
     "output_type": "stream",
     "text": [
      "(3450, 57) (3450,) (1151, 57)\n",
      "(3450, 58) (3450, 58) (3450, 58) (3450, 58)\n"
     ]
    }
   ],
   "source": [
    "spam_data = scipy.io.loadmat(\"data/spam.mat\")\n",
    "Xraw = pd.DataFrame(spam_data['Xtrain'])\n",
    "y = spam_data['Ytrain'].reshape((3450,))\n",
    "Xtestraw = pd.DataFrame(spam_data['Xtest'])\n",
    "print(Xraw.shape, y.shape, Xtestraw.shape)\n",
    "\n",
    "stan_X = pd.DataFrame(standardize_cols(Xraw.values))\n",
    "log_X = pd.DataFrame(np.log(Xraw.values + 0.1))\n",
    "bin_X = pd.DataFrame(binarize_cols(Xraw.values))\n",
    "stan_X[57] = 1\n",
    "log_X[57] = 1\n",
    "bin_X[57] = 1\n",
    "Xraw[57] = 1\n",
    "X = Xraw.values\n",
    "stan_X = stan_X.values\n",
    "log_X = log_X.values\n",
    "bin_X = bin_X.values\n",
    "print(X.shape, stan_X.shape, log_X.shape, bin_X.shape)"
   ]
  },
  {
   "cell_type": "code",
   "execution_count": 141,
   "metadata": {
    "collapsed": false
   },
   "outputs": [],
   "source": [
    "def qkrsgd_test(vX, vy, tX, alpha):\n",
    "    val_risk = []\n",
    "    for count, (xi, yi) in enumerate(zip(vX, vy)):\n",
    "        fx = np.dot(alpha, np.power((np.dot(tX, xi) + 1), 2))\n",
    "        z = yi * fx\n",
    "        loss = np.log(1 + np.exp(z * -1))\n",
    "        val_risk.append(loss)\n",
    "    return np.sum(val_risk) / len(vX)\n",
    "\n",
    "def qkrsgd_wrapper(X, y, gamma, num_iters, lr=None):\n",
    "    split = int(len(X) * 2 / 3)\n",
    "    tX, ty = X[:split], y[:split]\n",
    "    vX, vy = X[split:], y[split:]\n",
    "    print(\"Creating training and test sets of %i and %i\" % (len(tX), len(vX)))\n",
    "    alpha = np.zeros(split)\n",
    "    print(\"Creating alphas of length: \", len(alpha))\n",
    "    np.random.seed(200)\n",
    "    iters = np.random.choice(split, num_iters)\n",
    "    print(\"Creating iteration choices of length \", len(iters))\n",
    "    nullLR = False\n",
    "    if not lr:\n",
    "        nullLR = True\n",
    "        print(\"auto learning rate\")\n",
    "    else:\n",
    "        print(\"Learning rate of \", lr)\n",
    "    risks = []\n",
    "    iteration_numbers = []\n",
    "    val_risks = []\n",
    "    epoch_risk = []\n",
    "    \n",
    "    kernel_gram = np.power((tX.dot(tX.T) + 1), 2)\n",
    "    kgwy = kernel_gram.dot(np.diag(ty))\n",
    "    \n",
    "    for count, choice in enumerate(iters):\n",
    "        if nullLR:\n",
    "            lr = 0.0001 / (count/5 + 1)\n",
    "        ai = alpha[choice]\n",
    "        yi = ty[choice]\n",
    "        update_prep = alpha.dot(kgwy)\n",
    "        zi = update_prep[choice]\n",
    "#         if zi > 200:\n",
    "#             print(\"WARNING: LARGE Z VALUE => NOW CLAMPING\")\n",
    "#             zi = 200\n",
    "        s = lambda z: 1 / (1 + np.exp(-1 * zi))\n",
    "        update = ai - (gamma * ai) + (lr * s(zi) * ty[choice])\n",
    "        alpha[choice] = update\n",
    "        alpha[choice+1:] -= (alpha[choice+1:] * gamma)\n",
    "        alpha[:choice] -= (alpha[:choice] * gamma)\n",
    "\n",
    "\n",
    "        if count % 100 == 0:\n",
    "            risk = np.sum(np.log(1 + np.exp(update_prep * -1))) / len(tX)\n",
    "            iteration_numbers.append(count)\n",
    "            risks.append(risk)\n",
    "            epoch_risk = [] # resetting the epoch risk\n",
    "            val_risks.append(qkrsgd_test(vX, vy, tX,  alpha))\n",
    "    return alpha, pd.DataFrame({\n",
    "            \"iteration_number\": iteration_numbers,\n",
    "            \"training_risk\":risks,\n",
    "            \"validation_risk\": val_risks\n",
    "        })"
   ]
  },
  {
   "cell_type": "code",
   "execution_count": 142,
   "metadata": {
    "collapsed": true
   },
   "outputs": [],
   "source": [
    "gamma, iters, lr = 10e-5, 10000, 0.00005"
   ]
  },
  {
   "cell_type": "code",
   "execution_count": 143,
   "metadata": {
    "collapsed": false
   },
   "outputs": [
    {
     "name": "stdout",
     "output_type": "stream",
     "text": [
      "Creating training and test sets of 2300 and 1150\n",
      "Creating alphas of length:  2300\n",
      "Creating iteration choices of length  10000\n",
      "Learning rate of  5e-05\n"
     ]
    },
    {
     "data": {
      "text/plain": [
       "<matplotlib.axes._subplots.AxesSubplot at 0x136491128>"
      ]
     },
     "execution_count": 143,
     "metadata": {},
     "output_type": "execute_result"
    },
    {
     "data": {
      "image/png": "[encoded data removed]",
      "text/plain": [
       "<matplotlib.figure.Figure at 0x136499dd8>"
      ]
     },
     "metadata": {},
     "output_type": "display_data"
    }
   ],
   "source": [
    "w, risks = qkrsgd_wrapper(stan_X, y, gamma, iters, lr)\n",
    "risks.plot(x='iteration_number')"
   ]
  },
  {
   "cell_type": "code",
   "execution_count": 144,
   "metadata": {
    "collapsed": true
   },
   "outputs": [],
   "source": [
    "def lkrsgd_test(vX, vy, tX, alpha):\n",
    "    val_risk = []\n",
    "    for count, (xi, yi) in enumerate(zip(vX, vy)):\n",
    "        fx = np.dot(alpha, (np.dot(xi, tX.T) + 1))\n",
    "        z = yi * fx\n",
    "        loss = np.log(1 + np.exp(z * -1))\n",
    "        val_risk.append(loss)\n",
    "    return np.sum(val_risk) / len(vX)\n",
    "\n",
    "def lkrsgd_wrapper(X, y, gamma, num_iters, lr=None):\n",
    "    split = int(len(X) * 2 / 3)\n",
    "    tX, ty = X[:split], y[:split]\n",
    "    vX, vy = X[split:], y[split:]\n",
    "    print(\"Creating training and test sets of %i and %i\" % (len(tX), len(vX)))\n",
    "    alpha = np.zeros(split)\n",
    "    print(\"Creating alphas of length: \", len(alpha))\n",
    "    np.random.seed(200)\n",
    "    iters = np.random.choice(split, num_iters)\n",
    "    print(\"Creating iteration choices of length \", len(iters))\n",
    "    nullLR = False\n",
    "    if not lr:\n",
    "        nullLR = True\n",
    "        print(\"auto learning rate\")\n",
    "    else:\n",
    "        print(\"Learning rate of \", lr)\n",
    "    risks = []\n",
    "    iteration_numbers = []\n",
    "    val_risks = []\n",
    "    epoch_risk = []\n",
    "    \n",
    "    kernel_gram = (tX.dot(tX.T) + 1)\n",
    "    kgwy = kernel_gram.dot(np.diag(ty))\n",
    "    \n",
    "    for count, choice in enumerate(iters):\n",
    "        if nullLR:\n",
    "            lr = 0.0001 / (count/5 + 1)\n",
    "        ai = alpha[choice]\n",
    "        yi = ty[choice]\n",
    "        update_prep = alpha.dot(kgwy)\n",
    "        zi = update_prep[choice]\n",
    "        if zi > 200:\n",
    "            print(\"WARNING: LARGE Z VALUE => NOW CLAMPING\")\n",
    "            zi = 200\n",
    "        s = lambda z: 1 / (1 + np.exp(-zi))\n",
    "        update = ai - (gamma * ai) + (lr * s(zi) * ty[choice])\n",
    "        alpha[choice] = update\n",
    "        alpha[choice+1:] -= (alpha[choice+1:] * gamma)\n",
    "        alpha[:choice] -= (alpha[:choice] * gamma)\n",
    "\n",
    "\n",
    "        if count % 100 == 0:\n",
    "            risk = np.sum(np.log(1 + np.exp(update_prep * -1))) / len(tX)\n",
    "            iteration_numbers.append(count)\n",
    "            risks.append(risk)\n",
    "            epoch_risk = [] # resetting the epoch risk\n",
    "            val_risks.append(qkrsgd_test(vX, vy, tX, alpha))\n",
    "    return alpha, pd.DataFrame({\n",
    "            \"iteration_number\": iteration_numbers,\n",
    "            \"training_risk\":risks,\n",
    "            \"validation_risk\": val_risks\n",
    "        })"
   ]
  },
  {
   "cell_type": "code",
   "execution_count": 146,
   "metadata": {
    "collapsed": false
   },
   "outputs": [
    {
     "name": "stdout",
     "output_type": "stream",
     "text": [
      "Creating training and test sets of 2300 and 1150\n",
      "Creating alphas of length:  2300\n",
      "Creating iteration choices of length  10000\n",
      "Learning rate of  5e-05\n"
     ]
    },
    {
     "ename": "KeyboardInterrupt",
     "evalue": "",
     "output_type": "error",
     "traceback": [
      "\u001b[0;31m---------------------------------------------------------------------------\u001b[0m",
      "\u001b[0;31mKeyboardInterrupt\u001b[0m                         Traceback (most recent call last)",
      "\u001b[0;32m<ipython-input-146-ee5bb13b1df6>\u001b[0m in \u001b[0;36m<module>\u001b[0;34m()\u001b[0m\n\u001b[0;32m----> 1\u001b[0;31m \u001b[0mw2\u001b[0m\u001b[0;34m,\u001b[0m \u001b[0mrisks2\u001b[0m \u001b[0;34m=\u001b[0m \u001b[0mlkrsgd_wrapper\u001b[0m\u001b[0;34m(\u001b[0m\u001b[0mstan_X\u001b[0m\u001b[0;34m,\u001b[0m \u001b[0my\u001b[0m\u001b[0;34m,\u001b[0m \u001b[0mgamma\u001b[0m\u001b[0;34m,\u001b[0m \u001b[0miters\u001b[0m\u001b[0;34m,\u001b[0m \u001b[0mlr\u001b[0m\u001b[0;34m)\u001b[0m\u001b[0;34m\u001b[0m\u001b[0m\n\u001b[0m\u001b[1;32m      2\u001b[0m \u001b[0mrisks2\u001b[0m\u001b[0;34m.\u001b[0m\u001b[0mplot\u001b[0m\u001b[0;34m(\u001b[0m\u001b[0mx\u001b[0m\u001b[0;34m=\u001b[0m\u001b[0;34m'iteration_number'\u001b[0m\u001b[0;34m)\u001b[0m\u001b[0;34m\u001b[0m\u001b[0m\n",
      "\u001b[0;32m<ipython-input-144-8ffd37910542>\u001b[0m in \u001b[0;36mlkrsgd_wrapper\u001b[0;34m(X, y, gamma, num_iters, lr)\u001b[0m\n\u001b[1;32m     54\u001b[0m             \u001b[0mrisks\u001b[0m\u001b[0;34m.\u001b[0m\u001b[0mappend\u001b[0m\u001b[0;34m(\u001b[0m\u001b[0mrisk\u001b[0m\u001b[0;34m)\u001b[0m\u001b[0;34m\u001b[0m\u001b[0m\n\u001b[1;32m     55\u001b[0m             \u001b[0mepoch_risk\u001b[0m \u001b[0;34m=\u001b[0m \u001b[0;34m[\u001b[0m\u001b[0;34m]\u001b[0m \u001b[0;31m# resetting the epoch risk\u001b[0m\u001b[0;34m\u001b[0m\u001b[0m\n\u001b[0;32m---> 56\u001b[0;31m             \u001b[0mval_risks\u001b[0m\u001b[0;34m.\u001b[0m\u001b[0mappend\u001b[0m\u001b[0;34m(\u001b[0m\u001b[0mqkrsgd_test\u001b[0m\u001b[0;34m(\u001b[0m\u001b[0mvX\u001b[0m\u001b[0;34m,\u001b[0m \u001b[0mvy\u001b[0m\u001b[0;34m,\u001b[0m \u001b[0mtX\u001b[0m\u001b[0;34m,\u001b[0m \u001b[0malpha\u001b[0m\u001b[0;34m)\u001b[0m\u001b[0;34m)\u001b[0m\u001b[0;34m\u001b[0m\u001b[0m\n\u001b[0m\u001b[1;32m     57\u001b[0m     return alpha, pd.DataFrame({\n\u001b[1;32m     58\u001b[0m             \u001b[0;34m\"iteration_number\"\u001b[0m\u001b[0;34m:\u001b[0m \u001b[0miteration_numbers\u001b[0m\u001b[0;34m,\u001b[0m\u001b[0;34m\u001b[0m\u001b[0m\n",
      "\u001b[0;32m<ipython-input-141-23b6982f2b1e>\u001b[0m in \u001b[0;36mqkrsgd_test\u001b[0;34m(vX, vy, tX, alpha)\u001b[0m\n\u001b[1;32m      2\u001b[0m     \u001b[0mval_risk\u001b[0m \u001b[0;34m=\u001b[0m \u001b[0;34m[\u001b[0m\u001b[0;34m]\u001b[0m\u001b[0;34m\u001b[0m\u001b[0m\n\u001b[1;32m      3\u001b[0m     \u001b[0;32mfor\u001b[0m \u001b[0mcount\u001b[0m\u001b[0;34m,\u001b[0m \u001b[0;34m(\u001b[0m\u001b[0mxi\u001b[0m\u001b[0;34m,\u001b[0m \u001b[0myi\u001b[0m\u001b[0;34m)\u001b[0m \u001b[0;32min\u001b[0m \u001b[0menumerate\u001b[0m\u001b[0;34m(\u001b[0m\u001b[0mzip\u001b[0m\u001b[0;34m(\u001b[0m\u001b[0mvX\u001b[0m\u001b[0;34m,\u001b[0m \u001b[0mvy\u001b[0m\u001b[0;34m)\u001b[0m\u001b[0;34m)\u001b[0m\u001b[0;34m:\u001b[0m\u001b[0;34m\u001b[0m\u001b[0m\n\u001b[0;32m----> 4\u001b[0;31m         \u001b[0mfx\u001b[0m \u001b[0;34m=\u001b[0m \u001b[0mnp\u001b[0m\u001b[0;34m.\u001b[0m\u001b[0mdot\u001b[0m\u001b[0;34m(\u001b[0m\u001b[0malpha\u001b[0m\u001b[0;34m,\u001b[0m \u001b[0mnp\u001b[0m\u001b[0;34m.\u001b[0m\u001b[0mpower\u001b[0m\u001b[0;34m(\u001b[0m\u001b[0;34m(\u001b[0m\u001b[0mnp\u001b[0m\u001b[0;34m.\u001b[0m\u001b[0mdot\u001b[0m\u001b[0;34m(\u001b[0m\u001b[0mtX\u001b[0m\u001b[0;34m,\u001b[0m \u001b[0mxi\u001b[0m\u001b[0;34m)\u001b[0m \u001b[0;34m+\u001b[0m \u001b[0;36m1\u001b[0m\u001b[0;34m)\u001b[0m\u001b[0;34m,\u001b[0m \u001b[0;36m2\u001b[0m\u001b[0;34m)\u001b[0m\u001b[0;34m)\u001b[0m\u001b[0;34m\u001b[0m\u001b[0m\n\u001b[0m\u001b[1;32m      5\u001b[0m         \u001b[0mz\u001b[0m \u001b[0;34m=\u001b[0m \u001b[0myi\u001b[0m \u001b[0;34m*\u001b[0m \u001b[0mfx\u001b[0m\u001b[0;34m\u001b[0m\u001b[0m\n\u001b[1;32m      6\u001b[0m         \u001b[0mloss\u001b[0m \u001b[0;34m=\u001b[0m \u001b[0mnp\u001b[0m\u001b[0;34m.\u001b[0m\u001b[0mlog\u001b[0m\u001b[0;34m(\u001b[0m\u001b[0;36m1\u001b[0m \u001b[0;34m+\u001b[0m \u001b[0mnp\u001b[0m\u001b[0;34m.\u001b[0m\u001b[0mexp\u001b[0m\u001b[0;34m(\u001b[0m\u001b[0mz\u001b[0m \u001b[0;34m*\u001b[0m \u001b[0;34m-\u001b[0m\u001b[0;36m1\u001b[0m\u001b[0;34m)\u001b[0m\u001b[0;34m)\u001b[0m\u001b[0;34m\u001b[0m\u001b[0m\n",
      "\u001b[0;31mKeyboardInterrupt\u001b[0m: "
     ]
    }
   ],
   "source": [
    "w2, risks2 = lkrsgd_wrapper(stan_X, y, gamma, iters, lr)\n",
    "risks2.plot(x='iteration_number')"
   ]
  },
  {
   "cell_type": "code",
   "execution_count": null,
   "metadata": {
    "collapsed": true
   },
   "outputs": [],
   "source": []
  }
 ],
 "metadata": {
  "kernelspec": {
   "display_name": "Python 3",
   "language": "python",
   "name": "python3"
  },
  "language_info": {
   "codemirror_mode": {
    "name": "ipython",
    "version": 3
   },
   "file_extension": ".py",
   "mimetype": "text/x-python",
   "name": "python",
   "nbconvert_exporter": "python",
   "pygments_lexer": "ipython3",
   "version": "3.5.0"
  }
 },
 "nbformat": 4,
 "nbformat_minor": 0
}
