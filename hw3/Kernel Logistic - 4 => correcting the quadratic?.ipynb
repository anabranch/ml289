{
 "cells": [
  {
   "cell_type": "markdown",
   "metadata": {},
   "source": [
    "I changed the sign of the z and this seems to be working, I'm not sure why but it does."
   ]
  },
  {
   "cell_type": "code",
   "execution_count": 1,
   "metadata": {
    "collapsed": true
   },
   "outputs": [],
   "source": [
    "%matplotlib inline\n",
    "import numpy as np\n",
    "import scipy as sp\n",
    "import scipy.io\n",
    "import pandas as pd\n",
    "import seaborn as sns\n",
    "import matplotlib.pyplot as plt\n",
    "sns.set(color_codes=True)"
   ]
  },
  {
   "cell_type": "code",
   "execution_count": 2,
   "metadata": {
    "collapsed": true
   },
   "outputs": [],
   "source": [
    "def standardize_cols(X):\n",
    "    zscore = lambda x: (x.mean() - x)/x.std()\n",
    "    return pd.DataFrame(X).apply(zscore).values\n",
    "\n",
    "def binarize_cols(X):\n",
    "    temp = X.copy()\n",
    "    temp[temp > 0] = 1\n",
    "    temp[temp <= 0] = 0\n",
    "    return temp"
   ]
  },
  {
   "cell_type": "code",
   "execution_count": 3,
   "metadata": {
    "collapsed": false
   },
   "outputs": [
    {
     "name": "stdout",
     "output_type": "stream",
     "text": [
      "(3450, 57) (3450,) (1151, 57)\n",
      "(3450, 58) (3450, 58) (3450, 58) (3450, 58)\n"
     ]
    }
   ],
   "source": [
    "spam_data = scipy.io.loadmat(\"data/spam.mat\")\n",
    "Xraw = pd.DataFrame(spam_data['Xtrain'])\n",
    "y = spam_data['Ytrain'].reshape((3450,))\n",
    "Xtestraw = pd.DataFrame(spam_data['Xtest'])\n",
    "\n",
    "stan_X = pd.DataFrame(standardize_cols(Xraw.values))\n",
    "log_X = pd.DataFrame(np.log(Xraw.values + 0.1))\n",
    "bin_X = pd.DataFrame(binarize_cols(Xraw.values))\n",
    "stan_X[57] = 1\n",
    "log_X[57] = 1\n",
    "bin_X[57] = 1\n",
    "Xraw[57] = 1\n",
    "X = Xraw.values\n",
    "stan_X = stan_X.values\n",
    "log_X = log_X.values\n",
    "bin_X = bin_X.values\n",
    "print(X.shape, stan_X.shape, log_X.shape, bin_X.shape)"
   ]
  },
  {
   "cell_type": "code",
   "execution_count": 34,
   "metadata": {
    "collapsed": false
   },
   "outputs": [],
   "source": [
    "from random import shuffle\n",
    "\n",
    "def quadratic_kernel(xi, xj):\n",
    "    return np.power((np.dot(xi, xj) + 1), 2)\n",
    "\n",
    "def quadratic_kernel_f(xi, X, alphai):\n",
    "    for xj in X:\n",
    "        yield alphai * quadratic_kernel(xi, xj)\n",
    "\n",
    "def quadratic_kernel_ridge_sgd(xi, yi, alphai, X, y, gamma, lr):\n",
    "    fxs = list(quadratic_kernel_f(xi, X, alphai))\n",
    "    fx = np.sum(fxs)\n",
    "    \n",
    "    z = yi * fx\n",
    "    sz = 1 / (1 + np.exp(-z))\n",
    "\n",
    "    \n",
    "    new_alpha = alphai - ((gamma * alphai) + (lr * sz * yi))\n",
    "\n",
    "    \n",
    "    loss = np.log(1 + np.exp(z)) # I changed the loss sign...\n",
    "    \n",
    " #   print(\"loss:\" , loss)\n",
    "    return new_alpha, loss\n",
    "\n",
    "def qkrsgd_wrapper(X, y, gamma, lr, num_iters):\n",
    "    shuff = list(range(len(X)))\n",
    "    shuffle(shuff)\n",
    "    alpha = np.zeros(len(X))\n",
    "    X = X[shuff]\n",
    "    y = y[shuff]\n",
    "    risks = []\n",
    "    for upper_count in range(num_iters):\n",
    "        temp_risk = []\n",
    "        for count, (xi, yi, alphai) in enumerate(zip(X, y, alpha)):\n",
    "\n",
    "            \n",
    "            \n",
    "            new_alpha, loss = quadratic_kernel_ridge_sgd(xi, yi, alphai, X, y, gamma, lr)\n",
    "            \n",
    "            \n",
    "            alpha[count] = new_alpha\n",
    "            alpha[count+1:] -= (alpha[count+1:] * gamma)\n",
    "            alpha[:count] -= (alpha[:count] * gamma)\n",
    "            temp_risk.append(loss)\n",
    "        risks.append(np.sum(temp_risk))\n",
    "    return alpha, pd.DataFrame({\"risk\":risks})"
   ]
  },
  {
   "cell_type": "code",
   "execution_count": 139,
   "metadata": {
    "collapsed": true
   },
   "outputs": [],
   "source": [
    "from random import shuffle\n",
    "\n",
    "def log_func(x):\n",
    "    return 1 / (1 + np.exp(-x))\n",
    "\n",
    "def quadratic_kernel_ridge_sgd(xi, yi, alphai, X, y, gamma, lr):\n",
    "    fx = np.sum(alphai * np.power((np.dot(xi, X.T) + 1), 2))\n",
    "    z = yi * fx\n",
    "    sz = 1 / (1 + np.exp(-z))\n",
    "    new_alpha = alphai - ((gamma * alphai) + (lr * sz * yi))\n",
    "    loss = np.log(1 + np.exp(z))\n",
    "    return new_alpha, loss\n",
    "\n",
    "def qkrsgd_train(X, y, alpha, gamma, lr):\n",
    "    temp_risk = []\n",
    "    for count, (xi, yi, alphai) in enumerate(zip(X, y, alpha)):\n",
    "        new_alpha, loss = quadratic_kernel_ridge_sgd(xi, yi, alphai, X, y, gamma, lr)\n",
    "        alpha[count] = new_alpha\n",
    "        alpha[count+1:] -= (alpha[count+1:] * gamma)\n",
    "        alpha[:count] -= (alpha[:count] * gamma)\n",
    "        temp_risk.append(loss)\n",
    "    return alpha, temp_risk\n",
    "\n",
    "def qkrsgd_test(X, y, alpha):\n",
    "    val_risk = []\n",
    "    for count, (xi, yi, alphai) in enumerate(zip(X, y, alpha)):\n",
    "        fx = np.sum(alphai * np.power((np.dot(xi, X.T) + 1), 2))\n",
    "        z = yi * fx\n",
    "        loss = np.log(1 + np.exp(z)) \n",
    "        val_risk.append(loss)\n",
    "    return np.sum(val_risk)\n",
    "    \n",
    "    \n",
    "def qkrsgd_wrapper(X, y, gamma, lr, num_iters):\n",
    "    np.random.seed(20)\n",
    "    shuff = list(range(len(X)))\n",
    "    shuffle(shuff)\n",
    "    X = X[shuff]\n",
    "    y = y[shuff]\n",
    "    traX, tray = X[:2500], y[:2500]\n",
    "    valX, valy = X[2500:], y[2500:]\n",
    "    alpha = np.zeros(len(traX))\n",
    "    risks = []\n",
    "    val_risks = []\n",
    "    for upper_count in range(num_iters):\n",
    "        #lr = 0.000001 / (1 + upper_count) # remove this to get the graph I sent to John\n",
    "        alpha, temp_risk = qkrsgd_train(traX, tray, alpha, gamma, lr)\n",
    "        risks.append(np.sum(temp_risk))\n",
    "        val_risk = qkrsgd_test(valX, valy, alpha)\n",
    "        val_risks.append(val_risk)\n",
    "    return alpha, pd.DataFrame({\n",
    "            \"training risk\":risks,\n",
    "            \"validation risk\": val_risks\n",
    "        })"
   ]
  },
  {
   "cell_type": "code",
   "execution_count": 140,
   "metadata": {
    "collapsed": false
   },
   "outputs": [],
   "source": [
    "tx,ty = stan_X[:500], y[:500]\n",
    "tx,ty = stan_X, y"
   ]
  },
  {
   "cell_type": "code",
   "execution_count": 142,
   "metadata": {
    "collapsed": false
   },
   "outputs": [
    {
     "data": {
      "text/plain": [
       "<matplotlib.axes._subplots.AxesSubplot at 0x10ee0b5f8>"
      ]
     },
     "execution_count": 142,
     "metadata": {},
     "output_type": "execute_result"
    },
    {
     "data": {
      "image/png": "[encoded data removed]",
      "text/plain": [
       "<matplotlib.figure.Figure at 0x10eef4a58>"
      ]
     },
     "metadata": {},
     "output_type": "display_data"
    }
   ],
   "source": [
    "w2, risks = qkrsgd_wrapper(tx, ty, 10e-5, 0.000001, 50)\n",
    "risks.plot()"
   ]
  },
  {
   "cell_type": "code",
   "execution_count": 143,
   "metadata": {
    "collapsed": false
   },
   "outputs": [
    {
     "data": {
      "text/plain": [
       "<matplotlib.axes._subplots.AxesSubplot at 0x10f006908>"
      ]
     },
     "execution_count": 143,
     "metadata": {},
     "output_type": "execute_result"
    },
    {
     "data": {
      "image/png": "[encoded data removed]",
      "text/plain": [
       "<matplotlib.figure.Figure at 0x10f012668>"
      ]
     },
     "metadata": {},
     "output_type": "display_data"
    }
   ],
   "source": [
    "w2, risks = qkrsgd_wrapper(tx, ty, 10e-5, 0.00001, 50)\n",
    "risks.plot()"
   ]
  },
  {
   "cell_type": "code",
   "execution_count": 136,
   "metadata": {
    "collapsed": false,
    "scrolled": false
   },
   "outputs": [
    {
     "data": {
      "text/plain": [
       "<matplotlib.axes._subplots.AxesSubplot at 0x10e8c5080>"
      ]
     },
     "execution_count": 136,
     "metadata": {},
     "output_type": "execute_result"
    },
    {
     "data": {
      "image/png": "[encoded data removed]",
      "text/plain": [
       "<matplotlib.figure.Figure at 0x10ebdf898>"
      ]
     },
     "metadata": {},
     "output_type": "display_data"
    }
   ],
   "source": [
    "w2, risks = qkrsgd_wrapper(tx, ty, 10e-5, 0.00001, 50) \n",
    "# this is the auto learning rate\n",
    "# seems to converge really fast then bounce out\n",
    "risks.plot()"
   ]
  }
 ],
 "metadata": {
  "kernelspec": {
   "display_name": "Python 3",
   "language": "python",
   "name": "python3"
  },
  "language_info": {
   "codemirror_mode": {
    "name": "ipython",
    "version": 3
   },
   "file_extension": ".py",
   "mimetype": "text/x-python",
   "name": "python",
   "nbconvert_exporter": "python",
   "pygments_lexer": "ipython3",
   "version": "3.5.0"
  }
 },
 "nbformat": 4,
 "nbformat_minor": 0
}
