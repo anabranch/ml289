{
 "cells": [
  {
   "cell_type": "code",
   "execution_count": 1,
   "metadata": {
    "collapsed": false
   },
   "outputs": [],
   "source": [
    "%matplotlib inline\n",
    "import scipy as sp\n",
    "import scipy.io\n",
    "import numpy as np\n",
    "import sklearn\n",
    "import pandas as pd\n",
    "pd.options.display.mpl_style = 'default'\n",
    "import matplotlib.pyplot as plt"
   ]
  },
  {
   "cell_type": "markdown",
   "metadata": {},
   "source": [
    "# Digits"
   ]
  },
  {
   "cell_type": "markdown",
   "metadata": {},
   "source": [
    "## Problem 1"
   ]
  },
  {
   "cell_type": "code",
   "execution_count": 2,
   "metadata": {
    "collapsed": true
   },
   "outputs": [],
   "source": [
    "from sklearn.svm import LinearSVC\n",
    "from sklearn.cross_validation import train_test_split"
   ]
  },
  {
   "cell_type": "code",
   "execution_count": 3,
   "metadata": {
    "collapsed": false
   },
   "outputs": [],
   "source": [
    "train = scipy.io.loadmat(\"data/digit-dataset/train.mat\")\n",
    "test = scipy.io.loadmat(\"data/digit-dataset/test.mat\")"
   ]
  },
  {
   "cell_type": "code",
   "execution_count": 4,
   "metadata": {
    "collapsed": false
   },
   "outputs": [
    {
     "name": "stdout",
     "output_type": "stream",
     "text": [
      "(60000, 784) (60000,)\n"
     ]
    }
   ],
   "source": [
    "X = train['train_images']\n",
    "X = X.T.reshape(60000,784)\n",
    "y = train['train_labels'].reshape(60000,)\n",
    "X_test_kaggle = test['test_images']\n",
    "print(X.shape,y.shape)"
   ]
  },
  {
   "cell_type": "code",
   "execution_count": 5,
   "metadata": {
    "collapsed": true
   },
   "outputs": [],
   "source": [
    "training_amount = [100, 200, 500, 1000, 2000, 5000, 10000]"
   ]
  },
  {
   "cell_type": "code",
   "execution_count": 6,
   "metadata": {
    "collapsed": false
   },
   "outputs": [
    {
     "name": "stdout",
     "output_type": "stream",
     "text": [
      "Completed Training of 100 for mean score of 0.63.\n",
      "Completed Training of 200 for mean score of 0.69.\n",
      "Completed Training of 500 for mean score of 0.73.\n",
      "Completed Training of 1000 for mean score of 0.75.\n",
      "Completed Training of 2000 for mean score of 0.74.\n",
      "Completed Training of 5000 for mean score of 0.77.\n",
      "Completed Training of 10000 for mean score of 0.78.\n"
     ]
    }
   ],
   "source": [
    "scoring = []\n",
    "for amnt in training_amount:\n",
    "    clf = LinearSVC()\n",
    "    X_train, X_validation, y_train, y_validation = train_test_split(\n",
    "        X, y, test_size=10000, train_size=amnt, random_state=4100)\n",
    "    clf.fit(X_train, y_train)\n",
    "    skr = clf.score(X_validation, y_validation)\n",
    "    scoring.append((amnt, skr))\n",
    "    print(\"Completed Training of %i for mean score of %.2f.\" %(amnt, skr))"
   ]
  },
  {
   "cell_type": "code",
   "execution_count": 7,
   "metadata": {
    "collapsed": false
   },
   "outputs": [
    {
     "data": {
      "text/plain": [
       "<matplotlib.axes._subplots.AxesSubplot at 0x109807dd0>"
      ]
     },
     "execution_count": 7,
     "metadata": {},
     "output_type": "execute_result"
    },
    {
     "data": {
      "image/png": "[encoded data removed]",
      "text/plain": [
       "<matplotlib.figure.Figure at 0x109807450>"
      ]
     },
     "metadata": {},
     "output_type": "display_data"
    }
   ],
   "source": [
    "scores = pd.DataFrame(scoring)\n",
    "scores.columns = [\"Train Amount\", \"Score\"]\n",
    "scores.set_index('Train Amount', inplace=True)\n",
    "scores.plot(ylim=(0.6,0.9))"
   ]
  },
  {
   "cell_type": "markdown",
   "metadata": {},
   "source": [
    "# Problem 2"
   ]
  },
  {
   "cell_type": "code",
   "execution_count": 8,
   "metadata": {
    "collapsed": true
   },
   "outputs": [],
   "source": [
    "from sklearn.metrics import confusion_matrix"
   ]
  },
  {
   "cell_type": "code",
   "execution_count": 9,
   "metadata": {
    "collapsed": false
   },
   "outputs": [],
   "source": [
    "clf = LinearSVC()\n",
    "X_train, X_validation, y_train, y_validation = train_test_split(\n",
    "        X, y, test_size=10000, train_size=amnt, random_state=4100)\n",
    "clf.fit(X_train, y_train)\n",
    "y_pred = clf.predict(X_validation)"
   ]
  },
  {
   "cell_type": "code",
   "execution_count": 10,
   "metadata": {
    "collapsed": false
   },
   "outputs": [],
   "source": [
    "# from http://scikit-learn.org/stable/auto_examples/model_selection/plot_confusion_matrix.html\n",
    "def plot_confusion_matrix(cm, title='Confusion matrix', cmap=plt.cm.Blues):\n",
    "    plt.imshow(cm, interpolation='nearest', cmap=cmap)\n",
    "    plt.title(title)\n",
    "    plt.colorbar()\n",
    "    tick_marks = np.arange(len(range(0,10)))\n",
    "    plt.xticks(tick_marks, range(0,10), rotation=45)\n",
    "    plt.yticks(tick_marks, range(0,10))\n",
    "    plt.tight_layout()\n",
    "    plt.ylabel('True label')\n",
    "    plt.xlabel('Predicted label')"
   ]
  },
  {
   "cell_type": "code",
   "execution_count": 11,
   "metadata": {
    "collapsed": false
   },
   "outputs": [
    {
     "data": {
      "text/plain": [
       "array([[ 877,    7,   20,   11,   10,   33,   21,   12,   20,   14],\n",
       "       [   0, 1066,   31,    8,    8,    5,   10,   25,   34,    8],\n",
       "       [  14,    8,  716,   31,   25,   14,   58,   32,   51,   18],\n",
       "       [   5,   28,   57,  848,    6,   95,    7,   39,   42,   45],\n",
       "       [   1,    6,   12,    4,  787,    9,   22,   14,   11,   95],\n",
       "       [  58,   31,   48,   83,   91,  683,   79,   46,  371,  132],\n",
       "       [   5,    4,   15,   14,   10,   16,  784,    3,    9,    1],\n",
       "       [   3,    1,   19,   19,   15,    5,    1,  817,   14,   63],\n",
       "       [   7,   13,   53,   19,    5,   13,    6,   10,  378,   22],\n",
       "       [   0,    0,    2,    4,   50,    7,    2,   42,   14,  593]])"
      ]
     },
     "execution_count": 11,
     "metadata": {},
     "output_type": "execute_result"
    }
   ],
   "source": [
    "confusion_matrix(y_pred, y_validation)"
   ]
  },
  {
   "cell_type": "code",
   "execution_count": 12,
   "metadata": {
    "collapsed": false
   },
   "outputs": [
    {
     "data": {
      "image/png": "[encoded data removed]",
      "text/plain": [
       "<matplotlib.figure.Figure at 0x102730410>"
      ]
     },
     "metadata": {},
     "output_type": "display_data"
    }
   ],
   "source": [
    "plot_confusion_matrix(confusion_matrix(y_pred, y_validation))"
   ]
  },
  {
   "cell_type": "markdown",
   "metadata": {},
   "source": [
    "The confusion matrix gives us insight into where our algorithm is mis-classifying the data. More precisely, it allows us to see the classes that are most confused with one another. For example, classes `5` and `8` seem to be confused a fair amount by our algorithm. A focus in the next iteration might be to try and create features that might help differentiate these two classes further."
   ]
  },
  {
   "cell_type": "markdown",
   "metadata": {},
   "source": [
    "# Problem 3\n",
    "Cross-validation is a technique that can help you avoid overfitting to your training set, or at least getting a sense of whether you are or not. The goal of any statistical/machine learning model is to generalize to previously unseen data and cross validation helps ensure that our current model isn't trained to overfit on the training and tests sets and will generalize to new data well.\n",
    "\n",
    "Cross-validation also helps us tune hyperparameters (those that affect others) to achieve and reduce overfitting. Hyperparameters are those that affect others during training of a model and are a bit arbitrary - they aren't so much learned by empircally tested."
   ]
  },
  {
   "cell_type": "code",
   "execution_count": 31,
   "metadata": {
    "collapsed": false
   },
   "outputs": [],
   "source": [
    "X_train, X_test, y_train, y_test = train_test_split(\n",
    "    X, y, test_size=10000, train_size=10000, random_state=4100)\n",
    "\n",
    "def kfolds(X, y, n_folds):\n",
    "    chunk_size = len(X)/n_folds\n",
    "    chunks = [(chunk_size * x, chunk_size * (x+1)) for x in range(n_folds)]\n",
    "    for start, end in chunks:\n",
    "        sub_X = np.concatenate([X[:start], X[end:]])\n",
    "        sub_y = np.concatenate([y[:start], y[end:]])\n",
    "        other_X = X[start:end]\n",
    "        other_y = y[start:end]\n",
    "        yield sub_X, sub_y, other_X, other_y"
   ]
  },
  {
   "cell_type": "code",
   "execution_count": 35,
   "metadata": {
    "collapsed": false
   },
   "outputs": [
    {
     "name": "stdout",
     "output_type": "stream",
     "text": [
      "C Value: 10.0000\n",
      "    Fold Number: 0\n",
      "    Score: 0.7720\n",
      "    Fold Number: 1\n",
      "    Score: 0.8010\n",
      "    Fold Number: 2\n",
      "    Score: 0.7800\n",
      "    Fold Number: 3\n",
      "    Score: 0.7800\n",
      "    Fold Number: 4\n",
      "    Score: 0.7770\n",
      "    Fold Number: 5\n",
      "    Score: 0.7560\n",
      "    Fold Number: 6\n",
      "    Score: 0.7940\n",
      "    Fold Number: 7\n",
      "    Score: 0.7750\n",
      "    Fold Number: 8\n",
      "    Score: 0.7900\n",
      "    Fold Number: 9\n",
      "    Score: 0.7560\n",
      "C Value: 2.5000\n",
      "    Fold Number: 0\n",
      "    Score: 0.7840\n",
      "    Fold Number: 1\n",
      "    Score: 0.7760\n",
      "    Fold Number: 2\n",
      "    Score: 0.7680\n",
      "    Fold Number: 3\n",
      "    Score: 0.7860\n",
      "    Fold Number: 4\n",
      "    Score: 0.7540\n",
      "    Fold Number: 5\n",
      "    Score: 0.7840\n",
      "    Fold Number: 6\n",
      "    Score: 0.7960\n",
      "    Fold Number: 7\n",
      "    Score: 0.7800\n",
      "    Fold Number: 8\n",
      "    Score: 0.7690\n",
      "    Fold Number: 9\n",
      "    Score: 0.7330\n",
      "C Value: 1.4286\n",
      "    Fold Number: 0\n",
      "    Score: 0.7790\n",
      "    Fold Number: 1\n",
      "    Score: 0.7760\n",
      "    Fold Number: 2\n",
      "    Score: 0.7720\n",
      "    Fold Number: 3\n",
      "    Score: 0.7620\n",
      "    Fold Number: 4\n",
      "    Score: 0.7860\n",
      "    Fold Number: 5\n",
      "    Score: 0.7810\n",
      "    Fold Number: 6\n",
      "    Score: 0.7560\n",
      "    Fold Number: 7\n",
      "    Score: 0.8000\n",
      "    Fold Number: 8\n",
      "    Score: 0.7650\n",
      "    Fold Number: 9\n",
      "    Score: 0.7610\n",
      "C Value: 1.0000\n",
      "    Fold Number: 0\n",
      "    Score: 0.7800\n",
      "    Fold Number: 1\n",
      "    Score: 0.7700\n",
      "    Fold Number: 2\n",
      "    Score: 0.7450\n",
      "    Fold Number: 3\n",
      "    Score: 0.7760\n",
      "    Fold Number: 4\n",
      "    Score: 0.7520\n",
      "    Fold Number: 5\n",
      "    Score: 0.7560\n",
      "    Fold Number: 6\n",
      "    Score: 0.7800\n",
      "    Fold Number: 7\n",
      "    Score: 0.7980\n",
      "    Fold Number: 8\n",
      "    Score: 0.7920\n",
      "    Fold Number: 9\n",
      "    Score: 0.7680\n",
      "C Value: 0.7692\n",
      "    Fold Number: 0\n",
      "    Score: 0.7690\n",
      "    Fold Number: 1\n",
      "    Score: 0.7890\n",
      "    Fold Number: 2\n",
      "    Score: 0.7670\n",
      "    Fold Number: 3\n",
      "    Score: 0.7850\n",
      "    Fold Number: 4\n",
      "    Score: 0.7780\n",
      "    Fold Number: 5\n",
      "    Score: 0.7910\n",
      "    Fold Number: 6\n",
      "    Score: 0.7780\n",
      "    Fold Number: 7\n",
      "    Score: 0.8050\n",
      "    Fold Number: 8\n",
      "    Score: 0.7980\n",
      "    Fold Number: 9\n",
      "    Score: 0.7460\n",
      "C Value: 0.6250\n",
      "    Fold Number: 0\n",
      "    Score: 0.7790\n",
      "    Fold Number: 1\n",
      "    Score: 0.7970\n",
      "    Fold Number: 2\n",
      "    Score: 0.7790\n",
      "    Fold Number: 3\n",
      "    Score: 0.7790\n",
      "    Fold Number: 4\n",
      "    Score: 0.7610\n",
      "    Fold Number: 5\n",
      "    Score: 0.7600\n",
      "    Fold Number: 6\n",
      "    Score: 0.7960\n",
      "    Fold Number: 7\n",
      "    Score: 0.8040\n",
      "    Fold Number: 8\n",
      "    Score: 0.7920\n",
      "    Fold Number: 9\n",
      "    Score: 0.7730\n",
      "C Value: 0.5263\n",
      "    Fold Number: 0\n",
      "    Score: 0.7720\n",
      "    Fold Number: 1\n",
      "    Score: 0.8030\n",
      "    Fold Number: 2\n",
      "    Score: 0.7810\n",
      "    Fold Number: 3\n",
      "    Score: 0.7460\n",
      "    Fold Number: 4\n",
      "    Score: 0.7820\n",
      "    Fold Number: 5\n",
      "    Score: 0.7670\n",
      "    Fold Number: 6\n",
      "    Score: 0.7950\n",
      "    Fold Number: 7\n",
      "    Score: 0.8130\n",
      "    Fold Number: 8\n",
      "    Score: 0.7750\n",
      "    Fold Number: 9\n",
      "    Score: 0.7490\n",
      "C Value: 0.4545\n",
      "    Fold Number: 0\n",
      "    Score: 0.7150\n",
      "    Fold Number: 1\n",
      "    Score: 0.7390\n",
      "    Fold Number: 2\n",
      "    Score: 0.7840\n",
      "    Fold Number: 3\n",
      "    Score: 0.7630\n",
      "    Fold Number: 4\n",
      "    Score: 0.7850\n",
      "    Fold Number: 5\n",
      "    Score: 0.7740\n",
      "    Fold Number: 6\n",
      "    Score: 0.7710\n",
      "    Fold Number: 7\n",
      "    Score: 0.8040\n",
      "    Fold Number: 8\n",
      "    Score: 0.7870\n",
      "    Fold Number: 9\n",
      "    Score: 0.7730\n",
      "C Value: 0.4000\n",
      "    Fold Number: 0\n",
      "    Score: 0.7900\n",
      "    Fold Number: 1\n",
      "    Score: 0.7850\n",
      "    Fold Number: 2\n",
      "    Score: 0.7730\n",
      "    Fold Number: 3\n",
      "    Score: 0.7390\n",
      "    Fold Number: 4\n",
      "    Score: 0.7740\n",
      "    Fold Number: 5\n",
      "    Score: 0.7540\n",
      "    Fold Number: 6\n",
      "    Score: 0.7760\n",
      "    Fold Number: 7\n",
      "    Score: 0.7680\n",
      "    Fold Number: 8\n",
      "    Score: 0.7710\n",
      "    Fold Number: 9\n",
      "    Score: 0.7650\n",
      "C Value: 0.3571\n",
      "    Fold Number: 0\n",
      "    Score: 0.7370\n",
      "    Fold Number: 1\n",
      "    Score: 0.7730\n",
      "    Fold Number: 2\n",
      "    Score: 0.7760\n",
      "    Fold Number: 3\n",
      "    Score: 0.7620\n",
      "    Fold Number: 4\n",
      "    Score: 0.8000\n",
      "    Fold Number: 5\n",
      "    Score: 0.7720\n",
      "    Fold Number: 6\n",
      "    Score: 0.7830\n",
      "    Fold Number: 7\n",
      "    Score: 0.7940\n",
      "    Fold Number: 8\n",
      "    Score: 0.7970\n",
      "    Fold Number: 9\n",
      "    Score: 0.7300\n"
     ]
    }
   ],
   "source": [
    "results = {}\n",
    "for C in [10/x for x in range(1, 30, 3)]:\n",
    "    clf = LinearSVC(C=C)\n",
    "    scores = []\n",
    "    print(\"C Value: %.4f\" % C)\n",
    "    for count, (X_1, y_1, X_2, y_2) in enumerate(kfolds(X_train, y_train, 10)):\n",
    "        clf.fit(X_1, y_1)\n",
    "        score = clf.score(X_2, y_2)\n",
    "        scores.append(score)\n",
    "        print(\"    Fold Number: %i, Score: %.4f\" % count, score)\n",
    "    results[C] = scores\n",
    "    for k, v in results.items():\n",
    "        print(k, np.array(v).mean())"
   ]
  },
  {
   "cell_type": "code",
   "execution_count": 39,
   "metadata": {
    "collapsed": false
   },
   "outputs": [
    {
     "name": "stdout",
     "output_type": "stream",
     "text": [
      "0.35714285714285715 0.7724 0.00051184\n",
      "0.4 0.7695 0.00019305\n",
      "0.45454545454545453 0.7695 0.00059245\n",
      "0.5263157894736842 0.7783 0.00041941\n",
      "0.625 0.782 0.0002038\n",
      "0.7692307692307693 0.7806 0.00026264\n",
      "1.0 0.7717 0.00026241\n",
      "1.4285714285714286 0.7738 0.00016196\n",
      "2.5 0.773 0.0003\n",
      "10.0 0.7781 0.00019509\n"
     ]
    }
   ],
   "source": [
    "\n",
    "for k, v in sorted(results.items()):\n",
    "    print(k, np.array(v).mean(),np.array(v).var())"
   ]
  },
  {
   "cell_type": "code",
   "execution_count": null,
   "metadata": {
    "collapsed": true
   },
   "outputs": [],
   "source": [
    "# Submitting this to kaggle"
   ]
  },
  {
   "cell_type": "markdown",
   "metadata": {},
   "source": [
    "# Problem 4"
   ]
  },
  {
   "cell_type": "code",
   "execution_count": null,
   "metadata": {
    "collapsed": true
   },
   "outputs": [],
   "source": [
    "train_spam = scipy.io.loadmat(\"data/\")\n",
    "test_spam = scipy.io.loadmat(\"data/digit-dataset/test.mat\")"
   ]
  }
 ],
 "metadata": {
  "kernelspec": {
   "display_name": "Python 3",
   "language": "python",
   "name": "python3"
  },
  "language_info": {
   "codemirror_mode": {
    "name": "ipython",
    "version": 3
   },
   "file_extension": ".py",
   "mimetype": "text/x-python",
   "name": "python",
   "nbconvert_exporter": "python",
   "pygments_lexer": "ipython3",
   "version": "3.3.2"
  }
 },
 "nbformat": 4,
 "nbformat_minor": 0
}
