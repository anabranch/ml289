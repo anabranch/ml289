{
 "cells": [
  {
   "cell_type": "code",
   "execution_count": 1,
   "metadata": {
    "collapsed": false
   },
   "outputs": [],
   "source": [
    "%matplotlib inline\n",
    "import numpy as np\n",
    "import pandas as pd\n",
    "import scipy as sp\n",
    "import scipy.io\n",
    "import matplotlib.pyplot as plt\n",
    "from matplotlib.pyplot import gca\n",
    "from matplotlib import cm, mlab\n",
    "from mpl_toolkits.mplot3d import Axes3D\n",
    "from IPython.display import Image"
   ]
  },
  {
   "cell_type": "markdown",
   "metadata": {},
   "source": [
    "# 1"
   ]
  },
  {
   "cell_type": "markdown",
   "metadata": {},
   "source": [
    "## a"
   ]
  },
  {
   "cell_type": "code",
   "execution_count": null,
   "metadata": {
    "collapsed": false
   },
   "outputs": [],
   "source": [
    "Image(filename=\"1a.png\")"
   ]
  },
  {
   "cell_type": "markdown",
   "metadata": {},
   "source": [
    "## b"
   ]
  },
  {
   "cell_type": "code",
   "execution_count": null,
   "metadata": {
    "collapsed": false
   },
   "outputs": [],
   "source": [
    "housing_data = scipy.io.loadmat(\"data/housing_data.mat\")\n",
    "raw_x_train = pd.DataFrame(housing_data['Xtrain'])\n",
    "raw_y_train = pd.DataFrame(housing_data['Ytrain'])\n",
    "raw_x_validate = pd.DataFrame(housing_data['Xvalidate'])\n",
    "raw_y_validate = pd.DataFrame(housing_data['Yvalidate'])\n",
    "print(raw_x_train.shape, raw_y_train.shape)\n",
    "print( raw_x_validate.shape,raw_y_validate.shape)"
   ]
  },
  {
   "cell_type": "code",
   "execution_count": null,
   "metadata": {
    "collapsed": false
   },
   "outputs": [],
   "source": [
    "raw_x_train[9] = 1 # bias term or normalize :)\n",
    "raw_x_validate[9] = 1\n",
    "print(raw_x_train.shape, raw_y_train.shape)\n",
    "print(raw_x_validate.shape, raw_y_validate.shape)\n",
    "X_train = raw_x_train.values\n",
    "y_train = raw_y_train.values\n",
    "X_val = raw_x_validate.values\n",
    "y_val = raw_y_validate.values"
   ]
  },
  {
   "cell_type": "code",
   "execution_count": null,
   "metadata": {
    "collapsed": false
   },
   "outputs": [],
   "source": [
    "def kfolds(X, y, n_folds):\n",
    "    chunk_size = len(X)/n_folds\n",
    "    chunks = [(chunk_size * x, chunk_size * (x+1)) for x in range(n_folds)]\n",
    "    for start, end in chunks:\n",
    "        sub_X = np.concatenate([X[:start], X[end:]])\n",
    "        sub_y = np.concatenate([y[:start], y[end:]])\n",
    "        other_X = X[start:end]\n",
    "        other_y = y[start:end]\n",
    "        yield sub_X, sub_y, other_X, other_y\n",
    "        \n",
    "def get_results(y_hat, y_val):\n",
    "    rss = np.sum((y_val - y_hat) ** 2)\n",
    "    tss = np.sum((y_val - np.mean(y_val)) ** 2)\n",
    "    r_sqrd = 1 - (rss/tss)\n",
    "    return rss, r_sqrd\n",
    "\n",
    "def train_model(X, y, lamb):\n",
    "    lamby = lamb * np.ones(len(X.T))\n",
    "    front = np.dot(X.T, X)\n",
    "    invert_me = front + lamby\n",
    "    inv = np.linalg.inv(invert_me)\n",
    "    return inv.dot(np.dot(X.T, y))\n",
    "\n",
    "# w = np.dot(np.dot(np.linalg.inv(np.dot(X_train.T, X_train)), X_train.T), y_train)\n",
    "# print(w.reshape((9,)))\n",
    "# y_hat = np.dot(X_val,w)"
   ]
  },
  {
   "cell_type": "code",
   "execution_count": null,
   "metadata": {
    "collapsed": false
   },
   "outputs": [],
   "source": [
    "all_scores = {}\n",
    "for lamb in [10e-1, 10e-2, 10e-3, 10e-4, 10e-5, 10e-6, 10e-7, 10e-8]:\n",
    "    print(\"Lambda Value: \", lamb)\n",
    "    scores = []\n",
    "    for count, (X_1, y_1, X_2, y_2) in enumerate(kfolds(X_train, y_train, 10)):\n",
    "        w = train_model(X_1, y_1, lamb)\n",
    "        y_hat = np.dot(X_2, w)\n",
    "        rss, r_sqrd = get_results(y_hat, y_2)\n",
    "        scores.append(rss)\n",
    "    print(\"Mean RSS of: %.2f and variance of %.2f\" % (np.array(scores).mean(), np.array(scores).var()))\n",
    "    all_scores[lamb] = scores"
   ]
  },
  {
   "cell_type": "code",
   "execution_count": null,
   "metadata": {
    "collapsed": false
   },
   "outputs": [],
   "source": [
    "pd.DataFrame(all_scores).mean(axis=0)"
   ]
  },
  {
   "cell_type": "code",
   "execution_count": null,
   "metadata": {
    "collapsed": false
   },
   "outputs": [],
   "source": [
    "best_lambda = pd.DataFrame(all_scores).mean(axis=0).idxmin()\n",
    "print(best_lambda)\n",
    "print(\"Best Lambda Value:\", best_lambda)"
   ]
  },
  {
   "cell_type": "code",
   "execution_count": null,
   "metadata": {
    "collapsed": false
   },
   "outputs": [],
   "source": [
    "pd.DataFrame(all_scores).min(axis=0)"
   ]
  },
  {
   "cell_type": "code",
   "execution_count": null,
   "metadata": {
    "collapsed": false,
    "scrolled": false
   },
   "outputs": [],
   "source": [
    "pd.DataFrame(all_scores).min(axis=0).plot(kind='bar')"
   ]
  },
  {
   "cell_type": "code",
   "execution_count": null,
   "metadata": {
    "collapsed": false
   },
   "outputs": [],
   "source": [
    "ws = train_model(X_train, y_train, best_lambda)\n",
    "y_hat = np.dot(X_val, ws)\n",
    "pd.DataFrame(ws[:8]).plot() # removed bias\n",
    "rss = np.sum((y_val - y_hat) ** 2)\n",
    "tss = np.sum((y_val - np.mean(y_val)) ** 2)\n",
    "r_sqrd = 1 - (rss/tss)\n",
    "print(\"RSS: %i\" % rss)\n",
    "print(\"R^2: %.3f\" % r_sqrd)\n",
    "print(\"Range of y Hat Values => Min: %i Max: %i\" %(min(y_hat), max(y_hat)))\n",
    "print(\"Range of True Y Values => Min: %i Max: %i\" %(min(y_val), max(y_val)))"
   ]
  },
  {
   "cell_type": "markdown",
   "metadata": {},
   "source": [
    "Old Values:\n",
    "\n",
    "RSS: 5794953797676\n",
    "\n",
    "R^2: 0.643\n",
    "\n",
    "Range of y Hat Values => Min: -56562 Max: 710798\n",
    "\n",
    "Range of True Y Values => Min: 28300 Max: 500001\n"
   ]
  },
  {
   "cell_type": "markdown",
   "metadata": {},
   "source": [
    "## HW3 Plot\n",
    "We can see that they're roughly the same except for the fact that the newer graph is just a but more squished in - which is what we would expect from using shrinkage."
   ]
  },
  {
   "cell_type": "code",
   "execution_count": null,
   "metadata": {
    "collapsed": false
   },
   "outputs": [],
   "source": [
    "Image(filename='hw3_plot.png') "
   ]
  },
  {
   "cell_type": "markdown",
   "metadata": {},
   "source": [
    "error terms."
   ]
  },
  {
   "cell_type": "code",
   "execution_count": null,
   "metadata": {
    "collapsed": false
   },
   "outputs": [],
   "source": [
    "pd.Series((y_val - y_hat).reshape((1200,))).plot(kind='hist', bins=20)"
   ]
  },
  {
   "cell_type": "markdown",
   "metadata": {},
   "source": [
    "# 2\n",
    "\n",
    "## 2.a \n",
    "\n",
    "$$1/36$$\n",
    "\n",
    "\n",
    "## 2.b\n",
    "\n",
    "$$ p  + (1 - p) = 1 $$\n",
    "$$ p^* = 1 - (1 - p)^3 $$\n",
    "$$ p^* = 1 - (35/36)^3 $$\n",
    "$$ p^* = .081039952 $$\n",
    "\n",
    "## 2.c\n",
    "Here's what we need to calculate.\n",
    "\n",
    "$$ P(x \\leq 203) = (1000 choose 203) 0.5 ^{203} (1-0.5)^{1000-203} $$\n",
    "\n",
    "However this is obviously inefficient computationally, so we've got to approximate the binomial with the normal distribution with the continuity correction.\n"
   ]
  },
  {
   "cell_type": "code",
   "execution_count": null,
   "metadata": {
    "collapsed": false
   },
   "outputs": [],
   "source": [
    "n = 1000\n",
    "p = 0.5\n",
    "mu = n * p\n",
    "sigma = np.sqrt(1000 * 0.5 * (1-0.5))\n",
    "z = (203.5 - mu)/sigma\n",
    "print(z)"
   ]
  },
  {
   "cell_type": "markdown",
   "metadata": {},
   "source": [
    "The $ p < 0.00001 $ making it a simple matter to reject the null hypothesis[that there is no difference between the errors of our algorithm and our competitors]."
   ]
  },
  {
   "cell_type": "markdown",
   "metadata": {},
   "source": [
    "\n",
    "\n",
    "## 2.d \n",
    "With more trials, we are more likely to get a 0.05 p-value or lower. Therefore we cannot reject the null hypothesis without adjusting our critical value accordingly.\n",
    "\n",
    "## 2.e\n",
    "Just like with our dice roll above, with repeated trails we are changing the probabilities. We're effectively rolling the dice several times and we've got to correct for that.\n",
    "\n",
    "$$ p_{significant} + p_{not-significant} = 1$$\n",
    "\n",
    "$$p_s = 1 - (1 - p_s)^m$$\n",
    "\n",
    "Just like above, as $m$ increases $(1-p_s)$ will approach 0 and $p_s$ will approach 1. We can correct for this by  multiplying our returned p-value by m trials. As m increases to infinity, this will cause p_s to now approach zero, eliminating any possible chance of false discovery rate (and consequentially positive rates). That is to say, the Bonferroni correction prevents false positives, but doesn't prevent false negatives. This is why it's often called too conservative.\n",
    "\n",
    "\n",
    "## 2.f\n",
    "\n",
    "Although we get a small value, due to the Bonferroni Correction, this gene is not significant because we get a p-value of 5. A p-value of 5 shows us that the Bonferroni correction acts as an upper bound on our probability. Because the corrected p value is so high, we can safely reject that this variable is significant."
   ]
  },
  {
   "cell_type": "markdown",
   "metadata": {},
   "source": [
    "# 3"
   ]
  },
  {
   "cell_type": "code",
   "execution_count": null,
   "metadata": {
    "collapsed": false
   },
   "outputs": [],
   "source": [
    "Image(\"3.png\")"
   ]
  },
  {
   "cell_type": "markdown",
   "metadata": {},
   "source": [
    "## 3.c (part 2)\n",
    "\n",
    "A data set that would reflect this would be where a companies best customers are either young and male or old and female, but not both. This dataset is not linearly separable in the conventional space by a method like a perceptron. However this might be linearly seperable in some phi-space, which is why we might approach this problem with a kernel."
   ]
  },
  {
   "cell_type": "markdown",
   "metadata": {},
   "source": [
    "# 4"
   ]
  },
  {
   "cell_type": "markdown",
   "metadata": {},
   "source": [
    "## 4.a"
   ]
  },
  {
   "cell_type": "code",
   "execution_count": null,
   "metadata": {
    "collapsed": false,
    "scrolled": false
   },
   "outputs": [],
   "source": [
    "delta = 0.025\n",
    "x = np.arange(-4.0, 7.0, delta)\n",
    "y = np.arange(-4.0, 5.0, delta)\n",
    "X, Y = np.meshgrid(x, y)\n",
    "Z = mlab.bivariate_normal(X, Y, sigmax=2, sigmay=1.0, mux=1, muy=1, sigmaxy=0.0)\n",
    "fig = plt.figure()\n",
    "ax = fig.gca(projection='3d')\n",
    "CS = plt.contour(X, Y, Z)\n",
    "plt.show()\n",
    "fig = plt.figure()\n",
    "CS = plt.contour(X, Y, Z)\n",
    "plt.show()"
   ]
  },
  {
   "cell_type": "markdown",
   "metadata": {},
   "source": [
    "## 4.b"
   ]
  },
  {
   "cell_type": "code",
   "execution_count": null,
   "metadata": {
    "collapsed": false
   },
   "outputs": [],
   "source": [
    "delta = 0.025\n",
    "x = np.arange(-10.0, 7.0, delta)\n",
    "y = np.arange(-4.0, 8.0, delta)\n",
    "X, Y = np.meshgrid(x, y)\n",
    "Z = mlab.bivariate_normal(X, Y, sigmax=3, sigmay=2.0, mux=-1, muy=2, sigmaxy=1.0)\n",
    "fig = plt.figure()\n",
    "ax = fig.gca(projection='3d')\n",
    "CS = plt.contour(X, Y, Z)\n",
    "plt.show()\n",
    "fig = plt.figure()\n",
    "CS = plt.contour(X, Y, Z)\n",
    "plt.show()"
   ]
  },
  {
   "cell_type": "markdown",
   "metadata": {},
   "source": [
    "## 4.c"
   ]
  },
  {
   "cell_type": "code",
   "execution_count": null,
   "metadata": {
    "collapsed": false
   },
   "outputs": [],
   "source": [
    "delta = 0.025\n",
    "x = np.arange(-10.0, 7.0, delta)\n",
    "y = np.arange(-10.0, 10.0, delta)\n",
    "X, Y = np.meshgrid(x, y)\n",
    "Z1 = mlab.bivariate_normal(X, Y, sigmax=1, sigmay=2.0, mux=0, muy=2, sigmaxy=1.0)\n",
    "Z2 = mlab.bivariate_normal(X, Y, sigmax=1, sigmay=2.0, mux=2, muy=0, sigmaxy=1.0)\n",
    "Z = Z1 - Z2\n",
    "fig = plt.figure()\n",
    "ax = fig.gca(projection='3d')\n",
    "CS = plt.contour(X, Y, Z)\n",
    "plt.show()\n",
    "fig = plt.figure()\n",
    "CS = plt.contour(X, Y, Z)\n",
    "plt.show()"
   ]
  },
  {
   "cell_type": "markdown",
   "metadata": {},
   "source": [
    "## 4.d"
   ]
  },
  {
   "cell_type": "code",
   "execution_count": null,
   "metadata": {
    "collapsed": false
   },
   "outputs": [],
   "source": [
    "delta = 0.025\n",
    "x = np.arange(-5.0, 7.0, delta)\n",
    "y = np.arange(-5.0, 10.0, delta)\n",
    "X, Y = np.meshgrid(x, y)\n",
    "Z1 = mlab.bivariate_normal(X, Y, sigmax=1, sigmay=2.0, mux=0, muy=2, sigmaxy=1.0)\n",
    "Z2 = mlab.bivariate_normal(X, Y, sigmax=3, sigmay=2.0, mux=2, muy=0, sigmaxy=1.0)\n",
    "Z = Z1 - Z2\n",
    "fig = plt.figure()\n",
    "ax = fig.gca(projection='3d')\n",
    "CS = plt.contour(X, Y, Z)\n",
    "plt.show()\n",
    "fig = plt.figure()\n",
    "CS = plt.contour(X, Y, Z)\n",
    "plt.show()"
   ]
  },
  {
   "cell_type": "markdown",
   "metadata": {},
   "source": [
    "## 4.e"
   ]
  },
  {
   "cell_type": "code",
   "execution_count": null,
   "metadata": {
    "collapsed": false
   },
   "outputs": [],
   "source": [
    "delta = 0.025\n",
    "x = np.arange(-5.0, 7.0, delta)\n",
    "y = np.arange(-5.0, 10.0, delta)\n",
    "X, Y = np.meshgrid(x, y)\n",
    "Z1 = mlab.bivariate_normal(X, Y, sigmax=1, sigmay=2.0, mux=1, muy=1, sigmaxy=0.0)\n",
    "Z2 = mlab.bivariate_normal(X, Y, sigmax=2, sigmay=2.0, mux=-1, muy=-1, sigmaxy=1.0)\n",
    "Z = Z1 - Z2\n",
    "fig = plt.figure()\n",
    "ax = fig.gca(projection='3d')\n",
    "CS = plt.contour(X, Y, Z)\n",
    "plt.show()\n",
    "fig = plt.figure()\n",
    "CS = plt.contour(X, Y, Z)\n",
    "plt.show()"
   ]
  },
  {
   "cell_type": "markdown",
   "metadata": {},
   "source": [
    "# 5"
   ]
  },
  {
   "cell_type": "markdown",
   "metadata": {},
   "source": [
    "## 5.a"
   ]
  },
  {
   "cell_type": "code",
   "execution_count": null,
   "metadata": {
    "collapsed": false
   },
   "outputs": [],
   "source": [
    "N = 100\n",
    "np.random.seed(20)\n",
    "x1s = np.random.normal(3,np.sqrt(9), 100)\n",
    "x2s = 1/2*x1s + np.random.normal(4, np.sqrt(4), 100)\n",
    "\n",
    "print(\"Mean X_1:\", np.mean(x1s))\n",
    "print(\"Mean X_2:\", np.mean(x2s))\n",
    "df = pd.DataFrame({\"x1\": x1s, \"x2\": x2s})"
   ]
  },
  {
   "cell_type": "markdown",
   "metadata": {},
   "source": [
    "## 5.b"
   ]
  },
  {
   "cell_type": "code",
   "execution_count": null,
   "metadata": {
    "collapsed": false
   },
   "outputs": [],
   "source": [
    "df.cov()"
   ]
  },
  {
   "cell_type": "markdown",
   "metadata": {},
   "source": [
    "## 5.c"
   ]
  },
  {
   "cell_type": "code",
   "execution_count": null,
   "metadata": {
    "collapsed": false
   },
   "outputs": [],
   "source": [
    "eig_vals, eig_vecs = np.linalg.eig(df.cov().values) # quiver functions to get arrows\n",
    "print(eig_vecs)\n",
    "print(eig_vals)"
   ]
  },
  {
   "cell_type": "markdown",
   "metadata": {},
   "source": [
    "## 5.d"
   ]
  },
  {
   "cell_type": "code",
   "execution_count": null,
   "metadata": {
    "collapsed": false,
    "scrolled": false
   },
   "outputs": [],
   "source": [
    "hw = 15\n",
    "df.plot(x=\"x1\", y='x2', kind='scatter', ylim=(-hw,hw),xlim=(-hw,hw))\n",
    "x, y = df.x1.mean(), df.x2.mean()\n",
    "u1, v1 = eig_vecs[:,0] * eig_vals[0]\n",
    "u2, v2 = eig_vecs[:,1] * eig_vals[1]\n",
    "plt.quiver(x, y, u1, v1, angles='xy', scale_units='xy',scale=1,color='r')\n",
    "plt.quiver(x, y, u2, v2, angles='xy', scale_units='xy',scale=1,color='g')"
   ]
  },
  {
   "cell_type": "markdown",
   "metadata": {},
   "source": [
    "## 5.e"
   ]
  },
  {
   "cell_type": "code",
   "execution_count": null,
   "metadata": {
    "collapsed": true
   },
   "outputs": [],
   "source": []
  },
  {
   "cell_type": "markdown",
   "metadata": {},
   "source": [
    "# 6 "
   ]
  },
  {
   "cell_type": "code",
   "execution_count": null,
   "metadata": {
    "collapsed": true
   },
   "outputs": [],
   "source": []
  },
  {
   "cell_type": "markdown",
   "metadata": {},
   "source": [
    "# 7"
   ]
  },
  {
   "cell_type": "code",
   "execution_count": 2,
   "metadata": {
    "collapsed": false
   },
   "outputs": [
    {
     "name": "stdout",
     "output_type": "stream",
     "text": [
      "(50000, 784) (50000,) (10000, 784) (10000,)\n"
     ]
    }
   ],
   "source": [
    "from scipy.stats import multivariate_normal\n",
    "\n",
    "dig_train = scipy.io.loadmat(\"data/train.mat\")\n",
    "dig_X = dig_train['train_images'].T.reshape((60000,784))\n",
    "dig_y = dig_train['train_labels'].reshape(60000,)\n",
    "shuff = np.arange(len(dig_y))\n",
    "np.random.shuffle(shuff)\n",
    "dig_X_train = dig_X[shuff]/255\n",
    "dig_y_train = dig_y[shuff]\n",
    "dig_val_X = dig_X_train[50000:]\n",
    "dig_val_y = dig_y_train[50000:]\n",
    "dig_X_train = dig_X_train[:50000]\n",
    "dig_y_train = dig_y_train[:50000]\n",
    "\n",
    "\n",
    "dig_test = scipy.io.loadmat(\"data/test.mat\")\n",
    "dig_X_test = dig_test['test_images']\n",
    "dig_y_test = dig_test['test_labels'].reshape((10000))\n",
    "\n",
    "print(dig_X_train.shape,dig_y_train.shape, dig_X_test.shape, dig_y_test.shape) # make sure our shapes are good"
   ]
  },
  {
   "cell_type": "markdown",
   "metadata": {},
   "source": [
    "## 7.a"
   ]
  },
  {
   "cell_type": "markdown",
   "metadata": {},
   "source": [
    "The maximum likelihood estimates for the mean and the covariance matrix of a Gaussian"
   ]
  },
  {
   "cell_type": "code",
   "execution_count": null,
   "metadata": {
    "collapsed": false
   },
   "outputs": [],
   "source": [
    "# optional manipulations\n",
    "# dig_X_train = dig_X_train / np.linalg.norm(dig_X_train, 2)\n",
    "# dig_X_test = dig_X_test / np.linalg.norm(dig_X_test, 2)"
   ]
  },
  {
   "cell_type": "markdown",
   "metadata": {},
   "source": [
    "## 7.b\n",
    "\n",
    "You can compute priors by seeing the density of a given value in the training set."
   ]
  },
  {
   "cell_type": "code",
   "execution_count": 3,
   "metadata": {
    "collapsed": false
   },
   "outputs": [
    {
     "data": {
      "text/plain": [
       "1    0.11196\n",
       "7    0.10396\n",
       "3    0.10236\n",
       "9    0.10004\n",
       "6    0.09924\n",
       "2    0.09920\n",
       "0    0.09782\n",
       "8    0.09746\n",
       "4    0.09696\n",
       "5    0.09100\n",
       "dtype: float64"
      ]
     },
     "execution_count": 3,
     "metadata": {},
     "output_type": "execute_result"
    }
   ],
   "source": [
    "priors = pd.Series(dig_y_train).value_counts() / len(dig_y_train)\n",
    "priors"
   ]
  },
  {
   "cell_type": "code",
   "execution_count": 4,
   "metadata": {
    "collapsed": false
   },
   "outputs": [],
   "source": [
    "means = {}\n",
    "for num in range(10):\n",
    "    means[num] = dig_X_train[dig_y_train == num].mean(axis=0)"
   ]
  },
  {
   "cell_type": "markdown",
   "metadata": {},
   "source": [
    "## 7.c"
   ]
  },
  {
   "cell_type": "code",
   "execution_count": null,
   "metadata": {
    "collapsed": true
   },
   "outputs": [],
   "source": [
    "import seaborn as sns"
   ]
  },
  {
   "cell_type": "code",
   "execution_count": null,
   "metadata": {
    "collapsed": false
   },
   "outputs": [],
   "source": [
    "sns.heatmap(np.cov(X[y == 0].T))"
   ]
  },
  {
   "cell_type": "markdown",
   "metadata": {},
   "source": [
    "These visualizations show how the various pixels covary with one another. We can see that the pixels in the middle are fairly consistent, but since we're looking at a zero. They tend to vary together along the edges of the image."
   ]
  },
  {
   "cell_type": "markdown",
   "metadata": {},
   "source": [
    "## 7.d"
   ]
  },
  {
   "cell_type": "markdown",
   "metadata": {},
   "source": [
    "### i"
   ]
  },
  {
   "cell_type": "code",
   "execution_count": 7,
   "metadata": {
    "collapsed": false
   },
   "outputs": [],
   "source": [
    "def get_mu_sigma(X_, y_, labels, alpha):\n",
    "    mus = []\n",
    "    for label in labels:\n",
    "        vals = X_[y_ == label]\n",
    "        mus.append(np.mean(vals, axis=0))\n",
    "    sigma = np.cov(X_.T)\n",
    "    np.fill_diagonal(sigma, alpha + np.diag(sigma))\n",
    "    return mus, sigma\n",
    "\n",
    "def train_gaussian(mus, sigma, labels):\n",
    "    classes = []\n",
    "    for label in labels:\n",
    "        model = multivariate_normal(mus[label], sigma)\n",
    "        classes.append((label, model))\n",
    "    return classes\n",
    "\n",
    "def classify_gaussian(labels_models, X):\n",
    "    outputs = []\n",
    "    for label, model in labels_models:\n",
    "        outputs.append(model.logpdf(X))\n",
    "    return np.array(outputs).argmax(axis=0)\n",
    "\n",
    "def test_gaussian(labels_models, X, y):\n",
    "    y_hat = classify_gaussian(labels_models, X)\n",
    "    return np.sum(y != y_hat) / len(y)\n",
    "\n",
    "def run_mv(X_, y_, test_X, test_Y, alpha):\n",
    "    error_rates = []\n",
    "    test_error_rates = []\n",
    "    trial_amounts = [100, 200, 500, 1000, 2000, 5000, 10000, 30000, 50000]\n",
    "    for x in trial_amounts:\n",
    "        Xs = X_[:x]\n",
    "        Ys = y_[:x]\n",
    "        mus, sigma = get_mu_sigma(Xs, Ys, range(10), alpha)\n",
    "        classes = train_gaussian(mus, sigma, range(10))\n",
    "        print(\"Trained on \", len(Xs))\n",
    "        error_rate = test_gaussian(classes, X_, y_)\n",
    "        test_error_rate = test_gaussian(classes, test_X, test_Y)\n",
    "        print(error_rate,test_error_rate)\n",
    "        error_rates.append(error_rate)\n",
    "        test_error_rates.append(test_error_rate)\n",
    "    return {\"train_error\":error_rates, \n",
    "            \"vaidation_error\": test_error_rates, \n",
    "            \"train_amount\": trial_amounts}"
   ]
  },
  {
   "cell_type": "code",
   "execution_count": 5,
   "metadata": {
    "collapsed": false
   },
   "outputs": [
    {
     "name": "stdout",
     "output_type": "stream",
     "text": [
      "Trained on  100\n",
      "0.4156 0.4108\n",
      "Trained on  200\n",
      "0.44724 0.4418\n",
      "Trained on  500\n",
      "0.42746 0.434\n",
      "Trained on  1000\n",
      "0.32954 0.3396\n",
      "Trained on  2000\n",
      "0.2586 0.2697\n",
      "Trained on  5000\n",
      "0.21236 0.2204\n",
      "Trained on  10000\n",
      "0.19344 0.199\n",
      "Trained on  30000\n",
      "0.1812 0.1895\n",
      "Trained on  50000\n",
      "0.18014 0.1868\n"
     ]
    }
   ],
   "source": [
    "errors = run_mv(dig_X_train, dig_y_train, dig_val_X, dig_val_y, 0.001)"
   ]
  },
  {
   "cell_type": "code",
   "execution_count": 6,
   "metadata": {
    "collapsed": false
   },
   "outputs": [
    {
     "data": {
      "text/html": [
       "<div>\n",
       "<table border=\"1\" class=\"dataframe\">\n",
       "  <thead>\n",
       "    <tr style=\"text-align: right;\">\n",
       "      <th></th>\n",
       "      <th>train_amount</th>\n",
       "      <th>train_error</th>\n",
       "      <th>vaidation_error</th>\n",
       "    </tr>\n",
       "  </thead>\n",
       "  <tbody>\n",
       "    <tr>\n",
       "      <th>0</th>\n",
       "      <td>100</td>\n",
       "      <td>0.41560</td>\n",
       "      <td>0.4108</td>\n",
       "    </tr>\n",
       "    <tr>\n",
       "      <th>1</th>\n",
       "      <td>200</td>\n",
       "      <td>0.44724</td>\n",
       "      <td>0.4418</td>\n",
       "    </tr>\n",
       "    <tr>\n",
       "      <th>2</th>\n",
       "      <td>500</td>\n",
       "      <td>0.42746</td>\n",
       "      <td>0.4340</td>\n",
       "    </tr>\n",
       "    <tr>\n",
       "      <th>3</th>\n",
       "      <td>1000</td>\n",
       "      <td>0.32954</td>\n",
       "      <td>0.3396</td>\n",
       "    </tr>\n",
       "    <tr>\n",
       "      <th>4</th>\n",
       "      <td>2000</td>\n",
       "      <td>0.25860</td>\n",
       "      <td>0.2697</td>\n",
       "    </tr>\n",
       "    <tr>\n",
       "      <th>5</th>\n",
       "      <td>5000</td>\n",
       "      <td>0.21236</td>\n",
       "      <td>0.2204</td>\n",
       "    </tr>\n",
       "    <tr>\n",
       "      <th>6</th>\n",
       "      <td>10000</td>\n",
       "      <td>0.19344</td>\n",
       "      <td>0.1990</td>\n",
       "    </tr>\n",
       "    <tr>\n",
       "      <th>7</th>\n",
       "      <td>30000</td>\n",
       "      <td>0.18120</td>\n",
       "      <td>0.1895</td>\n",
       "    </tr>\n",
       "    <tr>\n",
       "      <th>8</th>\n",
       "      <td>50000</td>\n",
       "      <td>0.18014</td>\n",
       "      <td>0.1868</td>\n",
       "    </tr>\n",
       "  </tbody>\n",
       "</table>\n",
       "</div>"
      ],
      "text/plain": [
       "   train_amount  train_error  vaidation_error\n",
       "0           100      0.41560           0.4108\n",
       "1           200      0.44724           0.4418\n",
       "2           500      0.42746           0.4340\n",
       "3          1000      0.32954           0.3396\n",
       "4          2000      0.25860           0.2697\n",
       "5          5000      0.21236           0.2204\n",
       "6         10000      0.19344           0.1990\n",
       "7         30000      0.18120           0.1895\n",
       "8         50000      0.18014           0.1868"
      ]
     },
     "execution_count": 6,
     "metadata": {},
     "output_type": "execute_result"
    },
    {
     "data": {
      "image/png": "[encoded data removed]",
      "text/plain": [
       "<matplotlib.figure.Figure at 0x107e90668>"
      ]
     },
     "metadata": {},
     "output_type": "display_data"
    }
   ],
   "source": [
    "pd.DataFrame(errors).plot(x='train_amount')\n",
    "pd.DataFrame(errors)"
   ]
  },
  {
   "cell_type": "markdown",
   "metadata": {},
   "source": [
    "The form of the decision boundary is linear because we assume that each grouping/class/cluster has the same variance. This is because they all occupy the same fundamental amount space in our X-space, we're basically drawing linear boundaries in between each class and all the others."
   ]
  },
  {
   "cell_type": "markdown",
   "metadata": {},
   "source": [
    "### ii"
   ]
  },
  {
   "cell_type": "code",
   "execution_count": 8,
   "metadata": {
    "collapsed": true
   },
   "outputs": [],
   "source": [
    "def get_mu_sigma2(X_, y_, labels, alpha):\n",
    "    mus = []\n",
    "    sigmas = []\n",
    "    for label in labels:\n",
    "        vals = X_[y_ == label]\n",
    "        mus.append(np.mean(vals, axis=0))\n",
    "        sigma = np.cov(vals.T)\n",
    "        np.fill_diagonal(sigma, alpha + np.diag(sigma))\n",
    "        sigmas.append(sigma)\n",
    "    return mus, sigmas\n",
    "\n",
    "def train_gaussian2(mus, sigmas, labels):\n",
    "    classes = []\n",
    "    for label in labels:\n",
    "        model = multivariate_normal(mus[label], sigmas[label])\n",
    "        classes.append((label, model))\n",
    "    return classes\n",
    "\n",
    "def run_mv2(X_, y_, test_X, test_Y, alpha):\n",
    "    error_rates = []\n",
    "    test_error_rates = []\n",
    "    trial_amounts = [100, 200, 500, 1000, 2000, 5000, 10000, 30000, 50000]\n",
    "    for x in trial_amounts:\n",
    "        Xs = X_[:x]\n",
    "        Ys = y_[:x]\n",
    "        mus, sigmas = get_mu_sigma2(Xs, Ys, range(10), alpha)\n",
    "        classes = train_gaussian2(mus, sigmas, range(10))\n",
    "        print(\"Trained on \", len(Xs))\n",
    "        error_rate = test_gaussian(classes, X_, y_)\n",
    "        test_error_rate = test_gaussian(classes, test_X, test_Y)\n",
    "        print(error_rate,test_error_rate)\n",
    "        error_rates.append(error_rate)\n",
    "        test_error_rates.append(test_error_rate)\n",
    "    return {\"train_error\":error_rates, \n",
    "            \"test_error\": test_error_rates, \n",
    "            \"train_amount\": trial_amounts}"
   ]
  },
  {
   "cell_type": "code",
   "execution_count": 9,
   "metadata": {
    "collapsed": false
   },
   "outputs": [
    {
     "name": "stdout",
     "output_type": "stream",
     "text": [
      "Trained on  100\n",
      "0.31134 0.3085\n",
      "Trained on  200\n",
      "0.21584 0.2124\n",
      "Trained on  500\n",
      "0.1605 0.1635\n",
      "Trained on  1000\n",
      "0.11532 0.1193\n",
      "Trained on  2000\n",
      "0.11732 0.1251\n",
      "Trained on  5000\n",
      "0.1112 0.1259\n",
      "Trained on  10000\n",
      "0.0984 0.1257\n",
      "Trained on  30000\n",
      "0.08536 0.1252\n",
      "Trained on  50000\n",
      "0.0829 0.1233\n"
     ]
    }
   ],
   "source": [
    "errors = run_mv2(dig_X_train, dig_y_train, dig_val_X, dig_val_y, 0.001)"
   ]
  },
  {
   "cell_type": "code",
   "execution_count": 10,
   "metadata": {
    "collapsed": false
   },
   "outputs": [
    {
     "data": {
      "text/html": [
       "<div>\n",
       "<table border=\"1\" class=\"dataframe\">\n",
       "  <thead>\n",
       "    <tr style=\"text-align: right;\">\n",
       "      <th></th>\n",
       "      <th>test_error</th>\n",
       "      <th>train_amount</th>\n",
       "      <th>train_error</th>\n",
       "    </tr>\n",
       "  </thead>\n",
       "  <tbody>\n",
       "    <tr>\n",
       "      <th>0</th>\n",
       "      <td>0.3085</td>\n",
       "      <td>100</td>\n",
       "      <td>0.31134</td>\n",
       "    </tr>\n",
       "    <tr>\n",
       "      <th>1</th>\n",
       "      <td>0.2124</td>\n",
       "      <td>200</td>\n",
       "      <td>0.21584</td>\n",
       "    </tr>\n",
       "    <tr>\n",
       "      <th>2</th>\n",
       "      <td>0.1635</td>\n",
       "      <td>500</td>\n",
       "      <td>0.16050</td>\n",
       "    </tr>\n",
       "    <tr>\n",
       "      <th>3</th>\n",
       "      <td>0.1193</td>\n",
       "      <td>1000</td>\n",
       "      <td>0.11532</td>\n",
       "    </tr>\n",
       "    <tr>\n",
       "      <th>4</th>\n",
       "      <td>0.1251</td>\n",
       "      <td>2000</td>\n",
       "      <td>0.11732</td>\n",
       "    </tr>\n",
       "    <tr>\n",
       "      <th>5</th>\n",
       "      <td>0.1259</td>\n",
       "      <td>5000</td>\n",
       "      <td>0.11120</td>\n",
       "    </tr>\n",
       "    <tr>\n",
       "      <th>6</th>\n",
       "      <td>0.1257</td>\n",
       "      <td>10000</td>\n",
       "      <td>0.09840</td>\n",
       "    </tr>\n",
       "    <tr>\n",
       "      <th>7</th>\n",
       "      <td>0.1252</td>\n",
       "      <td>30000</td>\n",
       "      <td>0.08536</td>\n",
       "    </tr>\n",
       "    <tr>\n",
       "      <th>8</th>\n",
       "      <td>0.1233</td>\n",
       "      <td>50000</td>\n",
       "      <td>0.08290</td>\n",
       "    </tr>\n",
       "  </tbody>\n",
       "</table>\n",
       "</div>"
      ],
      "text/plain": [
       "   test_error  train_amount  train_error\n",
       "0      0.3085           100      0.31134\n",
       "1      0.2124           200      0.21584\n",
       "2      0.1635           500      0.16050\n",
       "3      0.1193          1000      0.11532\n",
       "4      0.1251          2000      0.11732\n",
       "5      0.1259          5000      0.11120\n",
       "6      0.1257         10000      0.09840\n",
       "7      0.1252         30000      0.08536\n",
       "8      0.1233         50000      0.08290"
      ]
     },
     "execution_count": 10,
     "metadata": {},
     "output_type": "execute_result"
    },
    {
     "data": {
      "image/png": "[encoded data removed]",
      "text/plain": [
       "<matplotlib.figure.Figure at 0x10534dbe0>"
      ]
     },
     "metadata": {},
     "output_type": "display_data"
    }
   ],
   "source": [
    "pd.DataFrame(errors).plot(x='train_amount')\n",
    "pd.DataFrame(errors)"
   ]
  },
  {
   "cell_type": "markdown",
   "metadata": {},
   "source": [
    "This is a non-linear decision boundary because we vary our covariance matrix with the class. This makes it non-linear because th progressions are not constant and can interweave more than they could with a constant covariance matrix."
   ]
  },
  {
   "cell_type": "markdown",
   "metadata": {},
   "source": [
    "### iii\n",
    "\n",
    "The difference between these two is whether or not we assume they fundamentally share the same covariance matrix(i) or if they have their own individual covariance matrices(ii). When we assume that each class has its own covariance matrix we can see that some samples of our data seem to be better representations than others, for example the 500 and 1000 sets have a very small training and test error. This means that they generalize better than the 5000 sample that we pulled.\n",
    "\n",
    "### iv"
   ]
  },
  {
   "cell_type": "code",
   "execution_count": 11,
   "metadata": {
    "collapsed": false
   },
   "outputs": [
    {
     "data": {
      "text/plain": [
       "(10000, 784)"
      ]
     },
     "execution_count": 11,
     "metadata": {},
     "output_type": "execute_result"
    }
   ],
   "source": [
    "dig_kaggle_X = scipy.io.loadmat(\"kaggle/test.mat\")['test_images']/255\n",
    "dig_kaggle_X.shape"
   ]
  },
  {
   "cell_type": "code",
   "execution_count": 15,
   "metadata": {
    "collapsed": false,
    "scrolled": false
   },
   "outputs": [],
   "source": [
    "mus, sigma = get_mu_sigma(dig_X_train, dig_y_train, range(10), 0.001)\n",
    "classes = train_gaussian(mus, sigma, range(10))\n",
    "y_hat = classify_gaussian(classes, dig_kaggle_X)"
   ]
  },
  {
   "cell_type": "code",
   "execution_count": 16,
   "metadata": {
    "collapsed": false
   },
   "outputs": [],
   "source": [
    "yh = pd.DataFrame({\"Category\":y_hat, \"Id\":range(1,1+len(y_hat))})\n",
    "yh.to_csv(\"out.csv\",index=False)"
   ]
  },
  {
   "cell_type": "markdown",
   "metadata": {},
   "source": [
    "## 7.e"
   ]
  },
  {
   "cell_type": "code",
   "execution_count": 53,
   "metadata": {
    "collapsed": false
   },
   "outputs": [
    {
     "name": "stdout",
     "output_type": "stream",
     "text": [
      "(5172, 32) (5172,)\n",
      "(4000, 32) (4000,) (1172, 32)\n"
     ]
    }
   ],
   "source": [
    "from scipy.stats import multivariate_normal\n",
    "\n",
    "spam_train = scipy.io.loadmat(\"data/spam_data.mat\")\n",
    "spam_X = spam_train['training_data']\n",
    "spam_y = spam_train['training_labels'].T.reshape((5172,))\n",
    "print(spam_X.shape, spam_y.shape)\n",
    "shuff = np.arange(len(spam_y))\n",
    "np.random.shuffle(shuff)\n",
    "spam_X_train = spam_X[shuff]\n",
    "spam_y_train = spam_y[shuff]\n",
    "train_test_amount = 4000\n",
    "spam_val_X = spam_X_train[train_test_amount:]\n",
    "spam_val_y = spam_y_train[train_test_amount:]\n",
    "spam_X_train = spam_X_train[:train_test_amount]\n",
    "spam_y_train = spam_y_train[:train_test_amount]\n",
    "\n",
    "spam_X_test = spam_train['test_data']\n",
    "\n",
    "print(spam_X_train.shape,spam_y_train.shape, spam_val_X.shape) # make sure our shapes are good"
   ]
  },
  {
   "cell_type": "code",
   "execution_count": 60,
   "metadata": {
    "collapsed": true
   },
   "outputs": [],
   "source": [
    "def run_mv_spam(X_, y_, test_X, test_Y, alpha):\n",
    "    error_rates = []\n",
    "    test_error_rates = []\n",
    "    trial_amounts = [100, 200, 500, 1000, 2000, 4000]\n",
    "    for x in trial_amounts:\n",
    "        Xs = X_[:x]\n",
    "        Ys = y_[:x]\n",
    "        mus, sigma = get_mu_sigma(Xs, Ys, range(2), alpha)\n",
    "        classes = train_gaussian(mus, sigma, range(2))\n",
    "        print(\"Trained on \", len(Xs))\n",
    "        error_rate = test_gaussian(classes, X_, y_)\n",
    "        test_error_rate = test_gaussian(classes, test_X, test_Y)\n",
    "        print(error_rate,test_error_rate)\n",
    "        error_rates.append(error_rate)\n",
    "        test_error_rates.append(test_error_rate)\n",
    "    return {\"train_error\":error_rates, \n",
    "            \"vaidation_error\": test_error_rates, \n",
    "            \"train_amount\": trial_amounts}\n",
    "\n",
    "def run_mv2_spam(X_, y_, test_X, test_Y, alpha):\n",
    "    error_rates = []\n",
    "    test_error_rates = []\n",
    "    trial_amounts = [100, 200, 500, 1000, 2000, 4000]\n",
    "    for x in trial_amounts:\n",
    "        Xs = X_[:x]\n",
    "        Ys = y_[:x]\n",
    "        mus, sigmas = get_mu_sigma2(Xs, Ys, range(2), alpha)\n",
    "        classes = train_gaussian2(mus, sigmas, range(2))\n",
    "        print(\"Trained on \", len(Xs))\n",
    "        error_rate = test_gaussian(classes, X_, y_)\n",
    "        test_error_rate = test_gaussian(classes, test_X, test_Y)\n",
    "        print(error_rate,test_error_rate)\n",
    "        error_rates.append(error_rate)\n",
    "        test_error_rates.append(test_error_rate)\n",
    "    return {\"train_error\":error_rates, \n",
    "            \"test_error\": test_error_rates, \n",
    "            \"train_amount\": trial_amounts}"
   ]
  },
  {
   "cell_type": "code",
   "execution_count": 61,
   "metadata": {
    "collapsed": false
   },
   "outputs": [
    {
     "name": "stdout",
     "output_type": "stream",
     "text": [
      "Trained on  100\n",
      "0.247 0.244880546075\n",
      "Trained on  200\n",
      "0.21525 0.215017064846\n",
      "Trained on  500\n",
      "0.213 0.212457337884\n",
      "Trained on  1000\n",
      "0.19675 0.189419795222\n",
      "Trained on  2000\n",
      "0.19725 0.189419795222\n",
      "Trained on  4000\n",
      "0.19325 0.189419795222\n"
     ]
    },
    {
     "data": {
      "text/html": [
       "<div>\n",
       "<table border=\"1\" class=\"dataframe\">\n",
       "  <thead>\n",
       "    <tr style=\"text-align: right;\">\n",
       "      <th></th>\n",
       "      <th>train_amount</th>\n",
       "      <th>train_error</th>\n",
       "      <th>vaidation_error</th>\n",
       "    </tr>\n",
       "  </thead>\n",
       "  <tbody>\n",
       "    <tr>\n",
       "      <th>0</th>\n",
       "      <td>100</td>\n",
       "      <td>0.24700</td>\n",
       "      <td>0.244881</td>\n",
       "    </tr>\n",
       "    <tr>\n",
       "      <th>1</th>\n",
       "      <td>200</td>\n",
       "      <td>0.21525</td>\n",
       "      <td>0.215017</td>\n",
       "    </tr>\n",
       "    <tr>\n",
       "      <th>2</th>\n",
       "      <td>500</td>\n",
       "      <td>0.21300</td>\n",
       "      <td>0.212457</td>\n",
       "    </tr>\n",
       "    <tr>\n",
       "      <th>3</th>\n",
       "      <td>1000</td>\n",
       "      <td>0.19675</td>\n",
       "      <td>0.189420</td>\n",
       "    </tr>\n",
       "    <tr>\n",
       "      <th>4</th>\n",
       "      <td>2000</td>\n",
       "      <td>0.19725</td>\n",
       "      <td>0.189420</td>\n",
       "    </tr>\n",
       "    <tr>\n",
       "      <th>5</th>\n",
       "      <td>4000</td>\n",
       "      <td>0.19325</td>\n",
       "      <td>0.189420</td>\n",
       "    </tr>\n",
       "  </tbody>\n",
       "</table>\n",
       "</div>"
      ],
      "text/plain": [
       "   train_amount  train_error  vaidation_error\n",
       "0           100      0.24700         0.244881\n",
       "1           200      0.21525         0.215017\n",
       "2           500      0.21300         0.212457\n",
       "3          1000      0.19675         0.189420\n",
       "4          2000      0.19725         0.189420\n",
       "5          4000      0.19325         0.189420"
      ]
     },
     "execution_count": 61,
     "metadata": {},
     "output_type": "execute_result"
    },
    {
     "data": {
      "image/png": "[encoded data removed]",
      "text/plain": [
       "<matplotlib.figure.Figure at 0x10d2718d0>"
      ]
     },
     "metadata": {},
     "output_type": "display_data"
    }
   ],
   "source": [
    "errors = run_mv_spam(spam_X_train, spam_y_train, spam_val_X, spam_val_y, 0.001)\n",
    "pd.DataFrame(errors).plot(x='train_amount')\n",
    "pd.DataFrame(errors)"
   ]
  },
  {
   "cell_type": "code",
   "execution_count": 62,
   "metadata": {
    "collapsed": false
   },
   "outputs": [
    {
     "name": "stdout",
     "output_type": "stream",
     "text": [
      "Trained on  100\n",
      "0.264 0.255972696246\n",
      "Trained on  200\n",
      "0.27975 0.285836177474\n",
      "Trained on  500\n",
      "0.2115 0.20819112628\n",
      "Trained on  1000\n",
      "0.2075 0.212457337884\n",
      "Trained on  2000\n",
      "0.206 0.210750853242\n",
      "Trained on  4000\n",
      "0.206 0.20819112628\n"
     ]
    },
    {
     "data": {
      "text/html": [
       "<div>\n",
       "<table border=\"1\" class=\"dataframe\">\n",
       "  <thead>\n",
       "    <tr style=\"text-align: right;\">\n",
       "      <th></th>\n",
       "      <th>test_error</th>\n",
       "      <th>train_amount</th>\n",
       "      <th>train_error</th>\n",
       "    </tr>\n",
       "  </thead>\n",
       "  <tbody>\n",
       "    <tr>\n",
       "      <th>0</th>\n",
       "      <td>0.255973</td>\n",
       "      <td>100</td>\n",
       "      <td>0.26400</td>\n",
       "    </tr>\n",
       "    <tr>\n",
       "      <th>1</th>\n",
       "      <td>0.285836</td>\n",
       "      <td>200</td>\n",
       "      <td>0.27975</td>\n",
       "    </tr>\n",
       "    <tr>\n",
       "      <th>2</th>\n",
       "      <td>0.208191</td>\n",
       "      <td>500</td>\n",
       "      <td>0.21150</td>\n",
       "    </tr>\n",
       "    <tr>\n",
       "      <th>3</th>\n",
       "      <td>0.212457</td>\n",
       "      <td>1000</td>\n",
       "      <td>0.20750</td>\n",
       "    </tr>\n",
       "    <tr>\n",
       "      <th>4</th>\n",
       "      <td>0.210751</td>\n",
       "      <td>2000</td>\n",
       "      <td>0.20600</td>\n",
       "    </tr>\n",
       "    <tr>\n",
       "      <th>5</th>\n",
       "      <td>0.208191</td>\n",
       "      <td>4000</td>\n",
       "      <td>0.20600</td>\n",
       "    </tr>\n",
       "  </tbody>\n",
       "</table>\n",
       "</div>"
      ],
      "text/plain": [
       "   test_error  train_amount  train_error\n",
       "0    0.255973           100      0.26400\n",
       "1    0.285836           200      0.27975\n",
       "2    0.208191           500      0.21150\n",
       "3    0.212457          1000      0.20750\n",
       "4    0.210751          2000      0.20600\n",
       "5    0.208191          4000      0.20600"
      ]
     },
     "execution_count": 62,
     "metadata": {},
     "output_type": "execute_result"
    },
    {
     "data": {
      "image/png": "[encoded data removed]",
      "text/plain": [
       "<matplotlib.figure.Figure at 0x10b719320>"
      ]
     },
     "metadata": {},
     "output_type": "display_data"
    }
   ],
   "source": [
    "errors = run_mv2_spam(spam_X_train, spam_y_train, spam_val_X, spam_val_y, 0.001)\n",
    "pd.DataFrame(errors).plot(x='train_amount')\n",
    "pd.DataFrame(errors)"
   ]
  },
  {
   "cell_type": "code",
   "execution_count": 64,
   "metadata": {
    "collapsed": false
   },
   "outputs": [],
   "source": [
    "mus, sigma = get_mu_sigma2(spam_X_train, spam_y_train, range(2), 0.001)\n",
    "classes = train_gaussian2(mus, sigma, range(2))\n",
    "y_hat = classify_gaussian(classes, spam_X_test)\n"
   ]
  },
  {
   "cell_type": "code",
   "execution_count": 65,
   "metadata": {
    "collapsed": true
   },
   "outputs": [],
   "source": [
    "yh = pd.DataFrame({\"Category\":y_hat, \"Id\":range(1,1+len(y_hat))})\n",
    "yh.to_csv(\"out_spam2.csv\",index=False)"
   ]
  },
  {
   "cell_type": "code",
   "execution_count": 58,
   "metadata": {
    "collapsed": true
   },
   "outputs": [],
   "source": []
  },
  {
   "cell_type": "code",
   "execution_count": null,
   "metadata": {
    "collapsed": true
   },
   "outputs": [],
   "source": []
  }
 ],
 "metadata": {
  "kernelspec": {
   "display_name": "Python 3",
   "language": "python",
   "name": "python3"
  },
  "language_info": {
   "codemirror_mode": {
    "name": "ipython",
    "version": 3
   },
   "file_extension": ".py",
   "mimetype": "text/x-python",
   "name": "python",
   "nbconvert_exporter": "python",
   "pygments_lexer": "ipython3",
   "version": "3.5.0"
  }
 },
 "nbformat": 4,
 "nbformat_minor": 0
}
